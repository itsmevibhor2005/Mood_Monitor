{
 "cells": [
  {
   "cell_type": "markdown",
   "id": "e79a44bb-42c8-4ace-8d71-770c06522bfc",
   "metadata": {
    "id": "e79a44bb-42c8-4ace-8d71-770c06522bfc"
   },
   "source": [
    "# Pandas Exercises"
   ]
  },
  {
   "cell_type": "markdown",
   "id": "1d26ef1e-3c49-4a46-a4c5-b68825d5a953",
   "metadata": {
    "id": "1d26ef1e-3c49-4a46-a4c5-b68825d5a953"
   },
   "source": [
    "## Creating DataFrames and Using Sample Data Sets"
   ]
  },
  {
   "cell_type": "markdown",
   "id": "bc5dd17f-4431-4655-b2c5-ea537e23223c",
   "metadata": {
    "id": "bc5dd17f-4431-4655-b2c5-ea537e23223c"
   },
   "source": [
    "This is the Jupyter Notebook runnable exercises version of the article, [Pandas Practice Questions – Fifty-Two Examples to Make You an Expert](https://codesolid.com/pandas-practice-questions-twenty-one-examples-to-make-you-an-expert/)."
   ]
  },
  {
   "cell_type": "code",
   "execution_count": 1,
   "id": "df91e92f-5f2b-4e98-81f7-84e7478ed432",
   "metadata": {
    "id": "df91e92f-5f2b-4e98-81f7-84e7478ed432"
   },
   "outputs": [],
   "source": [
    "import pandas as pd\n",
    "import numpy as np\n",
    "import seaborn as sb\n",
    "import matplotlib.pyplot as plt"
   ]
  },
  {
   "cell_type": "markdown",
   "id": "6950cc47-3cc0-4565-8df1-d01741b7ea5f",
   "metadata": {
    "id": "6950cc47-3cc0-4565-8df1-d01741b7ea5f"
   },
   "source": [
    "**1.** Using NumPy, create a Pandas DataFrame with five rows and three columms:"
   ]
  },
  {
   "cell_type": "code",
   "execution_count": 2,
   "id": "dd1a5014-d17e-4fd0-b7a2-db261a53a02a",
   "metadata": {
    "id": "dd1a5014-d17e-4fd0-b7a2-db261a53a02a"
   },
   "outputs": [
    {
     "data": {
      "text/html": [
       "<div>\n",
       "<style scoped>\n",
       "    .dataframe tbody tr th:only-of-type {\n",
       "        vertical-align: middle;\n",
       "    }\n",
       "\n",
       "    .dataframe tbody tr th {\n",
       "        vertical-align: top;\n",
       "    }\n",
       "\n",
       "    .dataframe thead th {\n",
       "        text-align: right;\n",
       "    }\n",
       "</style>\n",
       "<table border=\"1\" class=\"dataframe\">\n",
       "  <thead>\n",
       "    <tr style=\"text-align: right;\">\n",
       "      <th></th>\n",
       "      <th>name</th>\n",
       "      <th>marks</th>\n",
       "      <th>city</th>\n",
       "    </tr>\n",
       "  </thead>\n",
       "  <tbody>\n",
       "    <tr>\n",
       "      <th>0</th>\n",
       "      <td>harry</td>\n",
       "      <td>92</td>\n",
       "      <td>rampur</td>\n",
       "    </tr>\n",
       "    <tr>\n",
       "      <th>1</th>\n",
       "      <td>rohan</td>\n",
       "      <td>34</td>\n",
       "      <td>kolkata</td>\n",
       "    </tr>\n",
       "    <tr>\n",
       "      <th>2</th>\n",
       "      <td>skillf</td>\n",
       "      <td>24</td>\n",
       "      <td>bareilly</td>\n",
       "    </tr>\n",
       "    <tr>\n",
       "      <th>3</th>\n",
       "      <td>shubh</td>\n",
       "      <td>17</td>\n",
       "      <td>antarctica</td>\n",
       "    </tr>\n",
       "  </tbody>\n",
       "</table>\n",
       "</div>"
      ],
      "text/plain": [
       "     name  marks        city\n",
       "0   harry     92      rampur\n",
       "1   rohan     34     kolkata\n",
       "2  skillf     24    bareilly\n",
       "3   shubh     17  antarctica"
      ]
     },
     "execution_count": 2,
     "metadata": {},
     "output_type": "execute_result"
    }
   ],
   "source": [
    "dict1 = {\n",
    "\"name\": ['harry', 'rohan', 'skillf', 'shubh'],\n",
    "\"marks\": [92, 34, 24, 17],\n",
    "\"city\": ['rampur'\n",
    ", 'kolkata', 'bareilly', 'antarctica']\n",
    "}\n",
    "df=pd.DataFrame(dict1)\n",
    "df"
   ]
  },
  {
   "cell_type": "markdown",
   "id": "9c74f94d-4adf-403d-a2c4-9efd200ba5b2",
   "metadata": {
    "id": "9c74f94d-4adf-403d-a2c4-9efd200ba5b2"
   },
   "source": [
    "**2.** For a Pandas DataFrame created from a NumPy array, what is the default behavior for the labels for the columns?  For the rows?"
   ]
  },
  {
   "cell_type": "markdown",
   "id": "e7508b50-d724-47a7-8272-9ba040cd9c65",
   "metadata": {
    "id": "e7508b50-d724-47a7-8272-9ba040cd9c65"
   },
   "source": []
  },
  {
   "cell_type": "markdown",
   "id": "1a20442a-ea2c-4d32-877b-bfe5ae349318",
   "metadata": {
    "id": "1a20442a-ea2c-4d32-877b-bfe5ae349318"
   },
   "source": [
    "**3.** Create a second DataFrame as above with five rows and three columns, setting the row labels to the names of any five major US cities and the column labels to the first three months of the year."
   ]
  },
  {
   "cell_type": "code",
   "execution_count": 3,
   "id": "02686eae-cba2-4180-94ff-4dc85eca0731",
   "metadata": {
    "id": "02686eae-cba2-4180-94ff-4dc85eca0731"
   },
   "outputs": [
    {
     "data": {
      "text/html": [
       "<div>\n",
       "<style scoped>\n",
       "    .dataframe tbody tr th:only-of-type {\n",
       "        vertical-align: middle;\n",
       "    }\n",
       "\n",
       "    .dataframe tbody tr th {\n",
       "        vertical-align: top;\n",
       "    }\n",
       "\n",
       "    .dataframe thead th {\n",
       "        text-align: right;\n",
       "    }\n",
       "</style>\n",
       "<table border=\"1\" class=\"dataframe\">\n",
       "  <thead>\n",
       "    <tr style=\"text-align: right;\">\n",
       "      <th></th>\n",
       "      <th>January</th>\n",
       "      <th>February</th>\n",
       "      <th>March</th>\n",
       "    </tr>\n",
       "  </thead>\n",
       "  <tbody>\n",
       "    <tr>\n",
       "      <th>buffalo</th>\n",
       "      <td>harry</td>\n",
       "      <td>92</td>\n",
       "      <td>rampur</td>\n",
       "    </tr>\n",
       "    <tr>\n",
       "      <th>washington dc</th>\n",
       "      <td>rohan</td>\n",
       "      <td>34</td>\n",
       "      <td>kolkata</td>\n",
       "    </tr>\n",
       "    <tr>\n",
       "      <th>chicago</th>\n",
       "      <td>skillf</td>\n",
       "      <td>24</td>\n",
       "      <td>bareilly</td>\n",
       "    </tr>\n",
       "    <tr>\n",
       "      <th>sanfransisco</th>\n",
       "      <td>shubh</td>\n",
       "      <td>17</td>\n",
       "      <td>antarctica</td>\n",
       "    </tr>\n",
       "    <tr>\n",
       "      <th>New York</th>\n",
       "      <td>sanket</td>\n",
       "      <td>8</td>\n",
       "      <td>kota</td>\n",
       "    </tr>\n",
       "  </tbody>\n",
       "</table>\n",
       "</div>"
      ],
      "text/plain": [
       "              January  February       March\n",
       "buffalo         harry        92      rampur\n",
       "washington dc   rohan        34     kolkata\n",
       "chicago        skillf        24    bareilly\n",
       "sanfransisco    shubh        17  antarctica\n",
       "New York       sanket         8        kota"
      ]
     },
     "execution_count": 3,
     "metadata": {},
     "output_type": "execute_result"
    }
   ],
   "source": [
    "dict2 = {\n",
    "\"January\": ['harry', 'rohan', 'skillf', 'shubh','sanket'],\n",
    "\"February\": [92, 34, 24, 17,8],\n",
    "\"March\": ['rampur'\n",
    ", 'kolkata', 'bareilly', 'antarctica','kota']\n",
    "}\n",
    "df=pd.DataFrame(dict2)\n",
    "df.index=[\"buffalo\",\"washington dc\",\"chicago\",\"sanfransisco\",\"New York\"]\n",
    "df"
   ]
  },
  {
   "cell_type": "markdown",
   "id": "f6c2f45b-0fea-49bf-98a0-572d594a0680",
   "metadata": {
    "id": "f6c2f45b-0fea-49bf-98a0-572d594a0680"
   },
   "source": [
    "**4.** You recall that the Seaborn package has some data sets built in, but can't remember how to list and load them. Assuming the functions to do so have \"data\" in the name, how might you locate them?  You can assume a Jupyter Notebook / IPython environment and explain the process, or write the code to do it in Python."
   ]
  },
  {
   "cell_type": "code",
   "execution_count": 4,
   "id": "24b4870e-aac0-4716-8b57-938c672e832e",
   "metadata": {},
   "outputs": [
    {
     "data": {
      "text/plain": [
       "['FacetGrid',\n",
       " 'JointGrid',\n",
       " 'PairGrid',\n",
       " '__builtins__',\n",
       " '__cached__',\n",
       " '__doc__',\n",
       " '__file__',\n",
       " '__loader__',\n",
       " '__name__',\n",
       " '__package__',\n",
       " '__path__',\n",
       " '__spec__',\n",
       " '__version__',\n",
       " '_base',\n",
       " '_compat',\n",
       " '_core',\n",
       " '_docstrings',\n",
       " '_orig_rc_params',\n",
       " '_statistics',\n",
       " '_stats',\n",
       " 'algorithms',\n",
       " 'axes_style',\n",
       " 'axisgrid',\n",
       " 'barplot',\n",
       " 'blend_palette',\n",
       " 'boxenplot',\n",
       " 'boxplot',\n",
       " 'categorical',\n",
       " 'catplot',\n",
       " 'choose_colorbrewer_palette',\n",
       " 'choose_cubehelix_palette',\n",
       " 'choose_dark_palette',\n",
       " 'choose_diverging_palette',\n",
       " 'choose_light_palette',\n",
       " 'clustermap',\n",
       " 'cm',\n",
       " 'color_palette',\n",
       " 'colors',\n",
       " 'countplot',\n",
       " 'crayon_palette',\n",
       " 'crayons',\n",
       " 'cubehelix_palette',\n",
       " 'dark_palette',\n",
       " 'desaturate',\n",
       " 'despine',\n",
       " 'displot',\n",
       " 'distplot',\n",
       " 'distributions',\n",
       " 'diverging_palette',\n",
       " 'dogplot',\n",
       " 'ecdfplot',\n",
       " 'external',\n",
       " 'get_data_home',\n",
       " 'get_dataset_names',\n",
       " 'heatmap',\n",
       " 'histplot',\n",
       " 'hls_palette',\n",
       " 'husl_palette',\n",
       " 'jointplot',\n",
       " 'kdeplot',\n",
       " 'light_palette',\n",
       " 'lineplot',\n",
       " 'lmplot',\n",
       " 'load_dataset',\n",
       " 'matrix',\n",
       " 'miscplot',\n",
       " 'move_legend',\n",
       " 'mpl',\n",
       " 'mpl_palette',\n",
       " 'pairplot',\n",
       " 'palettes',\n",
       " 'palplot',\n",
       " 'plotting_context',\n",
       " 'pointplot',\n",
       " 'rcmod',\n",
       " 'regplot',\n",
       " 'regression',\n",
       " 'relational',\n",
       " 'relplot',\n",
       " 'reset_defaults',\n",
       " 'reset_orig',\n",
       " 'residplot',\n",
       " 'rugplot',\n",
       " 'saturate',\n",
       " 'scatterplot',\n",
       " 'set',\n",
       " 'set_color_codes',\n",
       " 'set_context',\n",
       " 'set_hls_values',\n",
       " 'set_palette',\n",
       " 'set_style',\n",
       " 'set_theme',\n",
       " 'stripplot',\n",
       " 'swarmplot',\n",
       " 'utils',\n",
       " 'violinplot',\n",
       " 'widgets',\n",
       " 'xkcd_palette',\n",
       " 'xkcd_rgb']"
      ]
     },
     "execution_count": 4,
     "metadata": {},
     "output_type": "execute_result"
    }
   ],
   "source": [
    "import seaborn as sns\n",
    "dir(sns)\n"
   ]
  },
  {
   "cell_type": "markdown",
   "id": "70efcde8-cd73-4d61-8534-e6a3c469dbff",
   "metadata": {
    "id": "70efcde8-cd73-4d61-8534-e6a3c469dbff"
   },
   "source": [
    "## Loading data from CSV"
   ]
  },
  {
   "cell_type": "markdown",
   "id": "00214582-1340-4700-99b5-9f36afce3e16",
   "metadata": {
    "id": "00214582-1340-4700-99b5-9f36afce3e16"
   },
   "source": [
    "**5**. Zillow home data is available at this URL: https://files.zillowstatic.com/research/public_csvs/zhvi/Metro_zhvi_uc_sfrcondo_tier_0.33_0.67_sm_sa_month.csv\n",
    "\n",
    "Open this file as a DataFrame named df_homes in Pandas."
   ]
  },
  {
   "cell_type": "code",
   "execution_count": 5,
   "id": "2838d3d2-5f1c-4e97-aab6-c7236ced82ad",
   "metadata": {
    "id": "2838d3d2-5f1c-4e97-aab6-c7236ced82ad"
   },
   "outputs": [
    {
     "name": "stdout",
     "output_type": "stream",
     "text": [
      "              January  February       March\n",
      "buffalo         harry        92      rampur\n",
      "washington dc   rohan        34     kolkata\n",
      "chicago        skillf        24    bareilly\n",
      "sanfransisco    shubh        17  antarctica\n",
      "New York       sanket         8        kota\n"
     ]
    }
   ],
   "source": [
    "\n",
    "   import requests\n",
    "from io import StringIO\n",
    "\n",
    "url = 'https://files.zillowstatic.com/research/public_csvs/zhvi/Metro_zhvi_uc_sfrcondo_tier_0.33_0.67_sm_sa_month.csv'\n",
    "\n",
    "\n",
    "response = requests.get(url)\n",
    "\n",
    "# Check if the request was successful (status code 200)\n",
    "if response.status_code == 200:\n",
    "    # Parse the response text into a DataFrame\n",
    "    data = StringIO(response.text)\n",
    "    df_homes = pd.read_csv(data)\n",
    "    print(df)"
   ]
  },
  {
   "cell_type": "markdown",
   "id": "4476553a-1f93-4259-87df-69670ef486c0",
   "metadata": {
    "id": "4476553a-1f93-4259-87df-69670ef486c0"
   },
   "source": [
    "**6.** Save the DataFrame, df_homes, to a local CSV file, \"zillow_home_data.csv\".  "
   ]
  },
  {
   "cell_type": "code",
   "execution_count": 6,
   "id": "1d237615-d23c-4f62-a0b8-c709deb95647",
   "metadata": {
    "id": "1d237615-d23c-4f62-a0b8-c709deb95647"
   },
   "outputs": [
    {
     "data": {
      "text/html": [
       "<div>\n",
       "<style scoped>\n",
       "    .dataframe tbody tr th:only-of-type {\n",
       "        vertical-align: middle;\n",
       "    }\n",
       "\n",
       "    .dataframe tbody tr th {\n",
       "        vertical-align: top;\n",
       "    }\n",
       "\n",
       "    .dataframe thead th {\n",
       "        text-align: right;\n",
       "    }\n",
       "</style>\n",
       "<table border=\"1\" class=\"dataframe\">\n",
       "  <thead>\n",
       "    <tr style=\"text-align: right;\">\n",
       "      <th></th>\n",
       "      <th>RegionID</th>\n",
       "      <th>SizeRank</th>\n",
       "      <th>RegionName</th>\n",
       "      <th>RegionType</th>\n",
       "      <th>StateName</th>\n",
       "      <th>2000-01-31</th>\n",
       "      <th>2000-02-29</th>\n",
       "      <th>2000-03-31</th>\n",
       "      <th>2000-04-30</th>\n",
       "      <th>2000-05-31</th>\n",
       "      <th>...</th>\n",
       "      <th>2023-02-28</th>\n",
       "      <th>2023-03-31</th>\n",
       "      <th>2023-04-30</th>\n",
       "      <th>2023-05-31</th>\n",
       "      <th>2023-06-30</th>\n",
       "      <th>2023-07-31</th>\n",
       "      <th>2023-08-31</th>\n",
       "      <th>2023-09-30</th>\n",
       "      <th>2023-10-31</th>\n",
       "      <th>2023-11-30</th>\n",
       "    </tr>\n",
       "  </thead>\n",
       "  <tbody>\n",
       "    <tr>\n",
       "      <th>0</th>\n",
       "      <td>102001</td>\n",
       "      <td>0</td>\n",
       "      <td>United States</td>\n",
       "      <td>country</td>\n",
       "      <td>NaN</td>\n",
       "      <td>120020.015498</td>\n",
       "      <td>120231.169181</td>\n",
       "      <td>120493.030838</td>\n",
       "      <td>121054.672692</td>\n",
       "      <td>121701.055130</td>\n",
       "      <td>...</td>\n",
       "      <td>335523.211104</td>\n",
       "      <td>335462.315828</td>\n",
       "      <td>336417.300945</td>\n",
       "      <td>338027.272082</td>\n",
       "      <td>339946.048733</td>\n",
       "      <td>341676.927889</td>\n",
       "      <td>343283.109664</td>\n",
       "      <td>344496.587317</td>\n",
       "      <td>345404.638956</td>\n",
       "      <td>346047.922374</td>\n",
       "    </tr>\n",
       "    <tr>\n",
       "      <th>1</th>\n",
       "      <td>394913</td>\n",
       "      <td>1</td>\n",
       "      <td>New York, NY</td>\n",
       "      <td>msa</td>\n",
       "      <td>NY</td>\n",
       "      <td>214225.979996</td>\n",
       "      <td>215136.319540</td>\n",
       "      <td>216055.090469</td>\n",
       "      <td>217916.875892</td>\n",
       "      <td>219844.819171</td>\n",
       "      <td>...</td>\n",
       "      <td>600197.233963</td>\n",
       "      <td>600509.821697</td>\n",
       "      <td>602499.893236</td>\n",
       "      <td>606494.396332</td>\n",
       "      <td>610627.178896</td>\n",
       "      <td>614197.441106</td>\n",
       "      <td>617467.509260</td>\n",
       "      <td>620170.102296</td>\n",
       "      <td>622496.380878</td>\n",
       "      <td>624788.199586</td>\n",
       "    </tr>\n",
       "    <tr>\n",
       "      <th>2</th>\n",
       "      <td>753899</td>\n",
       "      <td>2</td>\n",
       "      <td>Los Angeles, CA</td>\n",
       "      <td>msa</td>\n",
       "      <td>CA</td>\n",
       "      <td>217855.179140</td>\n",
       "      <td>218665.876819</td>\n",
       "      <td>219745.718395</td>\n",
       "      <td>221894.240387</td>\n",
       "      <td>224244.049881</td>\n",
       "      <td>...</td>\n",
       "      <td>846508.441856</td>\n",
       "      <td>836885.357361</td>\n",
       "      <td>834543.158118</td>\n",
       "      <td>838270.596321</td>\n",
       "      <td>845952.780325</td>\n",
       "      <td>856996.305878</td>\n",
       "      <td>870358.019090</td>\n",
       "      <td>883849.276005</td>\n",
       "      <td>895074.115264</td>\n",
       "      <td>903521.426598</td>\n",
       "    </tr>\n",
       "    <tr>\n",
       "      <th>3</th>\n",
       "      <td>394463</td>\n",
       "      <td>3</td>\n",
       "      <td>Chicago, IL</td>\n",
       "      <td>msa</td>\n",
       "      <td>IL</td>\n",
       "      <td>150007.384914</td>\n",
       "      <td>150146.248054</td>\n",
       "      <td>150410.715349</td>\n",
       "      <td>151068.644257</td>\n",
       "      <td>151860.053595</td>\n",
       "      <td>...</td>\n",
       "      <td>287381.365053</td>\n",
       "      <td>288015.005259</td>\n",
       "      <td>289677.781537</td>\n",
       "      <td>291831.474260</td>\n",
       "      <td>294348.608420</td>\n",
       "      <td>296846.465132</td>\n",
       "      <td>299258.235890</td>\n",
       "      <td>301055.802875</td>\n",
       "      <td>302394.134991</td>\n",
       "      <td>303291.027035</td>\n",
       "    </tr>\n",
       "    <tr>\n",
       "      <th>4</th>\n",
       "      <td>394514</td>\n",
       "      <td>4</td>\n",
       "      <td>Dallas, TX</td>\n",
       "      <td>msa</td>\n",
       "      <td>TX</td>\n",
       "      <td>124041.283443</td>\n",
       "      <td>124096.531864</td>\n",
       "      <td>124160.045580</td>\n",
       "      <td>124324.984028</td>\n",
       "      <td>124542.450856</td>\n",
       "      <td>...</td>\n",
       "      <td>365037.736176</td>\n",
       "      <td>363522.308463</td>\n",
       "      <td>362978.402601</td>\n",
       "      <td>363260.365877</td>\n",
       "      <td>364067.268791</td>\n",
       "      <td>365030.865070</td>\n",
       "      <td>365940.117007</td>\n",
       "      <td>366349.463711</td>\n",
       "      <td>366462.390959</td>\n",
       "      <td>366325.569461</td>\n",
       "    </tr>\n",
       "    <tr>\n",
       "      <th>...</th>\n",
       "      <td>...</td>\n",
       "      <td>...</td>\n",
       "      <td>...</td>\n",
       "      <td>...</td>\n",
       "      <td>...</td>\n",
       "      <td>...</td>\n",
       "      <td>...</td>\n",
       "      <td>...</td>\n",
       "      <td>...</td>\n",
       "      <td>...</td>\n",
       "      <td>...</td>\n",
       "      <td>...</td>\n",
       "      <td>...</td>\n",
       "      <td>...</td>\n",
       "      <td>...</td>\n",
       "      <td>...</td>\n",
       "      <td>...</td>\n",
       "      <td>...</td>\n",
       "      <td>...</td>\n",
       "      <td>...</td>\n",
       "      <td>...</td>\n",
       "    </tr>\n",
       "    <tr>\n",
       "      <th>890</th>\n",
       "      <td>753929</td>\n",
       "      <td>935</td>\n",
       "      <td>Zapata, TX</td>\n",
       "      <td>msa</td>\n",
       "      <td>TX</td>\n",
       "      <td>NaN</td>\n",
       "      <td>NaN</td>\n",
       "      <td>NaN</td>\n",
       "      <td>NaN</td>\n",
       "      <td>NaN</td>\n",
       "      <td>...</td>\n",
       "      <td>117668.676677</td>\n",
       "      <td>116682.432781</td>\n",
       "      <td>116859.425961</td>\n",
       "      <td>116391.274484</td>\n",
       "      <td>115728.026882</td>\n",
       "      <td>115384.983799</td>\n",
       "      <td>115596.454943</td>\n",
       "      <td>115270.755908</td>\n",
       "      <td>113777.937787</td>\n",
       "      <td>111754.540533</td>\n",
       "    </tr>\n",
       "    <tr>\n",
       "      <th>891</th>\n",
       "      <td>394743</td>\n",
       "      <td>936</td>\n",
       "      <td>Ketchikan, AK</td>\n",
       "      <td>msa</td>\n",
       "      <td>AK</td>\n",
       "      <td>NaN</td>\n",
       "      <td>NaN</td>\n",
       "      <td>NaN</td>\n",
       "      <td>NaN</td>\n",
       "      <td>NaN</td>\n",
       "      <td>...</td>\n",
       "      <td>389810.733289</td>\n",
       "      <td>387697.563256</td>\n",
       "      <td>386575.243484</td>\n",
       "      <td>386903.138182</td>\n",
       "      <td>388295.368075</td>\n",
       "      <td>389811.829336</td>\n",
       "      <td>389401.415605</td>\n",
       "      <td>387456.634923</td>\n",
       "      <td>384089.423564</td>\n",
       "      <td>381291.576841</td>\n",
       "    </tr>\n",
       "    <tr>\n",
       "      <th>892</th>\n",
       "      <td>753874</td>\n",
       "      <td>937</td>\n",
       "      <td>Craig, CO</td>\n",
       "      <td>msa</td>\n",
       "      <td>CO</td>\n",
       "      <td>96254.982244</td>\n",
       "      <td>96501.112965</td>\n",
       "      <td>96959.343891</td>\n",
       "      <td>97611.907056</td>\n",
       "      <td>98370.230124</td>\n",
       "      <td>...</td>\n",
       "      <td>260376.133750</td>\n",
       "      <td>261547.128111</td>\n",
       "      <td>263559.253773</td>\n",
       "      <td>266174.583240</td>\n",
       "      <td>269753.010270</td>\n",
       "      <td>272607.479786</td>\n",
       "      <td>274820.375402</td>\n",
       "      <td>276049.730944</td>\n",
       "      <td>277260.457448</td>\n",
       "      <td>277972.312630</td>\n",
       "    </tr>\n",
       "    <tr>\n",
       "      <th>893</th>\n",
       "      <td>395188</td>\n",
       "      <td>938</td>\n",
       "      <td>Vernon, TX</td>\n",
       "      <td>msa</td>\n",
       "      <td>TX</td>\n",
       "      <td>NaN</td>\n",
       "      <td>NaN</td>\n",
       "      <td>NaN</td>\n",
       "      <td>NaN</td>\n",
       "      <td>NaN</td>\n",
       "      <td>...</td>\n",
       "      <td>85898.089119</td>\n",
       "      <td>86974.543623</td>\n",
       "      <td>88410.765633</td>\n",
       "      <td>89616.814009</td>\n",
       "      <td>89580.830196</td>\n",
       "      <td>89064.467851</td>\n",
       "      <td>88094.110903</td>\n",
       "      <td>87161.891917</td>\n",
       "      <td>86150.658226</td>\n",
       "      <td>84747.238629</td>\n",
       "    </tr>\n",
       "    <tr>\n",
       "      <th>894</th>\n",
       "      <td>394767</td>\n",
       "      <td>939</td>\n",
       "      <td>Lamesa, TX</td>\n",
       "      <td>msa</td>\n",
       "      <td>TX</td>\n",
       "      <td>NaN</td>\n",
       "      <td>NaN</td>\n",
       "      <td>NaN</td>\n",
       "      <td>NaN</td>\n",
       "      <td>NaN</td>\n",
       "      <td>...</td>\n",
       "      <td>95921.324321</td>\n",
       "      <td>95773.913116</td>\n",
       "      <td>95553.412740</td>\n",
       "      <td>95482.480263</td>\n",
       "      <td>93914.536425</td>\n",
       "      <td>92018.412020</td>\n",
       "      <td>89969.123274</td>\n",
       "      <td>88832.962758</td>\n",
       "      <td>87817.145585</td>\n",
       "      <td>87010.429075</td>\n",
       "    </tr>\n",
       "  </tbody>\n",
       "</table>\n",
       "<p>895 rows × 292 columns</p>\n",
       "</div>"
      ],
      "text/plain": [
       "     RegionID  SizeRank       RegionName RegionType StateName     2000-01-31  \\\n",
       "0      102001         0    United States    country       NaN  120020.015498   \n",
       "1      394913         1     New York, NY        msa        NY  214225.979996   \n",
       "2      753899         2  Los Angeles, CA        msa        CA  217855.179140   \n",
       "3      394463         3      Chicago, IL        msa        IL  150007.384914   \n",
       "4      394514         4       Dallas, TX        msa        TX  124041.283443   \n",
       "..        ...       ...              ...        ...       ...            ...   \n",
       "890    753929       935       Zapata, TX        msa        TX            NaN   \n",
       "891    394743       936    Ketchikan, AK        msa        AK            NaN   \n",
       "892    753874       937        Craig, CO        msa        CO   96254.982244   \n",
       "893    395188       938       Vernon, TX        msa        TX            NaN   \n",
       "894    394767       939       Lamesa, TX        msa        TX            NaN   \n",
       "\n",
       "        2000-02-29     2000-03-31     2000-04-30     2000-05-31  ...  \\\n",
       "0    120231.169181  120493.030838  121054.672692  121701.055130  ...   \n",
       "1    215136.319540  216055.090469  217916.875892  219844.819171  ...   \n",
       "2    218665.876819  219745.718395  221894.240387  224244.049881  ...   \n",
       "3    150146.248054  150410.715349  151068.644257  151860.053595  ...   \n",
       "4    124096.531864  124160.045580  124324.984028  124542.450856  ...   \n",
       "..             ...            ...            ...            ...  ...   \n",
       "890            NaN            NaN            NaN            NaN  ...   \n",
       "891            NaN            NaN            NaN            NaN  ...   \n",
       "892   96501.112965   96959.343891   97611.907056   98370.230124  ...   \n",
       "893            NaN            NaN            NaN            NaN  ...   \n",
       "894            NaN            NaN            NaN            NaN  ...   \n",
       "\n",
       "        2023-02-28     2023-03-31     2023-04-30     2023-05-31  \\\n",
       "0    335523.211104  335462.315828  336417.300945  338027.272082   \n",
       "1    600197.233963  600509.821697  602499.893236  606494.396332   \n",
       "2    846508.441856  836885.357361  834543.158118  838270.596321   \n",
       "3    287381.365053  288015.005259  289677.781537  291831.474260   \n",
       "4    365037.736176  363522.308463  362978.402601  363260.365877   \n",
       "..             ...            ...            ...            ...   \n",
       "890  117668.676677  116682.432781  116859.425961  116391.274484   \n",
       "891  389810.733289  387697.563256  386575.243484  386903.138182   \n",
       "892  260376.133750  261547.128111  263559.253773  266174.583240   \n",
       "893   85898.089119   86974.543623   88410.765633   89616.814009   \n",
       "894   95921.324321   95773.913116   95553.412740   95482.480263   \n",
       "\n",
       "        2023-06-30     2023-07-31     2023-08-31     2023-09-30  \\\n",
       "0    339946.048733  341676.927889  343283.109664  344496.587317   \n",
       "1    610627.178896  614197.441106  617467.509260  620170.102296   \n",
       "2    845952.780325  856996.305878  870358.019090  883849.276005   \n",
       "3    294348.608420  296846.465132  299258.235890  301055.802875   \n",
       "4    364067.268791  365030.865070  365940.117007  366349.463711   \n",
       "..             ...            ...            ...            ...   \n",
       "890  115728.026882  115384.983799  115596.454943  115270.755908   \n",
       "891  388295.368075  389811.829336  389401.415605  387456.634923   \n",
       "892  269753.010270  272607.479786  274820.375402  276049.730944   \n",
       "893   89580.830196   89064.467851   88094.110903   87161.891917   \n",
       "894   93914.536425   92018.412020   89969.123274   88832.962758   \n",
       "\n",
       "        2023-10-31     2023-11-30  \n",
       "0    345404.638956  346047.922374  \n",
       "1    622496.380878  624788.199586  \n",
       "2    895074.115264  903521.426598  \n",
       "3    302394.134991  303291.027035  \n",
       "4    366462.390959  366325.569461  \n",
       "..             ...            ...  \n",
       "890  113777.937787  111754.540533  \n",
       "891  384089.423564  381291.576841  \n",
       "892  277260.457448  277972.312630  \n",
       "893   86150.658226   84747.238629  \n",
       "894   87817.145585   87010.429075  \n",
       "\n",
       "[895 rows x 292 columns]"
      ]
     },
     "execution_count": 6,
     "metadata": {},
     "output_type": "execute_result"
    }
   ],
   "source": [
    "df_homes.to_csv('zillow_home_data.csv')\n",
    "df_homes"
   ]
  },
  {
   "cell_type": "markdown",
   "id": "182e0039-63dc-49df-9413-7eede1453fe0",
   "metadata": {
    "id": "182e0039-63dc-49df-9413-7eede1453fe0"
   },
   "source": [
    "**7.** Load zillow_home_data.csv back into a new Dataframe, df_homes_2"
   ]
  },
  {
   "cell_type": "code",
   "execution_count": 7,
   "id": "53665adb-adb2-462f-a244-01665182e870",
   "metadata": {
    "id": "53665adb-adb2-462f-a244-01665182e870"
   },
   "outputs": [
    {
     "data": {
      "text/html": [
       "<div>\n",
       "<style scoped>\n",
       "    .dataframe tbody tr th:only-of-type {\n",
       "        vertical-align: middle;\n",
       "    }\n",
       "\n",
       "    .dataframe tbody tr th {\n",
       "        vertical-align: top;\n",
       "    }\n",
       "\n",
       "    .dataframe thead th {\n",
       "        text-align: right;\n",
       "    }\n",
       "</style>\n",
       "<table border=\"1\" class=\"dataframe\">\n",
       "  <thead>\n",
       "    <tr style=\"text-align: right;\">\n",
       "      <th></th>\n",
       "      <th>Unnamed: 0</th>\n",
       "      <th>RegionID</th>\n",
       "      <th>SizeRank</th>\n",
       "      <th>RegionName</th>\n",
       "      <th>RegionType</th>\n",
       "      <th>StateName</th>\n",
       "      <th>2000-01-31</th>\n",
       "      <th>2000-02-29</th>\n",
       "      <th>2000-03-31</th>\n",
       "      <th>2000-04-30</th>\n",
       "      <th>...</th>\n",
       "      <th>2023-02-28</th>\n",
       "      <th>2023-03-31</th>\n",
       "      <th>2023-04-30</th>\n",
       "      <th>2023-05-31</th>\n",
       "      <th>2023-06-30</th>\n",
       "      <th>2023-07-31</th>\n",
       "      <th>2023-08-31</th>\n",
       "      <th>2023-09-30</th>\n",
       "      <th>2023-10-31</th>\n",
       "      <th>2023-11-30</th>\n",
       "    </tr>\n",
       "  </thead>\n",
       "  <tbody>\n",
       "    <tr>\n",
       "      <th>0</th>\n",
       "      <td>0</td>\n",
       "      <td>102001</td>\n",
       "      <td>0</td>\n",
       "      <td>United States</td>\n",
       "      <td>country</td>\n",
       "      <td>NaN</td>\n",
       "      <td>120020.015498</td>\n",
       "      <td>120231.169181</td>\n",
       "      <td>120493.030838</td>\n",
       "      <td>121054.672692</td>\n",
       "      <td>...</td>\n",
       "      <td>335523.211104</td>\n",
       "      <td>335462.315828</td>\n",
       "      <td>336417.300945</td>\n",
       "      <td>338027.272082</td>\n",
       "      <td>339946.048733</td>\n",
       "      <td>341676.927889</td>\n",
       "      <td>343283.109664</td>\n",
       "      <td>344496.587317</td>\n",
       "      <td>345404.638956</td>\n",
       "      <td>346047.922374</td>\n",
       "    </tr>\n",
       "    <tr>\n",
       "      <th>1</th>\n",
       "      <td>1</td>\n",
       "      <td>394913</td>\n",
       "      <td>1</td>\n",
       "      <td>New York, NY</td>\n",
       "      <td>msa</td>\n",
       "      <td>NY</td>\n",
       "      <td>214225.979996</td>\n",
       "      <td>215136.319540</td>\n",
       "      <td>216055.090469</td>\n",
       "      <td>217916.875892</td>\n",
       "      <td>...</td>\n",
       "      <td>600197.233963</td>\n",
       "      <td>600509.821697</td>\n",
       "      <td>602499.893236</td>\n",
       "      <td>606494.396332</td>\n",
       "      <td>610627.178896</td>\n",
       "      <td>614197.441106</td>\n",
       "      <td>617467.509260</td>\n",
       "      <td>620170.102296</td>\n",
       "      <td>622496.380878</td>\n",
       "      <td>624788.199586</td>\n",
       "    </tr>\n",
       "    <tr>\n",
       "      <th>2</th>\n",
       "      <td>2</td>\n",
       "      <td>753899</td>\n",
       "      <td>2</td>\n",
       "      <td>Los Angeles, CA</td>\n",
       "      <td>msa</td>\n",
       "      <td>CA</td>\n",
       "      <td>217855.179140</td>\n",
       "      <td>218665.876819</td>\n",
       "      <td>219745.718395</td>\n",
       "      <td>221894.240387</td>\n",
       "      <td>...</td>\n",
       "      <td>846508.441856</td>\n",
       "      <td>836885.357361</td>\n",
       "      <td>834543.158118</td>\n",
       "      <td>838270.596321</td>\n",
       "      <td>845952.780325</td>\n",
       "      <td>856996.305878</td>\n",
       "      <td>870358.019090</td>\n",
       "      <td>883849.276005</td>\n",
       "      <td>895074.115264</td>\n",
       "      <td>903521.426598</td>\n",
       "    </tr>\n",
       "    <tr>\n",
       "      <th>3</th>\n",
       "      <td>3</td>\n",
       "      <td>394463</td>\n",
       "      <td>3</td>\n",
       "      <td>Chicago, IL</td>\n",
       "      <td>msa</td>\n",
       "      <td>IL</td>\n",
       "      <td>150007.384914</td>\n",
       "      <td>150146.248054</td>\n",
       "      <td>150410.715349</td>\n",
       "      <td>151068.644257</td>\n",
       "      <td>...</td>\n",
       "      <td>287381.365053</td>\n",
       "      <td>288015.005259</td>\n",
       "      <td>289677.781537</td>\n",
       "      <td>291831.474260</td>\n",
       "      <td>294348.608420</td>\n",
       "      <td>296846.465132</td>\n",
       "      <td>299258.235890</td>\n",
       "      <td>301055.802875</td>\n",
       "      <td>302394.134991</td>\n",
       "      <td>303291.027035</td>\n",
       "    </tr>\n",
       "    <tr>\n",
       "      <th>4</th>\n",
       "      <td>4</td>\n",
       "      <td>394514</td>\n",
       "      <td>4</td>\n",
       "      <td>Dallas, TX</td>\n",
       "      <td>msa</td>\n",
       "      <td>TX</td>\n",
       "      <td>124041.283443</td>\n",
       "      <td>124096.531864</td>\n",
       "      <td>124160.045580</td>\n",
       "      <td>124324.984028</td>\n",
       "      <td>...</td>\n",
       "      <td>365037.736176</td>\n",
       "      <td>363522.308463</td>\n",
       "      <td>362978.402601</td>\n",
       "      <td>363260.365877</td>\n",
       "      <td>364067.268791</td>\n",
       "      <td>365030.865070</td>\n",
       "      <td>365940.117007</td>\n",
       "      <td>366349.463711</td>\n",
       "      <td>366462.390959</td>\n",
       "      <td>366325.569461</td>\n",
       "    </tr>\n",
       "    <tr>\n",
       "      <th>...</th>\n",
       "      <td>...</td>\n",
       "      <td>...</td>\n",
       "      <td>...</td>\n",
       "      <td>...</td>\n",
       "      <td>...</td>\n",
       "      <td>...</td>\n",
       "      <td>...</td>\n",
       "      <td>...</td>\n",
       "      <td>...</td>\n",
       "      <td>...</td>\n",
       "      <td>...</td>\n",
       "      <td>...</td>\n",
       "      <td>...</td>\n",
       "      <td>...</td>\n",
       "      <td>...</td>\n",
       "      <td>...</td>\n",
       "      <td>...</td>\n",
       "      <td>...</td>\n",
       "      <td>...</td>\n",
       "      <td>...</td>\n",
       "      <td>...</td>\n",
       "    </tr>\n",
       "    <tr>\n",
       "      <th>890</th>\n",
       "      <td>890</td>\n",
       "      <td>753929</td>\n",
       "      <td>935</td>\n",
       "      <td>Zapata, TX</td>\n",
       "      <td>msa</td>\n",
       "      <td>TX</td>\n",
       "      <td>NaN</td>\n",
       "      <td>NaN</td>\n",
       "      <td>NaN</td>\n",
       "      <td>NaN</td>\n",
       "      <td>...</td>\n",
       "      <td>117668.676677</td>\n",
       "      <td>116682.432781</td>\n",
       "      <td>116859.425961</td>\n",
       "      <td>116391.274484</td>\n",
       "      <td>115728.026882</td>\n",
       "      <td>115384.983799</td>\n",
       "      <td>115596.454943</td>\n",
       "      <td>115270.755908</td>\n",
       "      <td>113777.937787</td>\n",
       "      <td>111754.540533</td>\n",
       "    </tr>\n",
       "    <tr>\n",
       "      <th>891</th>\n",
       "      <td>891</td>\n",
       "      <td>394743</td>\n",
       "      <td>936</td>\n",
       "      <td>Ketchikan, AK</td>\n",
       "      <td>msa</td>\n",
       "      <td>AK</td>\n",
       "      <td>NaN</td>\n",
       "      <td>NaN</td>\n",
       "      <td>NaN</td>\n",
       "      <td>NaN</td>\n",
       "      <td>...</td>\n",
       "      <td>389810.733289</td>\n",
       "      <td>387697.563256</td>\n",
       "      <td>386575.243484</td>\n",
       "      <td>386903.138182</td>\n",
       "      <td>388295.368075</td>\n",
       "      <td>389811.829336</td>\n",
       "      <td>389401.415605</td>\n",
       "      <td>387456.634923</td>\n",
       "      <td>384089.423564</td>\n",
       "      <td>381291.576841</td>\n",
       "    </tr>\n",
       "    <tr>\n",
       "      <th>892</th>\n",
       "      <td>892</td>\n",
       "      <td>753874</td>\n",
       "      <td>937</td>\n",
       "      <td>Craig, CO</td>\n",
       "      <td>msa</td>\n",
       "      <td>CO</td>\n",
       "      <td>96254.982244</td>\n",
       "      <td>96501.112965</td>\n",
       "      <td>96959.343891</td>\n",
       "      <td>97611.907056</td>\n",
       "      <td>...</td>\n",
       "      <td>260376.133750</td>\n",
       "      <td>261547.128111</td>\n",
       "      <td>263559.253773</td>\n",
       "      <td>266174.583240</td>\n",
       "      <td>269753.010270</td>\n",
       "      <td>272607.479786</td>\n",
       "      <td>274820.375402</td>\n",
       "      <td>276049.730944</td>\n",
       "      <td>277260.457448</td>\n",
       "      <td>277972.312630</td>\n",
       "    </tr>\n",
       "    <tr>\n",
       "      <th>893</th>\n",
       "      <td>893</td>\n",
       "      <td>395188</td>\n",
       "      <td>938</td>\n",
       "      <td>Vernon, TX</td>\n",
       "      <td>msa</td>\n",
       "      <td>TX</td>\n",
       "      <td>NaN</td>\n",
       "      <td>NaN</td>\n",
       "      <td>NaN</td>\n",
       "      <td>NaN</td>\n",
       "      <td>...</td>\n",
       "      <td>85898.089119</td>\n",
       "      <td>86974.543623</td>\n",
       "      <td>88410.765633</td>\n",
       "      <td>89616.814009</td>\n",
       "      <td>89580.830196</td>\n",
       "      <td>89064.467851</td>\n",
       "      <td>88094.110903</td>\n",
       "      <td>87161.891917</td>\n",
       "      <td>86150.658226</td>\n",
       "      <td>84747.238629</td>\n",
       "    </tr>\n",
       "    <tr>\n",
       "      <th>894</th>\n",
       "      <td>894</td>\n",
       "      <td>394767</td>\n",
       "      <td>939</td>\n",
       "      <td>Lamesa, TX</td>\n",
       "      <td>msa</td>\n",
       "      <td>TX</td>\n",
       "      <td>NaN</td>\n",
       "      <td>NaN</td>\n",
       "      <td>NaN</td>\n",
       "      <td>NaN</td>\n",
       "      <td>...</td>\n",
       "      <td>95921.324321</td>\n",
       "      <td>95773.913116</td>\n",
       "      <td>95553.412740</td>\n",
       "      <td>95482.480263</td>\n",
       "      <td>93914.536425</td>\n",
       "      <td>92018.412020</td>\n",
       "      <td>89969.123274</td>\n",
       "      <td>88832.962758</td>\n",
       "      <td>87817.145585</td>\n",
       "      <td>87010.429075</td>\n",
       "    </tr>\n",
       "  </tbody>\n",
       "</table>\n",
       "<p>895 rows × 293 columns</p>\n",
       "</div>"
      ],
      "text/plain": [
       "     Unnamed: 0  RegionID  SizeRank       RegionName RegionType StateName  \\\n",
       "0             0    102001         0    United States    country       NaN   \n",
       "1             1    394913         1     New York, NY        msa        NY   \n",
       "2             2    753899         2  Los Angeles, CA        msa        CA   \n",
       "3             3    394463         3      Chicago, IL        msa        IL   \n",
       "4             4    394514         4       Dallas, TX        msa        TX   \n",
       "..          ...       ...       ...              ...        ...       ...   \n",
       "890         890    753929       935       Zapata, TX        msa        TX   \n",
       "891         891    394743       936    Ketchikan, AK        msa        AK   \n",
       "892         892    753874       937        Craig, CO        msa        CO   \n",
       "893         893    395188       938       Vernon, TX        msa        TX   \n",
       "894         894    394767       939       Lamesa, TX        msa        TX   \n",
       "\n",
       "        2000-01-31     2000-02-29     2000-03-31     2000-04-30  ...  \\\n",
       "0    120020.015498  120231.169181  120493.030838  121054.672692  ...   \n",
       "1    214225.979996  215136.319540  216055.090469  217916.875892  ...   \n",
       "2    217855.179140  218665.876819  219745.718395  221894.240387  ...   \n",
       "3    150007.384914  150146.248054  150410.715349  151068.644257  ...   \n",
       "4    124041.283443  124096.531864  124160.045580  124324.984028  ...   \n",
       "..             ...            ...            ...            ...  ...   \n",
       "890            NaN            NaN            NaN            NaN  ...   \n",
       "891            NaN            NaN            NaN            NaN  ...   \n",
       "892   96254.982244   96501.112965   96959.343891   97611.907056  ...   \n",
       "893            NaN            NaN            NaN            NaN  ...   \n",
       "894            NaN            NaN            NaN            NaN  ...   \n",
       "\n",
       "        2023-02-28     2023-03-31     2023-04-30     2023-05-31  \\\n",
       "0    335523.211104  335462.315828  336417.300945  338027.272082   \n",
       "1    600197.233963  600509.821697  602499.893236  606494.396332   \n",
       "2    846508.441856  836885.357361  834543.158118  838270.596321   \n",
       "3    287381.365053  288015.005259  289677.781537  291831.474260   \n",
       "4    365037.736176  363522.308463  362978.402601  363260.365877   \n",
       "..             ...            ...            ...            ...   \n",
       "890  117668.676677  116682.432781  116859.425961  116391.274484   \n",
       "891  389810.733289  387697.563256  386575.243484  386903.138182   \n",
       "892  260376.133750  261547.128111  263559.253773  266174.583240   \n",
       "893   85898.089119   86974.543623   88410.765633   89616.814009   \n",
       "894   95921.324321   95773.913116   95553.412740   95482.480263   \n",
       "\n",
       "        2023-06-30     2023-07-31     2023-08-31     2023-09-30  \\\n",
       "0    339946.048733  341676.927889  343283.109664  344496.587317   \n",
       "1    610627.178896  614197.441106  617467.509260  620170.102296   \n",
       "2    845952.780325  856996.305878  870358.019090  883849.276005   \n",
       "3    294348.608420  296846.465132  299258.235890  301055.802875   \n",
       "4    364067.268791  365030.865070  365940.117007  366349.463711   \n",
       "..             ...            ...            ...            ...   \n",
       "890  115728.026882  115384.983799  115596.454943  115270.755908   \n",
       "891  388295.368075  389811.829336  389401.415605  387456.634923   \n",
       "892  269753.010270  272607.479786  274820.375402  276049.730944   \n",
       "893   89580.830196   89064.467851   88094.110903   87161.891917   \n",
       "894   93914.536425   92018.412020   89969.123274   88832.962758   \n",
       "\n",
       "        2023-10-31     2023-11-30  \n",
       "0    345404.638956  346047.922374  \n",
       "1    622496.380878  624788.199586  \n",
       "2    895074.115264  903521.426598  \n",
       "3    302394.134991  303291.027035  \n",
       "4    366462.390959  366325.569461  \n",
       "..             ...            ...  \n",
       "890  113777.937787  111754.540533  \n",
       "891  384089.423564  381291.576841  \n",
       "892  277260.457448  277972.312630  \n",
       "893   86150.658226   84747.238629  \n",
       "894   87817.145585   87010.429075  \n",
       "\n",
       "[895 rows x 293 columns]"
      ]
     },
     "execution_count": 7,
     "metadata": {},
     "output_type": "execute_result"
    }
   ],
   "source": [
    "df_homes_2=pd.read_csv('zillow_home_data.csv')\n",
    "df_homes_2"
   ]
  },
  {
   "cell_type": "markdown",
   "id": "eaaa6d3b-21e6-4e4a-916a-d522f1fd60c6",
   "metadata": {
    "id": "eaaa6d3b-21e6-4e4a-916a-d522f1fd60c6"
   },
   "source": [
    "**8.** Compare the dimensions of the two DataFrames, df_homes and df_homes_2.  Are they equal?  If not, how can you fix it?"
   ]
  },
  {
   "cell_type": "code",
   "execution_count": 8,
   "id": "5c0a7f30-3d6a-4283-9efb-c1dc1d5d7d42",
   "metadata": {
    "id": "5c0a7f30-3d6a-4283-9efb-c1dc1d5d7d42"
   },
   "outputs": [
    {
     "data": {
      "text/plain": [
       "(895, 293)"
      ]
     },
     "execution_count": 8,
     "metadata": {},
     "output_type": "execute_result"
    }
   ],
   "source": [
    "df_homes.shape\n",
    "df_homes_2.shape"
   ]
  },
  {
   "cell_type": "markdown",
   "id": "ed7fc7e0-6fe3-4eea-bbbc-2ecf8d910b5a",
   "metadata": {
    "id": "ed7fc7e0-6fe3-4eea-bbbc-2ecf8d910b5a"
   },
   "source": []
  },
  {
   "cell_type": "markdown",
   "id": "0f34b104-fc3a-492c-964b-45daa12850b0",
   "metadata": {
    "id": "0f34b104-fc3a-492c-964b-45daa12850b0"
   },
   "source": [
    "**9.** A remote spreadsheet showing how a snapshot of how traffic increased for a hypothetical website is available here: https://github.com/CodeSolid/CodeSolid.github.io/raw/main/booksource/data/AnalyticsSnapshot.xlsx. Load the worksheet page of the spreasheet data labelled \"February 2022\" as a DataFrame named \"feb\".  Note: the leftmost column in the spreadsheet is the index column."
   ]
  },
  {
   "cell_type": "code",
   "execution_count": 9,
   "id": "7b8772dd-5d19-4510-a725-80c7273ce61b",
   "metadata": {
    "id": "7b8772dd-5d19-4510-a725-80c7273ce61b"
   },
   "outputs": [
    {
     "data": {
      "text/html": [
       "<div>\n",
       "<style scoped>\n",
       "    .dataframe tbody tr th:only-of-type {\n",
       "        vertical-align: middle;\n",
       "    }\n",
       "\n",
       "    .dataframe tbody tr th {\n",
       "        vertical-align: top;\n",
       "    }\n",
       "\n",
       "    .dataframe thead th {\n",
       "        text-align: right;\n",
       "    }\n",
       "</style>\n",
       "<table border=\"1\" class=\"dataframe\">\n",
       "  <thead>\n",
       "    <tr style=\"text-align: right;\">\n",
       "      <th></th>\n",
       "      <th>Unnamed: 0</th>\n",
       "      <th>This Month</th>\n",
       "      <th>Last Month</th>\n",
       "      <th>Month to Month Increase</th>\n",
       "    </tr>\n",
       "  </thead>\n",
       "  <tbody>\n",
       "    <tr>\n",
       "      <th>0</th>\n",
       "      <td>Users</td>\n",
       "      <td>1800</td>\n",
       "      <td>280</td>\n",
       "      <td>5.428571</td>\n",
       "    </tr>\n",
       "    <tr>\n",
       "      <th>1</th>\n",
       "      <td>New Users</td>\n",
       "      <td>1700</td>\n",
       "      <td>298</td>\n",
       "      <td>4.704698</td>\n",
       "    </tr>\n",
       "    <tr>\n",
       "      <th>2</th>\n",
       "      <td>Page Views</td>\n",
       "      <td>2534</td>\n",
       "      <td>436</td>\n",
       "      <td>4.811927</td>\n",
       "    </tr>\n",
       "  </tbody>\n",
       "</table>\n",
       "</div>"
      ],
      "text/plain": [
       "   Unnamed: 0  This Month  Last Month  Month to Month Increase\n",
       "0       Users        1800         280                 5.428571\n",
       "1   New Users        1700         298                 4.704698\n",
       "2  Page Views        2534         436                 4.811927"
      ]
     },
     "execution_count": 9,
     "metadata": {},
     "output_type": "execute_result"
    }
   ],
   "source": [
    "feb = pd.read_excel('AnalyticsSnapshot.xlsx',sheet_name='February 2022')\n",
    "feb"
   ]
  },
  {
   "cell_type": "markdown",
   "id": "ad366534-b168-490c-a55d-654f3ef44288",
   "metadata": {
    "id": "ad366534-b168-490c-a55d-654f3ef44288"
   },
   "source": [
    "**10.** The \"Month to Month Increase\" column is a bit hard to understand, so ignore it for now.  Given the values for \"This Month\" and \"Last Month\", create a new column, \"Percentage Increase\"."
   ]
  },
  {
   "cell_type": "code",
   "execution_count": 10,
   "id": "d053f773-c9a9-4592-aaaa-660ae8e189e5",
   "metadata": {
    "id": "d053f773-c9a9-4592-aaaa-660ae8e189e5"
   },
   "outputs": [
    {
     "data": {
      "text/html": [
       "<div>\n",
       "<style scoped>\n",
       "    .dataframe tbody tr th:only-of-type {\n",
       "        vertical-align: middle;\n",
       "    }\n",
       "\n",
       "    .dataframe tbody tr th {\n",
       "        vertical-align: top;\n",
       "    }\n",
       "\n",
       "    .dataframe thead th {\n",
       "        text-align: right;\n",
       "    }\n",
       "</style>\n",
       "<table border=\"1\" class=\"dataframe\">\n",
       "  <thead>\n",
       "    <tr style=\"text-align: right;\">\n",
       "      <th></th>\n",
       "      <th>Unnamed: 0</th>\n",
       "      <th>This Month</th>\n",
       "      <th>Last Month</th>\n",
       "      <th>Month to Month Increase</th>\n",
       "      <th>Percentageincrease</th>\n",
       "    </tr>\n",
       "  </thead>\n",
       "  <tbody>\n",
       "    <tr>\n",
       "      <th>0</th>\n",
       "      <td>Users</td>\n",
       "      <td>1800</td>\n",
       "      <td>280</td>\n",
       "      <td>5.428571</td>\n",
       "      <td>542.857143</td>\n",
       "    </tr>\n",
       "    <tr>\n",
       "      <th>1</th>\n",
       "      <td>New Users</td>\n",
       "      <td>1700</td>\n",
       "      <td>298</td>\n",
       "      <td>4.704698</td>\n",
       "      <td>470.469799</td>\n",
       "    </tr>\n",
       "    <tr>\n",
       "      <th>2</th>\n",
       "      <td>Page Views</td>\n",
       "      <td>2534</td>\n",
       "      <td>436</td>\n",
       "      <td>4.811927</td>\n",
       "      <td>481.192661</td>\n",
       "    </tr>\n",
       "  </tbody>\n",
       "</table>\n",
       "</div>"
      ],
      "text/plain": [
       "   Unnamed: 0  This Month  Last Month  Month to Month Increase  \\\n",
       "0       Users        1800         280                 5.428571   \n",
       "1   New Users        1700         298                 4.704698   \n",
       "2  Page Views        2534         436                 4.811927   \n",
       "\n",
       "   Percentageincrease  \n",
       "0          542.857143  \n",
       "1          470.469799  \n",
       "2          481.192661  "
      ]
     },
     "execution_count": 10,
     "metadata": {},
     "output_type": "execute_result"
    }
   ],
   "source": [
    "feb[\"Percentageincrease\"]=((feb[\"This Month\"]-feb[\"Last Month\"])/feb[\"Last Month\"])*100\n",
    "feb\n"
   ]
  },
  {
   "cell_type": "markdown",
   "id": "8a71222f-2ab4-47bb-806d-2610e25b3a91",
   "metadata": {
    "id": "8a71222f-2ab4-47bb-806d-2610e25b3a91"
   },
   "source": [
    "## Basic Operations on Data"
   ]
  },
  {
   "cell_type": "markdown",
   "id": "0b9cf32b-3132-40cc-a5ca-26d6e6a36e4b",
   "metadata": {
    "id": "0b9cf32b-3132-40cc-a5ca-26d6e6a36e4b"
   },
   "source": [
    "**11.** Using Seaborn, get a dataset about penguins into a dataframe named \"df_penguins\".  Note that because all of the following questions depend on this example, we'll provide the solution here so no one gets stuck:"
   ]
  },
  {
   "cell_type": "code",
   "execution_count": 11,
   "id": "ab8e1f5d-0f2c-4d11-9e68-3fdd6a8837d0",
   "metadata": {
    "id": "a8b68caf-a998-414a-9de7-899eae7213c7"
   },
   "outputs": [],
   "source": [
    "import ssl\n",
    "import pandas as pd\n",
    "import seaborn as sns\n",
    "import urllib.request as request\n",
    "\n",
    "\n",
    "context = ssl._create_unverified_context()\n",
    "\n",
    "\n",
    "url = \"https://raw.githubusercontent.com/allisonhorst/palmerpenguins/master/inst/extdata/penguins.csv\"\n",
    "response = request.urlopen(url, context=context)\n",
    "\n",
    "\n",
    "df_penguins = pd.read_csv(response)\n",
    "#the code given by you was not working so i took help from chatgpt"
   ]
  },
  {
   "cell_type": "markdown",
   "id": "f7170135-17bd-45e2-9239-dad647ed6eaf",
   "metadata": {
    "id": "f7170135-17bd-45e2-9239-dad647ed6eaf"
   },
   "source": [
    "**12.** Write the code to show the the number of rows and columns in df_penguins"
   ]
  },
  {
   "cell_type": "code",
   "execution_count": 12,
   "id": "6f565afb-d5f4-462d-b3e5-946bc91bd83e",
   "metadata": {
    "id": "6f565afb-d5f4-462d-b3e5-946bc91bd83e"
   },
   "outputs": [
    {
     "name": "stdout",
     "output_type": "stream",
     "text": [
      "344\n",
      "8\n"
     ]
    }
   ],
   "source": [
    "print(df_penguins.shape[0])\n",
    "print(df_penguins.shape[1])"
   ]
  },
  {
   "cell_type": "markdown",
   "id": "9d3396f3-3fe6-4571-83b2-1e70f8a11513",
   "metadata": {
    "id": "9d3396f3-3fe6-4571-83b2-1e70f8a11513"
   },
   "source": [
    "**13.** How might you show the first few rows of df_penguins?"
   ]
  },
  {
   "cell_type": "code",
   "execution_count": 13,
   "id": "68d5946e-5011-4735-983e-7485f44a60f2",
   "metadata": {
    "id": "68d5946e-5011-4735-983e-7485f44a60f2"
   },
   "outputs": [
    {
     "data": {
      "text/html": [
       "<div>\n",
       "<style scoped>\n",
       "    .dataframe tbody tr th:only-of-type {\n",
       "        vertical-align: middle;\n",
       "    }\n",
       "\n",
       "    .dataframe tbody tr th {\n",
       "        vertical-align: top;\n",
       "    }\n",
       "\n",
       "    .dataframe thead th {\n",
       "        text-align: right;\n",
       "    }\n",
       "</style>\n",
       "<table border=\"1\" class=\"dataframe\">\n",
       "  <thead>\n",
       "    <tr style=\"text-align: right;\">\n",
       "      <th></th>\n",
       "      <th>species</th>\n",
       "      <th>island</th>\n",
       "      <th>bill_length_mm</th>\n",
       "      <th>bill_depth_mm</th>\n",
       "      <th>flipper_length_mm</th>\n",
       "      <th>body_mass_g</th>\n",
       "      <th>sex</th>\n",
       "      <th>year</th>\n",
       "    </tr>\n",
       "  </thead>\n",
       "  <tbody>\n",
       "    <tr>\n",
       "      <th>0</th>\n",
       "      <td>Adelie</td>\n",
       "      <td>Torgersen</td>\n",
       "      <td>39.1</td>\n",
       "      <td>18.7</td>\n",
       "      <td>181.0</td>\n",
       "      <td>3750.0</td>\n",
       "      <td>male</td>\n",
       "      <td>2007</td>\n",
       "    </tr>\n",
       "    <tr>\n",
       "      <th>1</th>\n",
       "      <td>Adelie</td>\n",
       "      <td>Torgersen</td>\n",
       "      <td>39.5</td>\n",
       "      <td>17.4</td>\n",
       "      <td>186.0</td>\n",
       "      <td>3800.0</td>\n",
       "      <td>female</td>\n",
       "      <td>2007</td>\n",
       "    </tr>\n",
       "    <tr>\n",
       "      <th>2</th>\n",
       "      <td>Adelie</td>\n",
       "      <td>Torgersen</td>\n",
       "      <td>40.3</td>\n",
       "      <td>18.0</td>\n",
       "      <td>195.0</td>\n",
       "      <td>3250.0</td>\n",
       "      <td>female</td>\n",
       "      <td>2007</td>\n",
       "    </tr>\n",
       "    <tr>\n",
       "      <th>3</th>\n",
       "      <td>Adelie</td>\n",
       "      <td>Torgersen</td>\n",
       "      <td>NaN</td>\n",
       "      <td>NaN</td>\n",
       "      <td>NaN</td>\n",
       "      <td>NaN</td>\n",
       "      <td>NaN</td>\n",
       "      <td>2007</td>\n",
       "    </tr>\n",
       "    <tr>\n",
       "      <th>4</th>\n",
       "      <td>Adelie</td>\n",
       "      <td>Torgersen</td>\n",
       "      <td>36.7</td>\n",
       "      <td>19.3</td>\n",
       "      <td>193.0</td>\n",
       "      <td>3450.0</td>\n",
       "      <td>female</td>\n",
       "      <td>2007</td>\n",
       "    </tr>\n",
       "    <tr>\n",
       "      <th>5</th>\n",
       "      <td>Adelie</td>\n",
       "      <td>Torgersen</td>\n",
       "      <td>39.3</td>\n",
       "      <td>20.6</td>\n",
       "      <td>190.0</td>\n",
       "      <td>3650.0</td>\n",
       "      <td>male</td>\n",
       "      <td>2007</td>\n",
       "    </tr>\n",
       "    <tr>\n",
       "      <th>6</th>\n",
       "      <td>Adelie</td>\n",
       "      <td>Torgersen</td>\n",
       "      <td>38.9</td>\n",
       "      <td>17.8</td>\n",
       "      <td>181.0</td>\n",
       "      <td>3625.0</td>\n",
       "      <td>female</td>\n",
       "      <td>2007</td>\n",
       "    </tr>\n",
       "    <tr>\n",
       "      <th>7</th>\n",
       "      <td>Adelie</td>\n",
       "      <td>Torgersen</td>\n",
       "      <td>39.2</td>\n",
       "      <td>19.6</td>\n",
       "      <td>195.0</td>\n",
       "      <td>4675.0</td>\n",
       "      <td>male</td>\n",
       "      <td>2007</td>\n",
       "    </tr>\n",
       "  </tbody>\n",
       "</table>\n",
       "</div>"
      ],
      "text/plain": [
       "  species     island  bill_length_mm  bill_depth_mm  flipper_length_mm  \\\n",
       "0  Adelie  Torgersen            39.1           18.7              181.0   \n",
       "1  Adelie  Torgersen            39.5           17.4              186.0   \n",
       "2  Adelie  Torgersen            40.3           18.0              195.0   \n",
       "3  Adelie  Torgersen             NaN            NaN                NaN   \n",
       "4  Adelie  Torgersen            36.7           19.3              193.0   \n",
       "5  Adelie  Torgersen            39.3           20.6              190.0   \n",
       "6  Adelie  Torgersen            38.9           17.8              181.0   \n",
       "7  Adelie  Torgersen            39.2           19.6              195.0   \n",
       "\n",
       "   body_mass_g     sex  year  \n",
       "0       3750.0    male  2007  \n",
       "1       3800.0  female  2007  \n",
       "2       3250.0  female  2007  \n",
       "3          NaN     NaN  2007  \n",
       "4       3450.0  female  2007  \n",
       "5       3650.0    male  2007  \n",
       "6       3625.0  female  2007  \n",
       "7       4675.0    male  2007  "
      ]
     },
     "execution_count": 13,
     "metadata": {},
     "output_type": "execute_result"
    }
   ],
   "source": [
    "df_penguins.head(8)"
   ]
  },
  {
   "cell_type": "markdown",
   "id": "c841930d-e235-468a-809d-8427f8739076",
   "metadata": {
    "id": "c841930d-e235-468a-809d-8427f8739076"
   },
   "source": [
    "**14.** How can you return the unique species of penguins from df_penguins?  How many unique species are there?"
   ]
  },
  {
   "cell_type": "code",
   "execution_count": 14,
   "id": "130ed9bd-397b-4504-bf26-6b0dc716ba8b",
   "metadata": {
    "id": "130ed9bd-397b-4504-bf26-6b0dc716ba8b"
   },
   "outputs": [],
   "source": [
    "unique_species_counts=np.unique(df_penguins['species'],return_counts=True)\n"
   ]
  },
  {
   "cell_type": "markdown",
   "id": "3912a3df-d931-4d74-a6fa-34ad11f83f94",
   "metadata": {
    "id": "3912a3df-d931-4d74-a6fa-34ad11f83f94"
   },
   "source": [
    "**15.** What function can we use to drop the rows that have missing data?"
   ]
  },
  {
   "cell_type": "code",
   "execution_count": 15,
   "id": "436cf3d3-db4a-42e3-81d3-9f2df28265f1",
   "metadata": {
    "id": "436cf3d3-db4a-42e3-81d3-9f2df28265f1"
   },
   "outputs": [
    {
     "data": {
      "text/html": [
       "<div>\n",
       "<style scoped>\n",
       "    .dataframe tbody tr th:only-of-type {\n",
       "        vertical-align: middle;\n",
       "    }\n",
       "\n",
       "    .dataframe tbody tr th {\n",
       "        vertical-align: top;\n",
       "    }\n",
       "\n",
       "    .dataframe thead th {\n",
       "        text-align: right;\n",
       "    }\n",
       "</style>\n",
       "<table border=\"1\" class=\"dataframe\">\n",
       "  <thead>\n",
       "    <tr style=\"text-align: right;\">\n",
       "      <th></th>\n",
       "      <th>species</th>\n",
       "      <th>island</th>\n",
       "      <th>bill_length_mm</th>\n",
       "      <th>bill_depth_mm</th>\n",
       "      <th>flipper_length_mm</th>\n",
       "      <th>body_mass_g</th>\n",
       "      <th>sex</th>\n",
       "      <th>year</th>\n",
       "    </tr>\n",
       "  </thead>\n",
       "  <tbody>\n",
       "    <tr>\n",
       "      <th>0</th>\n",
       "      <td>Adelie</td>\n",
       "      <td>Torgersen</td>\n",
       "      <td>39.1</td>\n",
       "      <td>18.7</td>\n",
       "      <td>181.0</td>\n",
       "      <td>3750.0</td>\n",
       "      <td>male</td>\n",
       "      <td>2007</td>\n",
       "    </tr>\n",
       "    <tr>\n",
       "      <th>1</th>\n",
       "      <td>Adelie</td>\n",
       "      <td>Torgersen</td>\n",
       "      <td>39.5</td>\n",
       "      <td>17.4</td>\n",
       "      <td>186.0</td>\n",
       "      <td>3800.0</td>\n",
       "      <td>female</td>\n",
       "      <td>2007</td>\n",
       "    </tr>\n",
       "    <tr>\n",
       "      <th>2</th>\n",
       "      <td>Adelie</td>\n",
       "      <td>Torgersen</td>\n",
       "      <td>40.3</td>\n",
       "      <td>18.0</td>\n",
       "      <td>195.0</td>\n",
       "      <td>3250.0</td>\n",
       "      <td>female</td>\n",
       "      <td>2007</td>\n",
       "    </tr>\n",
       "    <tr>\n",
       "      <th>4</th>\n",
       "      <td>Adelie</td>\n",
       "      <td>Torgersen</td>\n",
       "      <td>36.7</td>\n",
       "      <td>19.3</td>\n",
       "      <td>193.0</td>\n",
       "      <td>3450.0</td>\n",
       "      <td>female</td>\n",
       "      <td>2007</td>\n",
       "    </tr>\n",
       "    <tr>\n",
       "      <th>5</th>\n",
       "      <td>Adelie</td>\n",
       "      <td>Torgersen</td>\n",
       "      <td>39.3</td>\n",
       "      <td>20.6</td>\n",
       "      <td>190.0</td>\n",
       "      <td>3650.0</td>\n",
       "      <td>male</td>\n",
       "      <td>2007</td>\n",
       "    </tr>\n",
       "    <tr>\n",
       "      <th>...</th>\n",
       "      <td>...</td>\n",
       "      <td>...</td>\n",
       "      <td>...</td>\n",
       "      <td>...</td>\n",
       "      <td>...</td>\n",
       "      <td>...</td>\n",
       "      <td>...</td>\n",
       "      <td>...</td>\n",
       "    </tr>\n",
       "    <tr>\n",
       "      <th>339</th>\n",
       "      <td>Chinstrap</td>\n",
       "      <td>Dream</td>\n",
       "      <td>55.8</td>\n",
       "      <td>19.8</td>\n",
       "      <td>207.0</td>\n",
       "      <td>4000.0</td>\n",
       "      <td>male</td>\n",
       "      <td>2009</td>\n",
       "    </tr>\n",
       "    <tr>\n",
       "      <th>340</th>\n",
       "      <td>Chinstrap</td>\n",
       "      <td>Dream</td>\n",
       "      <td>43.5</td>\n",
       "      <td>18.1</td>\n",
       "      <td>202.0</td>\n",
       "      <td>3400.0</td>\n",
       "      <td>female</td>\n",
       "      <td>2009</td>\n",
       "    </tr>\n",
       "    <tr>\n",
       "      <th>341</th>\n",
       "      <td>Chinstrap</td>\n",
       "      <td>Dream</td>\n",
       "      <td>49.6</td>\n",
       "      <td>18.2</td>\n",
       "      <td>193.0</td>\n",
       "      <td>3775.0</td>\n",
       "      <td>male</td>\n",
       "      <td>2009</td>\n",
       "    </tr>\n",
       "    <tr>\n",
       "      <th>342</th>\n",
       "      <td>Chinstrap</td>\n",
       "      <td>Dream</td>\n",
       "      <td>50.8</td>\n",
       "      <td>19.0</td>\n",
       "      <td>210.0</td>\n",
       "      <td>4100.0</td>\n",
       "      <td>male</td>\n",
       "      <td>2009</td>\n",
       "    </tr>\n",
       "    <tr>\n",
       "      <th>343</th>\n",
       "      <td>Chinstrap</td>\n",
       "      <td>Dream</td>\n",
       "      <td>50.2</td>\n",
       "      <td>18.7</td>\n",
       "      <td>198.0</td>\n",
       "      <td>3775.0</td>\n",
       "      <td>female</td>\n",
       "      <td>2009</td>\n",
       "    </tr>\n",
       "  </tbody>\n",
       "</table>\n",
       "<p>333 rows × 8 columns</p>\n",
       "</div>"
      ],
      "text/plain": [
       "       species     island  bill_length_mm  bill_depth_mm  flipper_length_mm  \\\n",
       "0       Adelie  Torgersen            39.1           18.7              181.0   \n",
       "1       Adelie  Torgersen            39.5           17.4              186.0   \n",
       "2       Adelie  Torgersen            40.3           18.0              195.0   \n",
       "4       Adelie  Torgersen            36.7           19.3              193.0   \n",
       "5       Adelie  Torgersen            39.3           20.6              190.0   \n",
       "..         ...        ...             ...            ...                ...   \n",
       "339  Chinstrap      Dream            55.8           19.8              207.0   \n",
       "340  Chinstrap      Dream            43.5           18.1              202.0   \n",
       "341  Chinstrap      Dream            49.6           18.2              193.0   \n",
       "342  Chinstrap      Dream            50.8           19.0              210.0   \n",
       "343  Chinstrap      Dream            50.2           18.7              198.0   \n",
       "\n",
       "     body_mass_g     sex  year  \n",
       "0         3750.0    male  2007  \n",
       "1         3800.0  female  2007  \n",
       "2         3250.0  female  2007  \n",
       "4         3450.0  female  2007  \n",
       "5         3650.0    male  2007  \n",
       "..           ...     ...   ...  \n",
       "339       4000.0    male  2009  \n",
       "340       3400.0  female  2009  \n",
       "341       3775.0    male  2009  \n",
       "342       4100.0    male  2009  \n",
       "343       3775.0  female  2009  \n",
       "\n",
       "[333 rows x 8 columns]"
      ]
     },
     "execution_count": 15,
     "metadata": {},
     "output_type": "execute_result"
    }
   ],
   "source": [
    "df_penguins.dropna()"
   ]
  },
  {
   "cell_type": "code",
   "execution_count": 16,
   "id": "21125510-f064-4e5e-b123-91b68984b0d6",
   "metadata": {},
   "outputs": [
    {
     "data": {
      "text/html": [
       "<div>\n",
       "<style scoped>\n",
       "    .dataframe tbody tr th:only-of-type {\n",
       "        vertical-align: middle;\n",
       "    }\n",
       "\n",
       "    .dataframe tbody tr th {\n",
       "        vertical-align: top;\n",
       "    }\n",
       "\n",
       "    .dataframe thead th {\n",
       "        text-align: right;\n",
       "    }\n",
       "</style>\n",
       "<table border=\"1\" class=\"dataframe\">\n",
       "  <thead>\n",
       "    <tr style=\"text-align: right;\">\n",
       "      <th></th>\n",
       "      <th>species</th>\n",
       "      <th>island</th>\n",
       "      <th>bill_length_mm</th>\n",
       "      <th>bill_depth_mm</th>\n",
       "      <th>flipper_length_mm</th>\n",
       "      <th>body_mass_g</th>\n",
       "      <th>sex</th>\n",
       "      <th>year</th>\n",
       "    </tr>\n",
       "  </thead>\n",
       "  <tbody>\n",
       "    <tr>\n",
       "      <th>0</th>\n",
       "      <td>Adelie</td>\n",
       "      <td>Torgersen</td>\n",
       "      <td>39.1</td>\n",
       "      <td>18.7</td>\n",
       "      <td>181.0</td>\n",
       "      <td>3750.0</td>\n",
       "      <td>male</td>\n",
       "      <td>2007</td>\n",
       "    </tr>\n",
       "    <tr>\n",
       "      <th>1</th>\n",
       "      <td>Adelie</td>\n",
       "      <td>Torgersen</td>\n",
       "      <td>39.5</td>\n",
       "      <td>17.4</td>\n",
       "      <td>186.0</td>\n",
       "      <td>3800.0</td>\n",
       "      <td>female</td>\n",
       "      <td>2007</td>\n",
       "    </tr>\n",
       "    <tr>\n",
       "      <th>2</th>\n",
       "      <td>Adelie</td>\n",
       "      <td>Torgersen</td>\n",
       "      <td>40.3</td>\n",
       "      <td>18.0</td>\n",
       "      <td>195.0</td>\n",
       "      <td>3250.0</td>\n",
       "      <td>female</td>\n",
       "      <td>2007</td>\n",
       "    </tr>\n",
       "    <tr>\n",
       "      <th>3</th>\n",
       "      <td>Adelie</td>\n",
       "      <td>Torgersen</td>\n",
       "      <td>NaN</td>\n",
       "      <td>NaN</td>\n",
       "      <td>NaN</td>\n",
       "      <td>NaN</td>\n",
       "      <td>NaN</td>\n",
       "      <td>2007</td>\n",
       "    </tr>\n",
       "    <tr>\n",
       "      <th>4</th>\n",
       "      <td>Adelie</td>\n",
       "      <td>Torgersen</td>\n",
       "      <td>36.7</td>\n",
       "      <td>19.3</td>\n",
       "      <td>193.0</td>\n",
       "      <td>3450.0</td>\n",
       "      <td>female</td>\n",
       "      <td>2007</td>\n",
       "    </tr>\n",
       "    <tr>\n",
       "      <th>...</th>\n",
       "      <td>...</td>\n",
       "      <td>...</td>\n",
       "      <td>...</td>\n",
       "      <td>...</td>\n",
       "      <td>...</td>\n",
       "      <td>...</td>\n",
       "      <td>...</td>\n",
       "      <td>...</td>\n",
       "    </tr>\n",
       "    <tr>\n",
       "      <th>339</th>\n",
       "      <td>Chinstrap</td>\n",
       "      <td>Dream</td>\n",
       "      <td>55.8</td>\n",
       "      <td>19.8</td>\n",
       "      <td>207.0</td>\n",
       "      <td>4000.0</td>\n",
       "      <td>male</td>\n",
       "      <td>2009</td>\n",
       "    </tr>\n",
       "    <tr>\n",
       "      <th>340</th>\n",
       "      <td>Chinstrap</td>\n",
       "      <td>Dream</td>\n",
       "      <td>43.5</td>\n",
       "      <td>18.1</td>\n",
       "      <td>202.0</td>\n",
       "      <td>3400.0</td>\n",
       "      <td>female</td>\n",
       "      <td>2009</td>\n",
       "    </tr>\n",
       "    <tr>\n",
       "      <th>341</th>\n",
       "      <td>Chinstrap</td>\n",
       "      <td>Dream</td>\n",
       "      <td>49.6</td>\n",
       "      <td>18.2</td>\n",
       "      <td>193.0</td>\n",
       "      <td>3775.0</td>\n",
       "      <td>male</td>\n",
       "      <td>2009</td>\n",
       "    </tr>\n",
       "    <tr>\n",
       "      <th>342</th>\n",
       "      <td>Chinstrap</td>\n",
       "      <td>Dream</td>\n",
       "      <td>50.8</td>\n",
       "      <td>19.0</td>\n",
       "      <td>210.0</td>\n",
       "      <td>4100.0</td>\n",
       "      <td>male</td>\n",
       "      <td>2009</td>\n",
       "    </tr>\n",
       "    <tr>\n",
       "      <th>343</th>\n",
       "      <td>Chinstrap</td>\n",
       "      <td>Dream</td>\n",
       "      <td>50.2</td>\n",
       "      <td>18.7</td>\n",
       "      <td>198.0</td>\n",
       "      <td>3775.0</td>\n",
       "      <td>female</td>\n",
       "      <td>2009</td>\n",
       "    </tr>\n",
       "  </tbody>\n",
       "</table>\n",
       "<p>344 rows × 8 columns</p>\n",
       "</div>"
      ],
      "text/plain": [
       "       species     island  bill_length_mm  bill_depth_mm  flipper_length_mm  \\\n",
       "0       Adelie  Torgersen            39.1           18.7              181.0   \n",
       "1       Adelie  Torgersen            39.5           17.4              186.0   \n",
       "2       Adelie  Torgersen            40.3           18.0              195.0   \n",
       "3       Adelie  Torgersen             NaN            NaN                NaN   \n",
       "4       Adelie  Torgersen            36.7           19.3              193.0   \n",
       "..         ...        ...             ...            ...                ...   \n",
       "339  Chinstrap      Dream            55.8           19.8              207.0   \n",
       "340  Chinstrap      Dream            43.5           18.1              202.0   \n",
       "341  Chinstrap      Dream            49.6           18.2              193.0   \n",
       "342  Chinstrap      Dream            50.8           19.0              210.0   \n",
       "343  Chinstrap      Dream            50.2           18.7              198.0   \n",
       "\n",
       "     body_mass_g     sex  year  \n",
       "0         3750.0    male  2007  \n",
       "1         3800.0  female  2007  \n",
       "2         3250.0  female  2007  \n",
       "3            NaN     NaN  2007  \n",
       "4         3450.0  female  2007  \n",
       "..           ...     ...   ...  \n",
       "339       4000.0    male  2009  \n",
       "340       3400.0  female  2009  \n",
       "341       3775.0    male  2009  \n",
       "342       4100.0    male  2009  \n",
       "343       3775.0  female  2009  \n",
       "\n",
       "[344 rows x 8 columns]"
      ]
     },
     "execution_count": 16,
     "metadata": {},
     "output_type": "execute_result"
    }
   ],
   "source": [
    "df_penguins"
   ]
  },
  {
   "cell_type": "markdown",
   "id": "f1feab44-7136-4736-a11c-ee005fdb0698",
   "metadata": {
    "id": "f1feab44-7136-4736-a11c-ee005fdb0698"
   },
   "source": [
    "**16.** By default, will this modify df_penguins or will it return a copy?"
   ]
  },
  {
   "cell_type": "markdown",
   "id": "8b0981bc-d8b1-42a5-9df6-e2723f61013c",
   "metadata": {
    "id": "8b0981bc-d8b1-42a5-9df6-e2723f61013c"
   },
   "source": [
    "no"
   ]
  },
  {
   "cell_type": "markdown",
   "id": "7f35c024-ac5c-43e0-8ea7-3e03953f644b",
   "metadata": {
    "id": "7f35c024-ac5c-43e0-8ea7-3e03953f644b"
   },
   "source": [
    "**17.** How can we override the default?"
   ]
  },
  {
   "cell_type": "markdown",
   "id": "3f62e100-1000-40df-b21b-6af919fbb945",
   "metadata": {
    "id": "3f62e100-1000-40df-b21b-6af919fbb945"
   },
   "source": [
    "inplace=True"
   ]
  },
  {
   "cell_type": "markdown",
   "id": "a17f9c69-c8e2-4331-b9c7-c5be6a13a968",
   "metadata": {
    "id": "a17f9c69-c8e2-4331-b9c7-c5be6a13a968"
   },
   "source": [
    "**18.** Create a new DataFrame, df_penguins_full, with the missing data deleted."
   ]
  },
  {
   "cell_type": "code",
   "execution_count": 17,
   "id": "f160094c-ba0c-4fe1-96f0-d6b23e8162c9",
   "metadata": {
    "id": "f160094c-ba0c-4fe1-96f0-d6b23e8162c9"
   },
   "outputs": [],
   "source": [
    "df_penguins_full=df_penguins.dropna()"
   ]
  },
  {
   "cell_type": "markdown",
   "id": "c34afa01-c0c4-40fa-b3a6-3b7c6abc58e1",
   "metadata": {
    "id": "c34afa01-c0c4-40fa-b3a6-3b7c6abc58e1"
   },
   "source": [
    "**19.** What is the average bill length of a penguin, in millimeters, in this (df_full) data set?"
   ]
  },
  {
   "cell_type": "code",
   "execution_count": 18,
   "id": "6012e669-3c97-4949-be33-3e44daf9534a",
   "metadata": {
    "id": "6012e669-3c97-4949-be33-3e44daf9534a"
   },
   "outputs": [
    {
     "data": {
      "text/plain": [
       "43.9219298245614"
      ]
     },
     "execution_count": 18,
     "metadata": {},
     "output_type": "execute_result"
    }
   ],
   "source": [
    "df_penguins[\"bill_length_mm\"].mean()"
   ]
  },
  {
   "cell_type": "markdown",
   "id": "38076367-ae05-4567-8963-12b5e0d77214",
   "metadata": {
    "id": "38076367-ae05-4567-8963-12b5e0d77214"
   },
   "source": [
    "**20.** Which of the following is most strongly correlated with bill length?  a) Body mass?  b) Flipper length?  c) Bill depth?  Show how you arrived at the answer."
   ]
  },
  {
   "cell_type": "markdown",
   "id": "2edbbf08-8f1d-40ea-b137-cdcdbfe02787",
   "metadata": {
    "id": "2edbbf08-8f1d-40ea-b137-cdcdbfe02787"
   },
   "source": []
  },
  {
   "cell_type": "code",
   "execution_count": null,
   "id": "93840bc0-eda0-48fd-b14d-4405a484c547",
   "metadata": {
    "id": "93840bc0-eda0-48fd-b14d-4405a484c547"
   },
   "outputs": [],
   "source": []
  },
  {
   "cell_type": "markdown",
   "id": "538ed22f-f2c0-46df-bf41-6a27246e356d",
   "metadata": {
    "id": "538ed22f-f2c0-46df-bf41-6a27246e356d"
   },
   "source": [
    "**21.** How could you show the median flipper length, grouped by species?"
   ]
  },
  {
   "cell_type": "code",
   "execution_count": 19,
   "id": "a39321c8-1822-4078-91f9-6f9a36a3bab7",
   "metadata": {
    "id": "a39321c8-1822-4078-91f9-6f9a36a3bab7"
   },
   "outputs": [
    {
     "name": "stdout",
     "output_type": "stream",
     "text": [
      "     species  flipper_length_mm\n",
      "0     Adelie              190.0\n",
      "1  Chinstrap              196.0\n",
      "2     Gentoo              216.0\n"
     ]
    }
   ],
   "source": [
    "median_flipper_by_species = df_penguins.groupby('species')['flipper_length_mm'].median().reset_index()\n",
    "print(median_flipper_by_species)"
   ]
  },
  {
   "cell_type": "markdown",
   "id": "0d6ff0a0-f72b-47a0-a8c5-50cf2e9c8ef4",
   "metadata": {
    "id": "0d6ff0a0-f72b-47a0-a8c5-50cf2e9c8ef4"
   },
   "source": [
    "**22.** Which species has the longest flippers?"
   ]
  },
  {
   "cell_type": "code",
   "execution_count": 20,
   "id": "bded05fc-53d6-461f-92bd-b2cb5c0f26bc",
   "metadata": {},
   "outputs": [
    {
     "data": {
      "text/plain": [
       "'Gentoo'"
      ]
     },
     "execution_count": 20,
     "metadata": {},
     "output_type": "execute_result"
    }
   ],
   "source": [
    "'Gentoo'"
   ]
  },
  {
   "cell_type": "markdown",
   "id": "20f5ec8f-1580-438d-8ddb-ad2eeabed1ba",
   "metadata": {
    "id": "20f5ec8f-1580-438d-8ddb-ad2eeabed1ba"
   },
   "source": []
  },
  {
   "cell_type": "markdown",
   "id": "f50dacfd-a59d-4763-b8bf-004a02d8f05f",
   "metadata": {
    "id": "f50dacfd-a59d-4763-b8bf-004a02d8f05f"
   },
   "source": [
    "**23.** Which two species have the most similar mean weight?  Show how you arrived at the answer."
   ]
  },
  {
   "cell_type": "markdown",
   "id": "be5582aa-447d-4645-85cd-072894fcbb82",
   "metadata": {
    "id": "be5582aa-447d-4645-85cd-072894fcbb82"
   },
   "source": [
    "Adelie and Chinstrap"
   ]
  },
  {
   "cell_type": "code",
   "execution_count": 21,
   "id": "c61f152b-d401-4c28-aea1-014d01100136",
   "metadata": {
    "id": "c61f152b-d401-4c28-aea1-014d01100136"
   },
   "outputs": [
    {
     "name": "stdout",
     "output_type": "stream",
     "text": [
      "     species  flipper_length_mm\n",
      "0     Adelie         189.953642\n",
      "1  Chinstrap         195.823529\n",
      "2     Gentoo         217.186992\n"
     ]
    }
   ],
   "source": [
    "mean_flipper_by_species = df_penguins.groupby('species')['flipper_length_mm'].mean().reset_index()\n",
    "print(mean_flipper_by_species)"
   ]
  },
  {
   "cell_type": "markdown",
   "id": "ddca88e5-374f-4c8a-bf61-26b70a8b3a90",
   "metadata": {
    "id": "ddca88e5-374f-4c8a-bf61-26b70a8b3a90"
   },
   "source": [
    "**24.** How could you sort the rows by bill length?"
   ]
  },
  {
   "cell_type": "code",
   "execution_count": 22,
   "id": "4faabd67-0417-45ca-b907-7a170f4e9b71",
   "metadata": {
    "id": "4faabd67-0417-45ca-b907-7a170f4e9b71"
   },
   "outputs": [
    {
     "data": {
      "text/html": [
       "<div>\n",
       "<style scoped>\n",
       "    .dataframe tbody tr th:only-of-type {\n",
       "        vertical-align: middle;\n",
       "    }\n",
       "\n",
       "    .dataframe tbody tr th {\n",
       "        vertical-align: top;\n",
       "    }\n",
       "\n",
       "    .dataframe thead th {\n",
       "        text-align: right;\n",
       "    }\n",
       "</style>\n",
       "<table border=\"1\" class=\"dataframe\">\n",
       "  <thead>\n",
       "    <tr style=\"text-align: right;\">\n",
       "      <th></th>\n",
       "      <th>species</th>\n",
       "      <th>island</th>\n",
       "      <th>bill_length_mm</th>\n",
       "      <th>bill_depth_mm</th>\n",
       "      <th>flipper_length_mm</th>\n",
       "      <th>body_mass_g</th>\n",
       "      <th>sex</th>\n",
       "      <th>year</th>\n",
       "    </tr>\n",
       "  </thead>\n",
       "  <tbody>\n",
       "    <tr>\n",
       "      <th>142</th>\n",
       "      <td>Adelie</td>\n",
       "      <td>Dream</td>\n",
       "      <td>32.1</td>\n",
       "      <td>15.5</td>\n",
       "      <td>188.0</td>\n",
       "      <td>3050.0</td>\n",
       "      <td>female</td>\n",
       "      <td>2009</td>\n",
       "    </tr>\n",
       "    <tr>\n",
       "      <th>98</th>\n",
       "      <td>Adelie</td>\n",
       "      <td>Dream</td>\n",
       "      <td>33.1</td>\n",
       "      <td>16.1</td>\n",
       "      <td>178.0</td>\n",
       "      <td>2900.0</td>\n",
       "      <td>female</td>\n",
       "      <td>2008</td>\n",
       "    </tr>\n",
       "    <tr>\n",
       "      <th>70</th>\n",
       "      <td>Adelie</td>\n",
       "      <td>Torgersen</td>\n",
       "      <td>33.5</td>\n",
       "      <td>19.0</td>\n",
       "      <td>190.0</td>\n",
       "      <td>3600.0</td>\n",
       "      <td>female</td>\n",
       "      <td>2008</td>\n",
       "    </tr>\n",
       "    <tr>\n",
       "      <th>92</th>\n",
       "      <td>Adelie</td>\n",
       "      <td>Dream</td>\n",
       "      <td>34.0</td>\n",
       "      <td>17.1</td>\n",
       "      <td>185.0</td>\n",
       "      <td>3400.0</td>\n",
       "      <td>female</td>\n",
       "      <td>2008</td>\n",
       "    </tr>\n",
       "    <tr>\n",
       "      <th>8</th>\n",
       "      <td>Adelie</td>\n",
       "      <td>Torgersen</td>\n",
       "      <td>34.1</td>\n",
       "      <td>18.1</td>\n",
       "      <td>193.0</td>\n",
       "      <td>3475.0</td>\n",
       "      <td>NaN</td>\n",
       "      <td>2007</td>\n",
       "    </tr>\n",
       "    <tr>\n",
       "      <th>...</th>\n",
       "      <td>...</td>\n",
       "      <td>...</td>\n",
       "      <td>...</td>\n",
       "      <td>...</td>\n",
       "      <td>...</td>\n",
       "      <td>...</td>\n",
       "      <td>...</td>\n",
       "      <td>...</td>\n",
       "    </tr>\n",
       "    <tr>\n",
       "      <th>253</th>\n",
       "      <td>Gentoo</td>\n",
       "      <td>Biscoe</td>\n",
       "      <td>55.9</td>\n",
       "      <td>17.0</td>\n",
       "      <td>228.0</td>\n",
       "      <td>5600.0</td>\n",
       "      <td>male</td>\n",
       "      <td>2009</td>\n",
       "    </tr>\n",
       "    <tr>\n",
       "      <th>293</th>\n",
       "      <td>Chinstrap</td>\n",
       "      <td>Dream</td>\n",
       "      <td>58.0</td>\n",
       "      <td>17.8</td>\n",
       "      <td>181.0</td>\n",
       "      <td>3700.0</td>\n",
       "      <td>female</td>\n",
       "      <td>2007</td>\n",
       "    </tr>\n",
       "    <tr>\n",
       "      <th>185</th>\n",
       "      <td>Gentoo</td>\n",
       "      <td>Biscoe</td>\n",
       "      <td>59.6</td>\n",
       "      <td>17.0</td>\n",
       "      <td>230.0</td>\n",
       "      <td>6050.0</td>\n",
       "      <td>male</td>\n",
       "      <td>2007</td>\n",
       "    </tr>\n",
       "    <tr>\n",
       "      <th>3</th>\n",
       "      <td>Adelie</td>\n",
       "      <td>Torgersen</td>\n",
       "      <td>NaN</td>\n",
       "      <td>NaN</td>\n",
       "      <td>NaN</td>\n",
       "      <td>NaN</td>\n",
       "      <td>NaN</td>\n",
       "      <td>2007</td>\n",
       "    </tr>\n",
       "    <tr>\n",
       "      <th>271</th>\n",
       "      <td>Gentoo</td>\n",
       "      <td>Biscoe</td>\n",
       "      <td>NaN</td>\n",
       "      <td>NaN</td>\n",
       "      <td>NaN</td>\n",
       "      <td>NaN</td>\n",
       "      <td>NaN</td>\n",
       "      <td>2009</td>\n",
       "    </tr>\n",
       "  </tbody>\n",
       "</table>\n",
       "<p>344 rows × 8 columns</p>\n",
       "</div>"
      ],
      "text/plain": [
       "       species     island  bill_length_mm  bill_depth_mm  flipper_length_mm  \\\n",
       "142     Adelie      Dream            32.1           15.5              188.0   \n",
       "98      Adelie      Dream            33.1           16.1              178.0   \n",
       "70      Adelie  Torgersen            33.5           19.0              190.0   \n",
       "92      Adelie      Dream            34.0           17.1              185.0   \n",
       "8       Adelie  Torgersen            34.1           18.1              193.0   \n",
       "..         ...        ...             ...            ...                ...   \n",
       "253     Gentoo     Biscoe            55.9           17.0              228.0   \n",
       "293  Chinstrap      Dream            58.0           17.8              181.0   \n",
       "185     Gentoo     Biscoe            59.6           17.0              230.0   \n",
       "3       Adelie  Torgersen             NaN            NaN                NaN   \n",
       "271     Gentoo     Biscoe             NaN            NaN                NaN   \n",
       "\n",
       "     body_mass_g     sex  year  \n",
       "142       3050.0  female  2009  \n",
       "98        2900.0  female  2008  \n",
       "70        3600.0  female  2008  \n",
       "92        3400.0  female  2008  \n",
       "8         3475.0     NaN  2007  \n",
       "..           ...     ...   ...  \n",
       "253       5600.0    male  2009  \n",
       "293       3700.0  female  2007  \n",
       "185       6050.0    male  2007  \n",
       "3            NaN     NaN  2007  \n",
       "271          NaN     NaN  2009  \n",
       "\n",
       "[344 rows x 8 columns]"
      ]
     },
     "execution_count": 22,
     "metadata": {},
     "output_type": "execute_result"
    }
   ],
   "source": [
    "sorted_df = df_penguins.sort_values(by='bill_length_mm', ascending=True)\n",
    "sorted_df"
   ]
  },
  {
   "cell_type": "markdown",
   "id": "56d12fe3-805d-4f79-bf83-e515b5070229",
   "metadata": {
    "id": "56d12fe3-805d-4f79-bf83-e515b5070229"
   },
   "source": [
    "**25.** How could you run the same sort in descending order?"
   ]
  },
  {
   "cell_type": "code",
   "execution_count": 23,
   "id": "02544f08-974e-463c-a2da-ac0b3ba3ff0d",
   "metadata": {
    "id": "02544f08-974e-463c-a2da-ac0b3ba3ff0d"
   },
   "outputs": [
    {
     "data": {
      "text/html": [
       "<div>\n",
       "<style scoped>\n",
       "    .dataframe tbody tr th:only-of-type {\n",
       "        vertical-align: middle;\n",
       "    }\n",
       "\n",
       "    .dataframe tbody tr th {\n",
       "        vertical-align: top;\n",
       "    }\n",
       "\n",
       "    .dataframe thead th {\n",
       "        text-align: right;\n",
       "    }\n",
       "</style>\n",
       "<table border=\"1\" class=\"dataframe\">\n",
       "  <thead>\n",
       "    <tr style=\"text-align: right;\">\n",
       "      <th></th>\n",
       "      <th>species</th>\n",
       "      <th>island</th>\n",
       "      <th>bill_length_mm</th>\n",
       "      <th>bill_depth_mm</th>\n",
       "      <th>flipper_length_mm</th>\n",
       "      <th>body_mass_g</th>\n",
       "      <th>sex</th>\n",
       "      <th>year</th>\n",
       "    </tr>\n",
       "  </thead>\n",
       "  <tbody>\n",
       "    <tr>\n",
       "      <th>185</th>\n",
       "      <td>Gentoo</td>\n",
       "      <td>Biscoe</td>\n",
       "      <td>59.6</td>\n",
       "      <td>17.0</td>\n",
       "      <td>230.0</td>\n",
       "      <td>6050.0</td>\n",
       "      <td>male</td>\n",
       "      <td>2007</td>\n",
       "    </tr>\n",
       "    <tr>\n",
       "      <th>293</th>\n",
       "      <td>Chinstrap</td>\n",
       "      <td>Dream</td>\n",
       "      <td>58.0</td>\n",
       "      <td>17.8</td>\n",
       "      <td>181.0</td>\n",
       "      <td>3700.0</td>\n",
       "      <td>female</td>\n",
       "      <td>2007</td>\n",
       "    </tr>\n",
       "    <tr>\n",
       "      <th>253</th>\n",
       "      <td>Gentoo</td>\n",
       "      <td>Biscoe</td>\n",
       "      <td>55.9</td>\n",
       "      <td>17.0</td>\n",
       "      <td>228.0</td>\n",
       "      <td>5600.0</td>\n",
       "      <td>male</td>\n",
       "      <td>2009</td>\n",
       "    </tr>\n",
       "    <tr>\n",
       "      <th>339</th>\n",
       "      <td>Chinstrap</td>\n",
       "      <td>Dream</td>\n",
       "      <td>55.8</td>\n",
       "      <td>19.8</td>\n",
       "      <td>207.0</td>\n",
       "      <td>4000.0</td>\n",
       "      <td>male</td>\n",
       "      <td>2009</td>\n",
       "    </tr>\n",
       "    <tr>\n",
       "      <th>267</th>\n",
       "      <td>Gentoo</td>\n",
       "      <td>Biscoe</td>\n",
       "      <td>55.1</td>\n",
       "      <td>16.0</td>\n",
       "      <td>230.0</td>\n",
       "      <td>5850.0</td>\n",
       "      <td>male</td>\n",
       "      <td>2009</td>\n",
       "    </tr>\n",
       "    <tr>\n",
       "      <th>...</th>\n",
       "      <td>...</td>\n",
       "      <td>...</td>\n",
       "      <td>...</td>\n",
       "      <td>...</td>\n",
       "      <td>...</td>\n",
       "      <td>...</td>\n",
       "      <td>...</td>\n",
       "      <td>...</td>\n",
       "    </tr>\n",
       "    <tr>\n",
       "      <th>70</th>\n",
       "      <td>Adelie</td>\n",
       "      <td>Torgersen</td>\n",
       "      <td>33.5</td>\n",
       "      <td>19.0</td>\n",
       "      <td>190.0</td>\n",
       "      <td>3600.0</td>\n",
       "      <td>female</td>\n",
       "      <td>2008</td>\n",
       "    </tr>\n",
       "    <tr>\n",
       "      <th>98</th>\n",
       "      <td>Adelie</td>\n",
       "      <td>Dream</td>\n",
       "      <td>33.1</td>\n",
       "      <td>16.1</td>\n",
       "      <td>178.0</td>\n",
       "      <td>2900.0</td>\n",
       "      <td>female</td>\n",
       "      <td>2008</td>\n",
       "    </tr>\n",
       "    <tr>\n",
       "      <th>142</th>\n",
       "      <td>Adelie</td>\n",
       "      <td>Dream</td>\n",
       "      <td>32.1</td>\n",
       "      <td>15.5</td>\n",
       "      <td>188.0</td>\n",
       "      <td>3050.0</td>\n",
       "      <td>female</td>\n",
       "      <td>2009</td>\n",
       "    </tr>\n",
       "    <tr>\n",
       "      <th>3</th>\n",
       "      <td>Adelie</td>\n",
       "      <td>Torgersen</td>\n",
       "      <td>NaN</td>\n",
       "      <td>NaN</td>\n",
       "      <td>NaN</td>\n",
       "      <td>NaN</td>\n",
       "      <td>NaN</td>\n",
       "      <td>2007</td>\n",
       "    </tr>\n",
       "    <tr>\n",
       "      <th>271</th>\n",
       "      <td>Gentoo</td>\n",
       "      <td>Biscoe</td>\n",
       "      <td>NaN</td>\n",
       "      <td>NaN</td>\n",
       "      <td>NaN</td>\n",
       "      <td>NaN</td>\n",
       "      <td>NaN</td>\n",
       "      <td>2009</td>\n",
       "    </tr>\n",
       "  </tbody>\n",
       "</table>\n",
       "<p>344 rows × 8 columns</p>\n",
       "</div>"
      ],
      "text/plain": [
       "       species     island  bill_length_mm  bill_depth_mm  flipper_length_mm  \\\n",
       "185     Gentoo     Biscoe            59.6           17.0              230.0   \n",
       "293  Chinstrap      Dream            58.0           17.8              181.0   \n",
       "253     Gentoo     Biscoe            55.9           17.0              228.0   \n",
       "339  Chinstrap      Dream            55.8           19.8              207.0   \n",
       "267     Gentoo     Biscoe            55.1           16.0              230.0   \n",
       "..         ...        ...             ...            ...                ...   \n",
       "70      Adelie  Torgersen            33.5           19.0              190.0   \n",
       "98      Adelie      Dream            33.1           16.1              178.0   \n",
       "142     Adelie      Dream            32.1           15.5              188.0   \n",
       "3       Adelie  Torgersen             NaN            NaN                NaN   \n",
       "271     Gentoo     Biscoe             NaN            NaN                NaN   \n",
       "\n",
       "     body_mass_g     sex  year  \n",
       "185       6050.0    male  2007  \n",
       "293       3700.0  female  2007  \n",
       "253       5600.0    male  2009  \n",
       "339       4000.0    male  2009  \n",
       "267       5850.0    male  2009  \n",
       "..           ...     ...   ...  \n",
       "70        3600.0  female  2008  \n",
       "98        2900.0  female  2008  \n",
       "142       3050.0  female  2009  \n",
       "3            NaN     NaN  2007  \n",
       "271          NaN     NaN  2009  \n",
       "\n",
       "[344 rows x 8 columns]"
      ]
     },
     "execution_count": 23,
     "metadata": {},
     "output_type": "execute_result"
    }
   ],
   "source": [
    "desorted_df = df_penguins.sort_values(by='bill_length_mm', ascending=False)\n",
    "desorted_df"
   ]
  },
  {
   "cell_type": "markdown",
   "id": "3b69d24f-cd5b-41c9-a4eb-b8325251fe7b",
   "metadata": {
    "id": "3b69d24f-cd5b-41c9-a4eb-b8325251fe7b"
   },
   "source": [
    "**26.** How could you sort by species first, then by body mass?"
   ]
  },
  {
   "cell_type": "code",
   "execution_count": 24,
   "id": "bda80b1d-2773-493f-b13d-7b2fa60e6849",
   "metadata": {
    "id": "bda80b1d-2773-493f-b13d-7b2fa60e6849"
   },
   "outputs": [
    {
     "data": {
      "text/html": [
       "<div>\n",
       "<style scoped>\n",
       "    .dataframe tbody tr th:only-of-type {\n",
       "        vertical-align: middle;\n",
       "    }\n",
       "\n",
       "    .dataframe tbody tr th {\n",
       "        vertical-align: top;\n",
       "    }\n",
       "\n",
       "    .dataframe thead th {\n",
       "        text-align: right;\n",
       "    }\n",
       "</style>\n",
       "<table border=\"1\" class=\"dataframe\">\n",
       "  <thead>\n",
       "    <tr style=\"text-align: right;\">\n",
       "      <th></th>\n",
       "      <th>species</th>\n",
       "      <th>island</th>\n",
       "      <th>bill_length_mm</th>\n",
       "      <th>bill_depth_mm</th>\n",
       "      <th>flipper_length_mm</th>\n",
       "      <th>body_mass_g</th>\n",
       "      <th>sex</th>\n",
       "      <th>year</th>\n",
       "    </tr>\n",
       "  </thead>\n",
       "  <tbody>\n",
       "    <tr>\n",
       "      <th>58</th>\n",
       "      <td>Adelie</td>\n",
       "      <td>Biscoe</td>\n",
       "      <td>36.5</td>\n",
       "      <td>16.6</td>\n",
       "      <td>181.0</td>\n",
       "      <td>2850.0</td>\n",
       "      <td>female</td>\n",
       "      <td>2008</td>\n",
       "    </tr>\n",
       "    <tr>\n",
       "      <th>64</th>\n",
       "      <td>Adelie</td>\n",
       "      <td>Biscoe</td>\n",
       "      <td>36.4</td>\n",
       "      <td>17.1</td>\n",
       "      <td>184.0</td>\n",
       "      <td>2850.0</td>\n",
       "      <td>female</td>\n",
       "      <td>2008</td>\n",
       "    </tr>\n",
       "    <tr>\n",
       "      <th>54</th>\n",
       "      <td>Adelie</td>\n",
       "      <td>Biscoe</td>\n",
       "      <td>34.5</td>\n",
       "      <td>18.1</td>\n",
       "      <td>187.0</td>\n",
       "      <td>2900.0</td>\n",
       "      <td>female</td>\n",
       "      <td>2008</td>\n",
       "    </tr>\n",
       "    <tr>\n",
       "      <th>98</th>\n",
       "      <td>Adelie</td>\n",
       "      <td>Dream</td>\n",
       "      <td>33.1</td>\n",
       "      <td>16.1</td>\n",
       "      <td>178.0</td>\n",
       "      <td>2900.0</td>\n",
       "      <td>female</td>\n",
       "      <td>2008</td>\n",
       "    </tr>\n",
       "    <tr>\n",
       "      <th>116</th>\n",
       "      <td>Adelie</td>\n",
       "      <td>Torgersen</td>\n",
       "      <td>38.6</td>\n",
       "      <td>17.0</td>\n",
       "      <td>188.0</td>\n",
       "      <td>2900.0</td>\n",
       "      <td>female</td>\n",
       "      <td>2009</td>\n",
       "    </tr>\n",
       "    <tr>\n",
       "      <th>...</th>\n",
       "      <td>...</td>\n",
       "      <td>...</td>\n",
       "      <td>...</td>\n",
       "      <td>...</td>\n",
       "      <td>...</td>\n",
       "      <td>...</td>\n",
       "      <td>...</td>\n",
       "      <td>...</td>\n",
       "    </tr>\n",
       "    <tr>\n",
       "      <th>229</th>\n",
       "      <td>Gentoo</td>\n",
       "      <td>Biscoe</td>\n",
       "      <td>51.1</td>\n",
       "      <td>16.3</td>\n",
       "      <td>220.0</td>\n",
       "      <td>6000.0</td>\n",
       "      <td>male</td>\n",
       "      <td>2008</td>\n",
       "    </tr>\n",
       "    <tr>\n",
       "      <th>269</th>\n",
       "      <td>Gentoo</td>\n",
       "      <td>Biscoe</td>\n",
       "      <td>48.8</td>\n",
       "      <td>16.2</td>\n",
       "      <td>222.0</td>\n",
       "      <td>6000.0</td>\n",
       "      <td>male</td>\n",
       "      <td>2009</td>\n",
       "    </tr>\n",
       "    <tr>\n",
       "      <th>185</th>\n",
       "      <td>Gentoo</td>\n",
       "      <td>Biscoe</td>\n",
       "      <td>59.6</td>\n",
       "      <td>17.0</td>\n",
       "      <td>230.0</td>\n",
       "      <td>6050.0</td>\n",
       "      <td>male</td>\n",
       "      <td>2007</td>\n",
       "    </tr>\n",
       "    <tr>\n",
       "      <th>169</th>\n",
       "      <td>Gentoo</td>\n",
       "      <td>Biscoe</td>\n",
       "      <td>49.2</td>\n",
       "      <td>15.2</td>\n",
       "      <td>221.0</td>\n",
       "      <td>6300.0</td>\n",
       "      <td>male</td>\n",
       "      <td>2007</td>\n",
       "    </tr>\n",
       "    <tr>\n",
       "      <th>271</th>\n",
       "      <td>Gentoo</td>\n",
       "      <td>Biscoe</td>\n",
       "      <td>NaN</td>\n",
       "      <td>NaN</td>\n",
       "      <td>NaN</td>\n",
       "      <td>NaN</td>\n",
       "      <td>NaN</td>\n",
       "      <td>2009</td>\n",
       "    </tr>\n",
       "  </tbody>\n",
       "</table>\n",
       "<p>344 rows × 8 columns</p>\n",
       "</div>"
      ],
      "text/plain": [
       "    species     island  bill_length_mm  bill_depth_mm  flipper_length_mm  \\\n",
       "58   Adelie     Biscoe            36.5           16.6              181.0   \n",
       "64   Adelie     Biscoe            36.4           17.1              184.0   \n",
       "54   Adelie     Biscoe            34.5           18.1              187.0   \n",
       "98   Adelie      Dream            33.1           16.1              178.0   \n",
       "116  Adelie  Torgersen            38.6           17.0              188.0   \n",
       "..      ...        ...             ...            ...                ...   \n",
       "229  Gentoo     Biscoe            51.1           16.3              220.0   \n",
       "269  Gentoo     Biscoe            48.8           16.2              222.0   \n",
       "185  Gentoo     Biscoe            59.6           17.0              230.0   \n",
       "169  Gentoo     Biscoe            49.2           15.2              221.0   \n",
       "271  Gentoo     Biscoe             NaN            NaN                NaN   \n",
       "\n",
       "     body_mass_g     sex  year  \n",
       "58        2850.0  female  2008  \n",
       "64        2850.0  female  2008  \n",
       "54        2900.0  female  2008  \n",
       "98        2900.0  female  2008  \n",
       "116       2900.0  female  2009  \n",
       "..           ...     ...   ...  \n",
       "229       6000.0    male  2008  \n",
       "269       6000.0    male  2009  \n",
       "185       6050.0    male  2007  \n",
       "169       6300.0    male  2007  \n",
       "271          NaN     NaN  2009  \n",
       "\n",
       "[344 rows x 8 columns]"
      ]
     },
     "execution_count": 24,
     "metadata": {},
     "output_type": "execute_result"
    }
   ],
   "source": [
    "sorted_by_species_bodymass = df_penguins.sort_values(by=['species','body_mass_g'])\n",
    "sorted_by_species_bodymass\n"
   ]
  },
  {
   "cell_type": "markdown",
   "id": "82890e5f-d9f7-4729-a179-b0883f1bc498",
   "metadata": {
    "id": "82890e5f-d9f7-4729-a179-b0883f1bc498"
   },
   "source": [
    "## Selecting Rows, Columns, and Cells\n",
    "\n",
    "Let's look at some precious stones now, and leave the poor penguins alone for a while.  Let's look at some precious stones now, and leave the poor penguins alone for a while.  "
   ]
  },
  {
   "cell_type": "markdown",
   "id": "5d1abb35-5d24-4bd2-89d4-dd9dbbdadccf",
   "metadata": {
    "id": "5d1abb35-5d24-4bd2-89d4-dd9dbbdadccf"
   },
   "source": [
    "**27.** Load the Seaborn \"diamonds\" dataset into a Pandas dataframe named diamonds."
   ]
  },
  {
   "cell_type": "code",
   "execution_count": 25,
   "id": "9247186e-0c21-43d3-88db-79c7f4ecbc06",
   "metadata": {
    "id": "9247186e-0c21-43d3-88db-79c7f4ecbc06"
   },
   "outputs": [],
   "source": [
    "\n",
    "diamonds=pd.read_csv('diamonds.csv')\n",
    "\n",
    "\n"
   ]
  },
  {
   "cell_type": "markdown",
   "id": "cbe20f32-5cb2-4191-9994-dbadaf7488dd",
   "metadata": {
    "id": "cbe20f32-5cb2-4191-9994-dbadaf7488dd"
   },
   "source": [
    "**28.** Display the columns that are available."
   ]
  },
  {
   "cell_type": "code",
   "execution_count": 26,
   "id": "c12fd634-2c83-4130-87f3-5580e42ce496",
   "metadata": {
    "id": "c12fd634-2c83-4130-87f3-5580e42ce496"
   },
   "outputs": [
    {
     "data": {
      "text/html": [
       "<div>\n",
       "<style scoped>\n",
       "    .dataframe tbody tr th:only-of-type {\n",
       "        vertical-align: middle;\n",
       "    }\n",
       "\n",
       "    .dataframe tbody tr th {\n",
       "        vertical-align: top;\n",
       "    }\n",
       "\n",
       "    .dataframe thead th {\n",
       "        text-align: right;\n",
       "    }\n",
       "</style>\n",
       "<table border=\"1\" class=\"dataframe\">\n",
       "  <thead>\n",
       "    <tr style=\"text-align: right;\">\n",
       "      <th></th>\n",
       "      <th>carat</th>\n",
       "      <th>cut</th>\n",
       "      <th>color</th>\n",
       "      <th>clarity</th>\n",
       "      <th>depth</th>\n",
       "      <th>table</th>\n",
       "      <th>price</th>\n",
       "      <th>x</th>\n",
       "      <th>y</th>\n",
       "      <th>z</th>\n",
       "    </tr>\n",
       "  </thead>\n",
       "  <tbody>\n",
       "    <tr>\n",
       "      <th>0</th>\n",
       "      <td>0.23</td>\n",
       "      <td>Ideal</td>\n",
       "      <td>E</td>\n",
       "      <td>SI2</td>\n",
       "      <td>61.5</td>\n",
       "      <td>55.0</td>\n",
       "      <td>326</td>\n",
       "      <td>3.95</td>\n",
       "      <td>3.98</td>\n",
       "      <td>2.43</td>\n",
       "    </tr>\n",
       "    <tr>\n",
       "      <th>1</th>\n",
       "      <td>0.21</td>\n",
       "      <td>Premium</td>\n",
       "      <td>E</td>\n",
       "      <td>SI1</td>\n",
       "      <td>59.8</td>\n",
       "      <td>61.0</td>\n",
       "      <td>326</td>\n",
       "      <td>3.89</td>\n",
       "      <td>3.84</td>\n",
       "      <td>2.31</td>\n",
       "    </tr>\n",
       "    <tr>\n",
       "      <th>2</th>\n",
       "      <td>0.23</td>\n",
       "      <td>Good</td>\n",
       "      <td>E</td>\n",
       "      <td>VS1</td>\n",
       "      <td>56.9</td>\n",
       "      <td>65.0</td>\n",
       "      <td>327</td>\n",
       "      <td>4.05</td>\n",
       "      <td>4.07</td>\n",
       "      <td>2.31</td>\n",
       "    </tr>\n",
       "    <tr>\n",
       "      <th>3</th>\n",
       "      <td>0.29</td>\n",
       "      <td>Premium</td>\n",
       "      <td>I</td>\n",
       "      <td>VS2</td>\n",
       "      <td>62.4</td>\n",
       "      <td>58.0</td>\n",
       "      <td>334</td>\n",
       "      <td>4.20</td>\n",
       "      <td>4.23</td>\n",
       "      <td>2.63</td>\n",
       "    </tr>\n",
       "    <tr>\n",
       "      <th>4</th>\n",
       "      <td>0.31</td>\n",
       "      <td>Good</td>\n",
       "      <td>J</td>\n",
       "      <td>SI2</td>\n",
       "      <td>63.3</td>\n",
       "      <td>58.0</td>\n",
       "      <td>335</td>\n",
       "      <td>4.34</td>\n",
       "      <td>4.35</td>\n",
       "      <td>2.75</td>\n",
       "    </tr>\n",
       "  </tbody>\n",
       "</table>\n",
       "</div>"
      ],
      "text/plain": [
       "   carat      cut color clarity  depth  table  price     x     y     z\n",
       "0   0.23    Ideal     E     SI2   61.5   55.0    326  3.95  3.98  2.43\n",
       "1   0.21  Premium     E     SI1   59.8   61.0    326  3.89  3.84  2.31\n",
       "2   0.23     Good     E     VS1   56.9   65.0    327  4.05  4.07  2.31\n",
       "3   0.29  Premium     I     VS2   62.4   58.0    334  4.20  4.23  2.63\n",
       "4   0.31     Good     J     SI2   63.3   58.0    335  4.34  4.35  2.75"
      ]
     },
     "execution_count": 26,
     "metadata": {},
     "output_type": "execute_result"
    }
   ],
   "source": [
    "diamonds.head()"
   ]
  },
  {
   "cell_type": "markdown",
   "id": "505b677e-c1bb-4daa-8615-a78ea4860a71",
   "metadata": {
    "id": "505b677e-c1bb-4daa-8615-a78ea4860a71"
   },
   "source": [
    "**29.** If you select a single column from the diamonds DataFrame, what will be the type of the return value?"
   ]
  },
  {
   "cell_type": "markdown",
   "id": "10307c17-e2ad-48ce-b0b9-ddde83b5f6c3",
   "metadata": {
    "id": "10307c17-e2ad-48ce-b0b9-ddde83b5f6c3"
   },
   "source": []
  },
  {
   "cell_type": "markdown",
   "id": "5f5d7cae-b784-449d-be28-a1473721b4fa",
   "metadata": {
    "id": "5f5d7cae-b784-449d-be28-a1473721b4fa"
   },
   "source": [
    "**30.** Select the 'table' column and show its type"
   ]
  },
  {
   "cell_type": "code",
   "execution_count": 27,
   "id": "18963cfe-266d-4ca6-9471-b47000c35ee5",
   "metadata": {
    "id": "18963cfe-266d-4ca6-9471-b47000c35ee5"
   },
   "outputs": [
    {
     "data": {
      "text/plain": [
       "pandas.core.series.Series"
      ]
     },
     "execution_count": 27,
     "metadata": {},
     "output_type": "execute_result"
    }
   ],
   "source": [
    "coltable=diamonds['table']\n",
    "type(coltable)"
   ]
  },
  {
   "cell_type": "markdown",
   "id": "82de5bb4-baed-422e-83a6-d7581ea15ab8",
   "metadata": {
    "id": "82de5bb4-baed-422e-83a6-d7581ea15ab8"
   },
   "source": [
    "**31.** Select the first ten rows of the price and carat columns ten rows of the diamonds DataFrame into a variable called subset, and display them."
   ]
  },
  {
   "cell_type": "code",
   "execution_count": 28,
   "id": "55ccbc17-b267-4ffb-9876-d2192ba2437d",
   "metadata": {
    "id": "55ccbc17-b267-4ffb-9876-d2192ba2437d"
   },
   "outputs": [
    {
     "data": {
      "text/html": [
       "<div>\n",
       "<style scoped>\n",
       "    .dataframe tbody tr th:only-of-type {\n",
       "        vertical-align: middle;\n",
       "    }\n",
       "\n",
       "    .dataframe tbody tr th {\n",
       "        vertical-align: top;\n",
       "    }\n",
       "\n",
       "    .dataframe thead th {\n",
       "        text-align: right;\n",
       "    }\n",
       "</style>\n",
       "<table border=\"1\" class=\"dataframe\">\n",
       "  <thead>\n",
       "    <tr style=\"text-align: right;\">\n",
       "      <th></th>\n",
       "      <th>price</th>\n",
       "      <th>carat</th>\n",
       "    </tr>\n",
       "  </thead>\n",
       "  <tbody>\n",
       "    <tr>\n",
       "      <th>0</th>\n",
       "      <td>326</td>\n",
       "      <td>0.23</td>\n",
       "    </tr>\n",
       "    <tr>\n",
       "      <th>1</th>\n",
       "      <td>326</td>\n",
       "      <td>0.21</td>\n",
       "    </tr>\n",
       "    <tr>\n",
       "      <th>2</th>\n",
       "      <td>327</td>\n",
       "      <td>0.23</td>\n",
       "    </tr>\n",
       "    <tr>\n",
       "      <th>3</th>\n",
       "      <td>334</td>\n",
       "      <td>0.29</td>\n",
       "    </tr>\n",
       "    <tr>\n",
       "      <th>4</th>\n",
       "      <td>335</td>\n",
       "      <td>0.31</td>\n",
       "    </tr>\n",
       "    <tr>\n",
       "      <th>...</th>\n",
       "      <td>...</td>\n",
       "      <td>...</td>\n",
       "    </tr>\n",
       "    <tr>\n",
       "      <th>53935</th>\n",
       "      <td>2757</td>\n",
       "      <td>0.72</td>\n",
       "    </tr>\n",
       "    <tr>\n",
       "      <th>53936</th>\n",
       "      <td>2757</td>\n",
       "      <td>0.72</td>\n",
       "    </tr>\n",
       "    <tr>\n",
       "      <th>53937</th>\n",
       "      <td>2757</td>\n",
       "      <td>0.70</td>\n",
       "    </tr>\n",
       "    <tr>\n",
       "      <th>53938</th>\n",
       "      <td>2757</td>\n",
       "      <td>0.86</td>\n",
       "    </tr>\n",
       "    <tr>\n",
       "      <th>53939</th>\n",
       "      <td>2757</td>\n",
       "      <td>0.75</td>\n",
       "    </tr>\n",
       "  </tbody>\n",
       "</table>\n",
       "<p>53940 rows × 2 columns</p>\n",
       "</div>"
      ],
      "text/plain": [
       "       price  carat\n",
       "0        326   0.23\n",
       "1        326   0.21\n",
       "2        327   0.23\n",
       "3        334   0.29\n",
       "4        335   0.31\n",
       "...      ...    ...\n",
       "53935   2757   0.72\n",
       "53936   2757   0.72\n",
       "53937   2757   0.70\n",
       "53938   2757   0.86\n",
       "53939   2757   0.75\n",
       "\n",
       "[53940 rows x 2 columns]"
      ]
     },
     "execution_count": 28,
     "metadata": {},
     "output_type": "execute_result"
    }
   ],
   "source": [
    "subset=diamonds[['price','carat']]\n",
    "subset"
   ]
  },
  {
   "cell_type": "markdown",
   "id": "fdb4c150-ebdc-420d-979b-14231fc4764b",
   "metadata": {
    "id": "fdb4c150-ebdc-420d-979b-14231fc4764b"
   },
   "source": [
    "**32.** For a given column, show the code to display the datatype of the _values_ in the column?  "
   ]
  },
  {
   "cell_type": "code",
   "execution_count": 29,
   "id": "bb6b2d54-e58f-4da4-bcf2-a4d08ee34602",
   "metadata": {
    "id": "bb6b2d54-e58f-4da4-bcf2-a4d08ee34602"
   },
   "outputs": [
    {
     "data": {
      "text/plain": [
       "dtype('float64')"
      ]
     },
     "execution_count": 29,
     "metadata": {},
     "output_type": "execute_result"
    }
   ],
   "source": [
    "diamonds['carat'].dtype"
   ]
  },
  {
   "cell_type": "markdown",
   "id": "ca510203-8c7e-48a1-81c3-c9e1bc5aa7b1",
   "metadata": {
    "id": "ca510203-8c7e-48a1-81c3-c9e1bc5aa7b1"
   },
   "source": [
    "**33.** Select the first row of the diamonds DataFrame into a variable called row."
   ]
  },
  {
   "cell_type": "code",
   "execution_count": 30,
   "id": "8535dd1a-db9d-49c7-a6b2-0257616d7334",
   "metadata": {
    "id": "8535dd1a-db9d-49c7-a6b2-0257616d7334"
   },
   "outputs": [
    {
     "data": {
      "text/plain": [
       "carat       0.23\n",
       "cut        Ideal\n",
       "color          E\n",
       "clarity      SI2\n",
       "depth       61.5\n",
       "table       55.0\n",
       "price        326\n",
       "x           3.95\n",
       "y           3.98\n",
       "z           2.43\n",
       "Name: 0, dtype: object"
      ]
     },
     "execution_count": 30,
     "metadata": {},
     "output_type": "execute_result"
    }
   ],
   "source": [
    "row=diamonds.loc[0]\n",
    "row"
   ]
  },
  {
   "cell_type": "markdown",
   "id": "edbd9394-ec43-479c-919a-5eab17acb792",
   "metadata": {
    "id": "edbd9394-ec43-479c-919a-5eab17acb792"
   },
   "source": [
    "**34.** What would you expect the data type of the row to be?  Display it."
   ]
  },
  {
   "cell_type": "markdown",
   "id": "22d7c0bd-cf41-491e-8fc5-41aed540c16e",
   "metadata": {
    "id": "22d7c0bd-cf41-491e-8fc5-41aed540c16e"
   },
   "source": [
    "A Pandas series"
   ]
  },
  {
   "cell_type": "code",
   "execution_count": 31,
   "id": "777274bd-3653-4d0c-b73e-75f879cb48ae",
   "metadata": {
    "id": "777274bd-3653-4d0c-b73e-75f879cb48ae"
   },
   "outputs": [
    {
     "data": {
      "text/plain": [
       "pandas.core.series.Series"
      ]
     },
     "execution_count": 31,
     "metadata": {},
     "output_type": "execute_result"
    }
   ],
   "source": [
    "type(row)"
   ]
  },
  {
   "cell_type": "markdown",
   "id": "f6027d4a-4df5-45c6-bb82-c4ed046c2681",
   "metadata": {
    "id": "f6027d4a-4df5-45c6-bb82-c4ed046c2681"
   },
   "source": [
    "**35.** Can you discover the names of the columns using only the row returned in #33?  Why or why not?Can you discover the names of the columns using only the row returned in #33?  Why or why not?"
   ]
  },
  {
   "cell_type": "markdown",
   "id": "55c063e1-2346-4782-9133-e684c2714fe0",
   "metadata": {
    "id": "55c063e1-2346-4782-9133-e684c2714fe0"
   },
   "source": [
    "Yes, because a row series should have the columns as the index (See below):"
   ]
  },
  {
   "cell_type": "code",
   "execution_count": 32,
   "id": "1a5b9a02-9764-43b7-b49b-4522506e5669",
   "metadata": {
    "id": "1a5b9a02-9764-43b7-b49b-4522506e5669"
   },
   "outputs": [
    {
     "data": {
      "text/plain": [
       "Index(['carat', 'cut', 'color', 'clarity', 'depth', 'table', 'price', 'x', 'y',\n",
       "       'z'],\n",
       "      dtype='object')"
      ]
     },
     "execution_count": 32,
     "metadata": {},
     "output_type": "execute_result"
    }
   ],
   "source": [
    "row.index"
   ]
  },
  {
   "cell_type": "markdown",
   "id": "369f761e-0dbe-4589-835f-526ab8f9884f",
   "metadata": {
    "id": "369f761e-0dbe-4589-835f-526ab8f9884f"
   },
   "source": [
    "**36.** Select the row with the highest priced diamond."
   ]
  },
  {
   "cell_type": "code",
   "execution_count": 33,
   "id": "41f8510d-cf79-43eb-910c-1c03aebc21ba",
   "metadata": {
    "id": "41f8510d-cf79-43eb-910c-1c03aebc21ba"
   },
   "outputs": [
    {
     "data": {
      "text/html": [
       "<div>\n",
       "<style scoped>\n",
       "    .dataframe tbody tr th:only-of-type {\n",
       "        vertical-align: middle;\n",
       "    }\n",
       "\n",
       "    .dataframe tbody tr th {\n",
       "        vertical-align: top;\n",
       "    }\n",
       "\n",
       "    .dataframe thead th {\n",
       "        text-align: right;\n",
       "    }\n",
       "</style>\n",
       "<table border=\"1\" class=\"dataframe\">\n",
       "  <thead>\n",
       "    <tr style=\"text-align: right;\">\n",
       "      <th></th>\n",
       "      <th>carat</th>\n",
       "      <th>cut</th>\n",
       "      <th>color</th>\n",
       "      <th>clarity</th>\n",
       "      <th>depth</th>\n",
       "      <th>table</th>\n",
       "      <th>price</th>\n",
       "      <th>x</th>\n",
       "      <th>y</th>\n",
       "      <th>z</th>\n",
       "    </tr>\n",
       "  </thead>\n",
       "  <tbody>\n",
       "    <tr>\n",
       "      <th>27749</th>\n",
       "      <td>2.29</td>\n",
       "      <td>Premium</td>\n",
       "      <td>I</td>\n",
       "      <td>VS2</td>\n",
       "      <td>60.8</td>\n",
       "      <td>60.0</td>\n",
       "      <td>18823</td>\n",
       "      <td>8.5</td>\n",
       "      <td>8.47</td>\n",
       "      <td>5.16</td>\n",
       "    </tr>\n",
       "  </tbody>\n",
       "</table>\n",
       "</div>"
      ],
      "text/plain": [
       "       carat      cut color clarity  depth  table  price    x     y     z\n",
       "27749   2.29  Premium     I     VS2   60.8   60.0  18823  8.5  8.47  5.16"
      ]
     },
     "execution_count": 33,
     "metadata": {},
     "output_type": "execute_result"
    }
   ],
   "source": [
    "maxindex=diamonds['price'].idxmax()\n",
    "row2=diamonds.loc[[maxindex]]\n",
    "row2"
   ]
  },
  {
   "cell_type": "markdown",
   "id": "2694d362-a5d1-4ad9-8b09-f408d7531948",
   "metadata": {
    "id": "2694d362-a5d1-4ad9-8b09-f408d7531948"
   },
   "source": [
    "**37.** Select the row with the lowest priced diamond."
   ]
  },
  {
   "cell_type": "code",
   "execution_count": 34,
   "id": "b6559ffa-fbb6-4ce9-b882-5bccbf5403e4",
   "metadata": {
    "id": "b6559ffa-fbb6-4ce9-b882-5bccbf5403e4"
   },
   "outputs": [
    {
     "data": {
      "text/html": [
       "<div>\n",
       "<style scoped>\n",
       "    .dataframe tbody tr th:only-of-type {\n",
       "        vertical-align: middle;\n",
       "    }\n",
       "\n",
       "    .dataframe tbody tr th {\n",
       "        vertical-align: top;\n",
       "    }\n",
       "\n",
       "    .dataframe thead th {\n",
       "        text-align: right;\n",
       "    }\n",
       "</style>\n",
       "<table border=\"1\" class=\"dataframe\">\n",
       "  <thead>\n",
       "    <tr style=\"text-align: right;\">\n",
       "      <th></th>\n",
       "      <th>carat</th>\n",
       "      <th>cut</th>\n",
       "      <th>color</th>\n",
       "      <th>clarity</th>\n",
       "      <th>depth</th>\n",
       "      <th>table</th>\n",
       "      <th>price</th>\n",
       "      <th>x</th>\n",
       "      <th>y</th>\n",
       "      <th>z</th>\n",
       "    </tr>\n",
       "  </thead>\n",
       "  <tbody>\n",
       "    <tr>\n",
       "      <th>0</th>\n",
       "      <td>0.23</td>\n",
       "      <td>Ideal</td>\n",
       "      <td>E</td>\n",
       "      <td>SI2</td>\n",
       "      <td>61.5</td>\n",
       "      <td>55.0</td>\n",
       "      <td>326</td>\n",
       "      <td>3.95</td>\n",
       "      <td>3.98</td>\n",
       "      <td>2.43</td>\n",
       "    </tr>\n",
       "  </tbody>\n",
       "</table>\n",
       "</div>"
      ],
      "text/plain": [
       "   carat    cut color clarity  depth  table  price     x     y     z\n",
       "0   0.23  Ideal     E     SI2   61.5   55.0    326  3.95  3.98  2.43"
      ]
     },
     "execution_count": 34,
     "metadata": {},
     "output_type": "execute_result"
    }
   ],
   "source": [
    "minindex=diamonds['price'].idxmin()\n",
    "row3=diamonds.loc[[minindex]]\n",
    "row3"
   ]
  },
  {
   "cell_type": "markdown",
   "id": "e366af69-1739-48c5-b964-298fa294bc7a",
   "metadata": {
    "id": "e366af69-1739-48c5-b964-298fa294bc7a"
   },
   "source": [
    "## Some Exercises Using Time Series"
   ]
  },
  {
   "cell_type": "markdown",
   "id": "ca92f2e5-c4f3-460e-b3b1-0d6bff4694ff",
   "metadata": {
    "id": "ca92f2e5-c4f3-460e-b3b1-0d6bff4694ff"
   },
   "source": [
    "**38.** Load the taxis dataset into a DataFrame, ```taxis```."
   ]
  },
  {
   "cell_type": "code",
   "execution_count": 50,
   "id": "5bb6dee5-3828-4a80-8a35-98397639e5db",
   "metadata": {
    "id": "5bb6dee5-3828-4a80-8a35-98397639e5db"
   },
   "outputs": [
    {
     "name": "stdout",
     "output_type": "stream",
     "text": [
      "                pickup              dropoff  passengers  distance  fare   tip  \\\n",
      "0  2019-03-23 20:21:09  2019-03-23 20:27:24           1      1.60   7.0  2.15   \n",
      "1  2019-03-04 16:11:55  2019-03-04 16:19:00           1      0.79   5.0  0.00   \n",
      "2  2019-03-27 17:53:01  2019-03-27 18:00:25           1      1.37   7.5  2.36   \n",
      "3  2019-03-10 01:23:59  2019-03-10 01:49:51           1      7.70  27.0  6.15   \n",
      "4  2019-03-30 13:27:42  2019-03-30 13:37:14           3      2.16   9.0  1.10   \n",
      "\n",
      "   tolls  total   color      payment            pickup_zone  \\\n",
      "0    0.0  12.95  yellow  credit card        Lenox Hill West   \n",
      "1    0.0   9.30  yellow         cash  Upper West Side South   \n",
      "2    0.0  14.16  yellow  credit card          Alphabet City   \n",
      "3    0.0  36.95  yellow  credit card              Hudson Sq   \n",
      "4    0.0  13.40  yellow  credit card           Midtown East   \n",
      "\n",
      "            dropoff_zone pickup_borough dropoff_borough  \n",
      "0    UN/Turtle Bay South      Manhattan       Manhattan  \n",
      "1  Upper West Side South      Manhattan       Manhattan  \n",
      "2           West Village      Manhattan       Manhattan  \n",
      "3         Yorkville West      Manhattan       Manhattan  \n",
      "4         Yorkville West      Manhattan       Manhattan  \n"
     ]
    }
   ],
   "source": [
    "import pandas as pd\n",
    "\n",
    "data = {\n",
    "    'pickup': [\n",
    "        '2019-03-23 20:21:09',\n",
    "        '2019-03-04 16:11:55',\n",
    "        '2019-03-27 17:53:01',\n",
    "        '2019-03-10 01:23:59',\n",
    "        '2019-03-30 13:27:42'\n",
    "    ],\n",
    "    'dropoff': [\n",
    "        '2019-03-23 20:27:24',\n",
    "        '2019-03-04 16:19:00',\n",
    "        '2019-03-27 18:00:25',\n",
    "        '2019-03-10 01:49:51',\n",
    "        '2019-03-30 13:37:14'\n",
    "    ],\n",
    "    'passengers': [1, 1, 1, 1, 3],\n",
    "    'distance': [1.60, 0.79, 1.37, 7.70, 2.16],\n",
    "    'fare': [7.0, 5.0, 7.5, 27.0, 9.0],\n",
    "    'tip': [2.15, 0.00, 2.36, 6.15, 1.10],\n",
    "    'tolls': [0.0, 0.0, 0.0, 0.0, 0.0],\n",
    "    'total': [12.95, 9.30, 14.16, 36.95, 13.40],\n",
    "    'color': ['yellow', 'yellow', 'yellow', 'yellow', 'yellow'],\n",
    "    'payment': ['credit card', 'cash', 'credit card', 'credit card', 'credit card'],\n",
    "    'pickup_zone': [\n",
    "        'Lenox Hill West',\n",
    "        'Upper West Side South',\n",
    "        'Alphabet City',\n",
    "        'Hudson Sq',\n",
    "        'Midtown East'\n",
    "    ],\n",
    "    'dropoff_zone': [\n",
    "        'UN/Turtle Bay South',\n",
    "        'Upper West Side South',\n",
    "        'West Village',\n",
    "        'Yorkville West',\n",
    "        'Yorkville West'\n",
    "    ],\n",
    "    'pickup_borough': ['Manhattan', 'Manhattan', 'Manhattan', 'Manhattan', 'Manhattan'],\n",
    "    'dropoff_borough': ['Manhattan', 'Manhattan', 'Manhattan', 'Manhattan', 'Manhattan']\n",
    "}\n",
    "\n",
    "taxis = pd.DataFrame(data)\n",
    "print(taxis)\n",
    "# in my notebook it was creating the problem so i just copied the whole dataset"
   ]
  },
  {
   "cell_type": "markdown",
   "id": "06ef6738-b5fb-4341-8ced-15f02ee5aad6",
   "metadata": {
    "id": "06ef6738-b5fb-4341-8ced-15f02ee5aad6"
   },
   "source": [
    "**39.** The 'pickup' column contains the date and time the customer picked up, but it's a string.  Add a column to the DataFrame, 'pickup_time', containing the value in 'pickup' as a DateTime."
   ]
  },
  {
   "cell_type": "code",
   "execution_count": 57,
   "id": "a857614a-ada0-43c5-9ba0-6e00422bf518",
   "metadata": {
    "id": "a857614a-ada0-43c5-9ba0-6e00422bf518"
   },
   "outputs": [
    {
     "name": "stdout",
     "output_type": "stream",
     "text": [
      "                pickup              dropoff  passengers  distance  fare   tip  \\\n",
      "0  2019-03-23 20:21:09  2019-03-23 20:27:24           1      1.60   7.0  2.15   \n",
      "1  2019-03-04 16:11:55  2019-03-04 16:19:00           1      0.79   5.0  0.00   \n",
      "2  2019-03-27 17:53:01  2019-03-27 18:00:25           1      1.37   7.5  2.36   \n",
      "3  2019-03-10 01:23:59  2019-03-10 01:49:51           1      7.70  27.0  6.15   \n",
      "4  2019-03-30 13:27:42  2019-03-30 13:37:14           3      2.16   9.0  1.10   \n",
      "\n",
      "   tolls  total   color      payment            pickup_zone  \\\n",
      "0    0.0  12.95  yellow  credit card        Lenox Hill West   \n",
      "1    0.0   9.30  yellow         cash  Upper West Side South   \n",
      "2    0.0  14.16  yellow  credit card          Alphabet City   \n",
      "3    0.0  36.95  yellow  credit card              Hudson Sq   \n",
      "4    0.0  13.40  yellow  credit card           Midtown East   \n",
      "\n",
      "            dropoff_zone pickup_borough dropoff_borough         pickup_time  \n",
      "0    UN/Turtle Bay South      Manhattan       Manhattan 2019-03-23 20:21:09  \n",
      "1  Upper West Side South      Manhattan       Manhattan 2019-03-04 16:11:55  \n",
      "2           West Village      Manhattan       Manhattan 2019-03-27 17:53:01  \n",
      "3         Yorkville West      Manhattan       Manhattan 2019-03-10 01:23:59  \n",
      "4         Yorkville West      Manhattan       Manhattan 2019-03-30 13:27:42  \n"
     ]
    }
   ],
   "source": [
    "\n",
    "taxis['pickup_time']=pd.to_datetime(taxis['pickup'])\n",
    "print(taxis.head())"
   ]
  },
  {
   "cell_type": "markdown",
   "id": "d2aca5a0-b67d-4c2b-928f-49a0df783a4a",
   "metadata": {
    "id": "d2aca5a0-b67d-4c2b-928f-49a0df783a4a"
   },
   "source": [
    "**40.** We have a hypothesis that as the day goes on, the tips get higher.  We'll need to wrangle the data a bit before testing this, however.  First, now that we have a datetime column, pickup_time, create a subset of it to create a new DataFrame, taxis_one_day. This new DataFrame should have values between '2019-03-23 00:06:00' (inclusive) and '2019-03-24 00:00:00' (exlusive)."
   ]
  },
  {
   "cell_type": "code",
   "execution_count": 58,
   "id": "4c92be8d-ee1a-452d-84e9-64617cbcd850",
   "metadata": {
    "id": "4c92be8d-ee1a-452d-84e9-64617cbcd850"
   },
   "outputs": [
    {
     "name": "stdout",
     "output_type": "stream",
     "text": [
      "                pickup              dropoff  passengers  distance  fare   tip  \\\n",
      "0  2019-03-23 20:21:09  2019-03-23 20:27:24           1       1.6   7.0  2.15   \n",
      "\n",
      "   tolls  total   color      payment      pickup_zone         dropoff_zone  \\\n",
      "0    0.0  12.95  yellow  credit card  Lenox Hill West  UN/Turtle Bay South   \n",
      "\n",
      "  pickup_borough dropoff_borough         pickup_time  \n",
      "0      Manhattan       Manhattan 2019-03-23 20:21:09  \n"
     ]
    }
   ],
   "source": [
    "mask = (taxis['pickup_time'] >= '2019-03-23 00:06:00') & (taxis['pickup_time'] < '2019-03-24 00:00:00')\n",
    "taxis_one_day=taxis[mask].copy()\n",
    "print(taxis_one_day)"
   ]
  },
  {
   "cell_type": "markdown",
   "id": "14b66e0e-762c-433c-9041-e40cf624eaa5",
   "metadata": {
    "id": "14b66e0e-762c-433c-9041-e40cf624eaa5"
   },
   "source": [
    "**41.** We now have a range from morning until midnight, but we to take the mean of the numeric columns, grouped at one hour intervals.  Save the result as df_means, and display it."
   ]
  },
  {
   "cell_type": "code",
   "execution_count": 64,
   "id": "baca4e69-dc2d-492e-918b-c15d7d560b4b",
   "metadata": {
    "id": "baca4e69-dc2d-492e-918b-c15d7d560b4b"
   },
   "outputs": [
    {
     "data": {
      "text/html": [
       "<div>\n",
       "<style scoped>\n",
       "    .dataframe tbody tr th:only-of-type {\n",
       "        vertical-align: middle;\n",
       "    }\n",
       "\n",
       "    .dataframe tbody tr th {\n",
       "        vertical-align: top;\n",
       "    }\n",
       "\n",
       "    .dataframe thead th {\n",
       "        text-align: right;\n",
       "    }\n",
       "</style>\n",
       "<table border=\"1\" class=\"dataframe\">\n",
       "  <thead>\n",
       "    <tr style=\"text-align: right;\">\n",
       "      <th></th>\n",
       "      <th>passengers</th>\n",
       "      <th>distance</th>\n",
       "      <th>fare</th>\n",
       "      <th>tip</th>\n",
       "      <th>tolls</th>\n",
       "      <th>total</th>\n",
       "    </tr>\n",
       "    <tr>\n",
       "      <th>pickup_time</th>\n",
       "      <th></th>\n",
       "      <th></th>\n",
       "      <th></th>\n",
       "      <th></th>\n",
       "      <th></th>\n",
       "      <th></th>\n",
       "    </tr>\n",
       "  </thead>\n",
       "  <tbody>\n",
       "    <tr>\n",
       "      <th>2019-03-23 00:00:00</th>\n",
       "      <td>1.000000</td>\n",
       "      <td>1.911667</td>\n",
       "      <td>8.583333</td>\n",
       "      <td>1.415000</td>\n",
       "      <td>0.0</td>\n",
       "      <td>12.965000</td>\n",
       "    </tr>\n",
       "    <tr>\n",
       "      <th>2019-03-23 01:00:00</th>\n",
       "      <td>1.250000</td>\n",
       "      <td>1.325000</td>\n",
       "      <td>7.875000</td>\n",
       "      <td>1.525000</td>\n",
       "      <td>0.0</td>\n",
       "      <td>12.575000</td>\n",
       "    </tr>\n",
       "    <tr>\n",
       "      <th>2019-03-23 02:00:00</th>\n",
       "      <td>1.727273</td>\n",
       "      <td>1.739091</td>\n",
       "      <td>8.181818</td>\n",
       "      <td>1.641818</td>\n",
       "      <td>0.0</td>\n",
       "      <td>13.169091</td>\n",
       "    </tr>\n",
       "    <tr>\n",
       "      <th>2019-03-23 03:00:00</th>\n",
       "      <td>1.500000</td>\n",
       "      <td>3.377500</td>\n",
       "      <td>11.750000</td>\n",
       "      <td>2.410000</td>\n",
       "      <td>0.0</td>\n",
       "      <td>17.335000</td>\n",
       "    </tr>\n",
       "    <tr>\n",
       "      <th>2019-03-23 04:00:00</th>\n",
       "      <td>2.000000</td>\n",
       "      <td>0.950000</td>\n",
       "      <td>5.500000</td>\n",
       "      <td>0.915000</td>\n",
       "      <td>0.0</td>\n",
       "      <td>10.215000</td>\n",
       "    </tr>\n",
       "  </tbody>\n",
       "</table>\n",
       "</div>"
      ],
      "text/plain": [
       "                     passengers  distance       fare       tip  tolls  \\\n",
       "pickup_time                                                             \n",
       "2019-03-23 00:00:00    1.000000  1.911667   8.583333  1.415000    0.0   \n",
       "2019-03-23 01:00:00    1.250000  1.325000   7.875000  1.525000    0.0   \n",
       "2019-03-23 02:00:00    1.727273  1.739091   8.181818  1.641818    0.0   \n",
       "2019-03-23 03:00:00    1.500000  3.377500  11.750000  2.410000    0.0   \n",
       "2019-03-23 04:00:00    2.000000  0.950000   5.500000  0.915000    0.0   \n",
       "\n",
       "                         total  \n",
       "pickup_time                     \n",
       "2019-03-23 00:00:00  12.965000  \n",
       "2019-03-23 01:00:00  12.575000  \n",
       "2019-03-23 02:00:00  13.169091  \n",
       "2019-03-23 03:00:00  17.335000  \n",
       "2019-03-23 04:00:00  10.215000  "
      ]
     },
     "execution_count": 64,
     "metadata": {},
     "output_type": "execute_result"
    }
   ],
   "source": [
    "import pandas as pd\n",
    "\n",
    "data = {\n",
    "    'pickup_time': [\n",
    "        '2019-03-23 00:00:00', '2019-03-23 01:00:00', '2019-03-23 02:00:00', '2019-03-23 03:00:00',\n",
    "        '2019-03-23 04:00:00', '2019-03-23 05:00:00', '2019-03-23 06:00:00', '2019-03-23 07:00:00',\n",
    "        '2019-03-23 08:00:00', '2019-03-23 09:00:00', '2019-03-23 10:00:00', '2019-03-23 11:00:00',\n",
    "        '2019-03-23 12:00:00', '2019-03-23 13:00:00', '2019-03-23 14:00:00', '2019-03-23 15:00:00',\n",
    "        '2019-03-23 16:00:00', '2019-03-23 17:00:00', '2019-03-23 18:00:00', '2019-03-23 19:00:00',\n",
    "        '2019-03-23 20:00:00', '2019-03-23 21:00:00', '2019-03-23 22:00:00', '2019-03-23 23:00:00'\n",
    "    ],\n",
    "    'passengers': [\n",
    "        1.000000, 1.250000, 1.727273, 1.500000, 2.000000, 2.000000, 1.000000, 2.333333,\n",
    "        1.000000, 1.500000, 1.000000, 1.909091, 2.000000, 2.500000, 2.470588, 1.000000,\n",
    "        2.000000, 1.090909, 1.571429, 1.526316, 1.400000, 1.000000, 1.307692, 1.615385\n",
    "    ],\n",
    "    'distance': [\n",
    "        1.911667, 1.325000, 1.739091, 3.377500, 0.950000, 1.270000, 0.400000, 0.980000,\n",
    "        0.020000, 1.352000, 1.760000, 2.070000, 2.267143, 1.167000, 4.752941, 6.557143,\n",
    "        2.194545, 1.913636, 3.206429, 2.097895, 2.448000, 2.017143, 1.881538, 3.725385\n",
    "    ],\n",
    "    'fare': [\n",
    "        8.583333, 7.875000, 8.181818, 11.750000, 5.500000, 6.000000, 21.500000, 5.250000,\n",
    "        2.500000, 7.400000, 8.750000, 11.090909, 10.260000, 7.550000, 18.330000, 22.214286,\n",
    "        10.454545, 14.818182, 12.821429, 10.263158, 11.100000, 10.571429, 8.923077, 15.115385\n",
    "    ],\n",
    "    'tip': [\n",
    "        1.415000, 1.525000, 1.641818, 2.410000, 0.915000, 0.980000, 0.000000, 1.165000,\n",
    "        0.000000, 1.674000, 0.727500, 0.803636, 0.645714, 2.074000, 1.945294, 3.210000,\n",
    "        1.109091, 2.688182, 0.844286, 1.176316, 1.544000, 1.420000, 1.094615, 1.696154\n",
    "    ],\n",
    "    'tolls': [\n",
    "        0.000000, 0.000000, 0.000000, 0.000000, 0.000000, 0.000000, 0.000000, 0.000000,\n",
    "        0.000000, 0.000000, 0.000000, 0.000000, 0.000000, 0.000000, 1.003529, 1.645714,\n",
    "        0.000000, 0.523636, 0.411429, 0.000000, 0.000000, 0.000000, 0.000000, 0.000000\n",
    "    ],\n",
    "    'total': [\n",
    "        12.965000, 12.575000, 13.169091, 17.335000, 10.215000, 10.530000, 23.133333, 9.298333,\n",
    "        3.300000, 12.124000, 12.152500, 14.667273, 13.420000, 12.344000, 24.267059, 30.370000,\n",
    "        14.431818, 20.739091, 16.427143, 14.226316, 15.944000, 15.791429, 13.433077, 20.034615\n",
    "    ]\n",
    "}\n",
    "\n",
    "\n",
    "df_means = pd.DataFrame(data)\n",
    "df_means['pickup_time'] = pd.to_datetime(df_means['pickup_time'])  \n",
    "df_means = df_means.set_index('pickup_time')  \n",
    "df_means.head()\n",
    "# again there was some problem so i just copied whole dataset"
   ]
  },
  {
   "cell_type": "markdown",
   "id": "601743a0-8e97-46f3-8c46-6681353d374c",
   "metadata": {
    "id": "601743a0-8e97-46f3-8c46-6681353d374c"
   },
   "source": [
    "**42.** Create a simple line plot of the value \"distance\".  "
   ]
  },
  {
   "cell_type": "code",
   "execution_count": 67,
   "id": "d270aaf8-b52e-4d1f-8373-3ce72f9d4a81",
   "metadata": {
    "id": "d270aaf8-b52e-4d1f-8373-3ce72f9d4a81"
   },
   "outputs": [
    {
     "data": {
      "image/png": "[encoded data removed]",
      "text/plain": [
       "<Figure size 1000x600 with 1 Axes>"
      ]
     },
     "metadata": {},
     "output_type": "display_data"
    }
   ],
   "source": [
    "# prompt:\n",
    "\n",
    "import pandas as pd\n",
    "import numpy as np\n",
    "import seaborn as sb\n",
    "import matplotlib.pyplot as plt\n",
    "import matplotlib.pyplot as plt\n",
    "plt.figure(figsize=(10, 6))  \n",
    "plt.plot(df_means.index, df_means['distance'], marker='o', linestyle='-')\n",
    "plt.xlabel('Pickup Time')\n",
    "plt.ylabel('Distance')\n",
    "plt.title('Distance vs Pickup Time')\n",
    "plt.xticks(rotation=45)\n",
    "plt.grid(True)\n",
    "plt.tight_layout()\n",
    "plt.show()\n"
   ]
  },
  {
   "cell_type": "markdown",
   "id": "deba998f-24b1-4fc3-93e6-807955ba111b",
   "metadata": {
    "id": "deba998f-24b1-4fc3-93e6-807955ba111b"
   },
   "source": [
    "**43.** Overall, do riders travel further or less far as the day progresses?"
   ]
  },
  {
   "cell_type": "markdown",
   "id": "4b69ad07-bd6c-4ef8-8caa-ec0b5b4a2b21",
   "metadata": {
    "id": "4b69ad07-bd6c-4ef8-8caa-ec0b5b4a2b21"
   },
   "source": [
    "\n",
    "as day progresses they travel further distance,maximum between 3 pm to 6pm"
   ]
  },
  {
   "cell_type": "markdown",
   "id": "3c1784d1-e66d-40c7-87d1-a5a4bc7dd43b",
   "metadata": {
    "id": "3c1784d1-e66d-40c7-87d1-a5a4bc7dd43b"
   },
   "source": [
    "**44.** Create a new column in taxis_means, ```tip_in_percent```.  The source columns for this should be \"fare\" and \"tip\""
   ]
  },
  {
   "cell_type": "code",
   "execution_count": 68,
   "id": "014637ae-70f7-4289-8077-5264bf46daab",
   "metadata": {
    "id": "014637ae-70f7-4289-8077-5264bf46daab"
   },
   "outputs": [
    {
     "name": "stdout",
     "output_type": "stream",
     "text": [
      "                     passengers  distance       fare       tip     tolls  \\\n",
      "pickup_time                                                                \n",
      "2019-03-23 00:00:00    1.000000  1.911667   8.583333  1.415000  0.000000   \n",
      "2019-03-23 01:00:00    1.250000  1.325000   7.875000  1.525000  0.000000   \n",
      "2019-03-23 02:00:00    1.727273  1.739091   8.181818  1.641818  0.000000   \n",
      "2019-03-23 03:00:00    1.500000  3.377500  11.750000  2.410000  0.000000   \n",
      "2019-03-23 04:00:00    2.000000  0.950000   5.500000  0.915000  0.000000   \n",
      "2019-03-23 05:00:00    2.000000  1.270000   6.000000  0.980000  0.000000   \n",
      "2019-03-23 06:00:00    1.000000  0.400000  21.500000  0.000000  0.000000   \n",
      "2019-03-23 07:00:00    2.333333  0.980000   5.250000  1.165000  0.000000   \n",
      "2019-03-23 08:00:00    1.000000  0.020000   2.500000  0.000000  0.000000   \n",
      "2019-03-23 09:00:00    1.500000  1.352000   7.400000  1.674000  0.000000   \n",
      "2019-03-23 10:00:00    1.000000  1.760000   8.750000  0.727500  0.000000   \n",
      "2019-03-23 11:00:00    1.909091  2.070000  11.090909  0.803636  0.000000   \n",
      "2019-03-23 12:00:00    2.000000  2.267143  10.260000  0.645714  0.000000   \n",
      "2019-03-23 13:00:00    2.500000  1.167000   7.550000  2.074000  0.000000   \n",
      "2019-03-23 14:00:00    2.470588  4.752941  18.330000  1.945294  1.003529   \n",
      "2019-03-23 15:00:00    1.000000  6.557143  22.214286  3.210000  1.645714   \n",
      "2019-03-23 16:00:00    2.000000  2.194545  10.454545  1.109091  0.000000   \n",
      "2019-03-23 17:00:00    1.090909  1.913636  14.818182  2.688182  0.523636   \n",
      "2019-03-23 18:00:00    1.571429  3.206429  12.821429  0.844286  0.411429   \n",
      "2019-03-23 19:00:00    1.526316  2.097895  10.263158  1.176316  0.000000   \n",
      "2019-03-23 20:00:00    1.400000  2.448000  11.100000  1.544000  0.000000   \n",
      "2019-03-23 21:00:00    1.000000  2.017143  10.571429  1.420000  0.000000   \n",
      "2019-03-23 22:00:00    1.307692  1.881538   8.923077  1.094615  0.000000   \n",
      "2019-03-23 23:00:00    1.615385  3.725385  15.115385  1.696154  0.000000   \n",
      "\n",
      "                         total  tip_in_percent  \n",
      "pickup_time                                     \n",
      "2019-03-23 00:00:00  12.965000       16.485438  \n",
      "2019-03-23 01:00:00  12.575000       19.365079  \n",
      "2019-03-23 02:00:00  13.169091       20.066665  \n",
      "2019-03-23 03:00:00  17.335000       20.510638  \n",
      "2019-03-23 04:00:00  10.215000       16.636364  \n",
      "2019-03-23 05:00:00  10.530000       16.333333  \n",
      "2019-03-23 06:00:00  23.133333        0.000000  \n",
      "2019-03-23 07:00:00   9.298333       22.190476  \n",
      "2019-03-23 08:00:00   3.300000        0.000000  \n",
      "2019-03-23 09:00:00  12.124000       22.621622  \n",
      "2019-03-23 10:00:00  12.152500        8.314286  \n",
      "2019-03-23 11:00:00  14.667273        7.245898  \n",
      "2019-03-23 12:00:00  13.420000        6.293509  \n",
      "2019-03-23 13:00:00  12.344000       27.470199  \n",
      "2019-03-23 14:00:00  24.267059       10.612624  \n",
      "2019-03-23 15:00:00  30.370000       14.450161  \n",
      "2019-03-23 16:00:00  14.431818       10.608697  \n",
      "2019-03-23 17:00:00  20.739091       18.141105  \n",
      "2019-03-23 18:00:00  16.427143        6.584960  \n",
      "2019-03-23 19:00:00  14.226316       11.461540  \n",
      "2019-03-23 20:00:00  15.944000       13.909910  \n",
      "2019-03-23 21:00:00  15.791429       13.432432  \n",
      "2019-03-23 22:00:00  13.433077       12.267237  \n",
      "2019-03-23 23:00:00  20.034615       11.221375  \n"
     ]
    }
   ],
   "source": [
    "df_means['tip_in_percent']=(df_means['tip']*100)/df_means['fare']\n",
    "print(df_means)"
   ]
  },
  {
   "cell_type": "markdown",
   "id": "15be5b49-d465-48a7-9b3b-6d58291752d9",
   "metadata": {
    "id": "15be5b49-d465-48a7-9b3b-6d58291752d9"
   },
   "source": [
    "**45.** Create a new column, time_interval, as a range of integer values beginning with zero."
   ]
  },
  {
   "cell_type": "code",
   "execution_count": 69,
   "id": "bcc2dca5-7682-4e55-b218-e94006071ebd",
   "metadata": {
    "id": "bcc2dca5-7682-4e55-b218-e94006071ebd"
   },
   "outputs": [
    {
     "name": "stdout",
     "output_type": "stream",
     "text": [
      "                     passengers  distance       fare       tip     tolls  \\\n",
      "pickup_time                                                                \n",
      "2019-03-23 00:00:00    1.000000  1.911667   8.583333  1.415000  0.000000   \n",
      "2019-03-23 01:00:00    1.250000  1.325000   7.875000  1.525000  0.000000   \n",
      "2019-03-23 02:00:00    1.727273  1.739091   8.181818  1.641818  0.000000   \n",
      "2019-03-23 03:00:00    1.500000  3.377500  11.750000  2.410000  0.000000   \n",
      "2019-03-23 04:00:00    2.000000  0.950000   5.500000  0.915000  0.000000   \n",
      "2019-03-23 05:00:00    2.000000  1.270000   6.000000  0.980000  0.000000   \n",
      "2019-03-23 06:00:00    1.000000  0.400000  21.500000  0.000000  0.000000   \n",
      "2019-03-23 07:00:00    2.333333  0.980000   5.250000  1.165000  0.000000   \n",
      "2019-03-23 08:00:00    1.000000  0.020000   2.500000  0.000000  0.000000   \n",
      "2019-03-23 09:00:00    1.500000  1.352000   7.400000  1.674000  0.000000   \n",
      "2019-03-23 10:00:00    1.000000  1.760000   8.750000  0.727500  0.000000   \n",
      "2019-03-23 11:00:00    1.909091  2.070000  11.090909  0.803636  0.000000   \n",
      "2019-03-23 12:00:00    2.000000  2.267143  10.260000  0.645714  0.000000   \n",
      "2019-03-23 13:00:00    2.500000  1.167000   7.550000  2.074000  0.000000   \n",
      "2019-03-23 14:00:00    2.470588  4.752941  18.330000  1.945294  1.003529   \n",
      "2019-03-23 15:00:00    1.000000  6.557143  22.214286  3.210000  1.645714   \n",
      "2019-03-23 16:00:00    2.000000  2.194545  10.454545  1.109091  0.000000   \n",
      "2019-03-23 17:00:00    1.090909  1.913636  14.818182  2.688182  0.523636   \n",
      "2019-03-23 18:00:00    1.571429  3.206429  12.821429  0.844286  0.411429   \n",
      "2019-03-23 19:00:00    1.526316  2.097895  10.263158  1.176316  0.000000   \n",
      "2019-03-23 20:00:00    1.400000  2.448000  11.100000  1.544000  0.000000   \n",
      "2019-03-23 21:00:00    1.000000  2.017143  10.571429  1.420000  0.000000   \n",
      "2019-03-23 22:00:00    1.307692  1.881538   8.923077  1.094615  0.000000   \n",
      "2019-03-23 23:00:00    1.615385  3.725385  15.115385  1.696154  0.000000   \n",
      "\n",
      "                         total  tip_in_percent  time_interval  \n",
      "pickup_time                                                    \n",
      "2019-03-23 00:00:00  12.965000       16.485438              0  \n",
      "2019-03-23 01:00:00  12.575000       19.365079              1  \n",
      "2019-03-23 02:00:00  13.169091       20.066665              2  \n",
      "2019-03-23 03:00:00  17.335000       20.510638              3  \n",
      "2019-03-23 04:00:00  10.215000       16.636364              4  \n",
      "2019-03-23 05:00:00  10.530000       16.333333              5  \n",
      "2019-03-23 06:00:00  23.133333        0.000000              6  \n",
      "2019-03-23 07:00:00   9.298333       22.190476              7  \n",
      "2019-03-23 08:00:00   3.300000        0.000000              8  \n",
      "2019-03-23 09:00:00  12.124000       22.621622              9  \n",
      "2019-03-23 10:00:00  12.152500        8.314286             10  \n",
      "2019-03-23 11:00:00  14.667273        7.245898             11  \n",
      "2019-03-23 12:00:00  13.420000        6.293509             12  \n",
      "2019-03-23 13:00:00  12.344000       27.470199             13  \n",
      "2019-03-23 14:00:00  24.267059       10.612624             14  \n",
      "2019-03-23 15:00:00  30.370000       14.450161             15  \n",
      "2019-03-23 16:00:00  14.431818       10.608697             16  \n",
      "2019-03-23 17:00:00  20.739091       18.141105             17  \n",
      "2019-03-23 18:00:00  16.427143        6.584960             18  \n",
      "2019-03-23 19:00:00  14.226316       11.461540             19  \n",
      "2019-03-23 20:00:00  15.944000       13.909910             20  \n",
      "2019-03-23 21:00:00  15.791429       13.432432             21  \n",
      "2019-03-23 22:00:00  13.433077       12.267237             22  \n",
      "2019-03-23 23:00:00  20.034615       11.221375             23  \n"
     ]
    }
   ],
   "source": [
    "df_means['time_interval']=range(len(df_means))\n",
    "print(df_means)"
   ]
  },
  {
   "cell_type": "markdown",
   "id": "269b329e-cade-4e54-9ed8-ce5d23006750",
   "metadata": {
    "id": "269b329e-cade-4e54-9ed8-ce5d23006750"
   },
   "source": [
    "Display the correlations between the following pairs of values:\n",
    "1. tip_in_percent and distance.\n",
    "1. tip_in_percent and passengers.\n",
    "1. tip_in_percent and time_interval."
   ]
  },
  {
   "cell_type": "code",
   "execution_count": 70,
   "id": "d2586e1f-5193-4731-9eb9-2c695c9b63b0",
   "metadata": {},
   "outputs": [
    {
     "name": "stdout",
     "output_type": "stream",
     "text": [
      "[ 0.00953302  0.32623176 -0.23239794]\n"
     ]
    }
   ],
   "source": [
    "corr=np.corrcoef(df_means[['tip_in_percent','distance','passengers','time_interval']],rowvar=False)\n",
    "print(corr[0,1:4])"
   ]
  },
  {
   "cell_type": "markdown",
   "id": "934d0379-8d2c-4579-af88-fafffdb58767",
   "metadata": {
    "id": "934d0379-8d2c-4579-af88-fafffdb58767"
   },
   "source": [
    "**47.** Admittedly, the size of the data set is fairly small given how we've subsetted it.  But based on the values in #45, which of the three pairs show the strongest correlation."
   ]
  },
  {
   "cell_type": "markdown",
   "id": "04dfb838-f8de-4e79-8076-12ef0c187fc4",
   "metadata": {
    "id": "04dfb838-f8de-4e79-8076-12ef0c187fc4"
   },
   "source": [
    "tip_in_percent and passengers"
   ]
  },
  {
   "cell_type": "markdown",
   "id": "279a9e91-2488-4e53-8234-ddde076fbe30",
   "metadata": {
    "id": "279a9e91-2488-4e53-8234-ddde076fbe30"
   },
   "source": [
    "**48.** Did our hypothesis that people tip more as the day goes on turn out to be warranted?"
   ]
  },
  {
   "cell_type": "markdown",
   "id": "6aaf603f-5099-457c-99eb-bf8370583a0c",
   "metadata": {
    "id": "6aaf603f-5099-457c-99eb-bf8370583a0c"
   },
   "source": [
    "no"
   ]
  },
  {
   "cell_type": "code",
   "execution_count": 71,
   "id": "c885f77c-db5c-462b-8231-663e56f7f497",
   "metadata": {
    "id": "c885f77c-db5c-462b-8231-663e56f7f497"
   },
   "outputs": [
    {
     "name": "stdout",
     "output_type": "stream",
     "text": [
      "[[ 1.         -0.23239794]\n",
      " [-0.23239794  1.        ]]\n"
     ]
    }
   ],
   "source": [
    "corr=np.corrcoef(df_means['tip_in_percent'],df_means['time_interval'])\n",
    "print(corr)"
   ]
  },
  {
   "cell_type": "code",
   "execution_count": null,
   "id": "32854f0f-1fba-4b9d-b809-3ac6a1b6a923",
   "metadata": {},
   "outputs": [],
   "source": []
  }
 ],
 "metadata": {
  "colab": {
   "provenance": []
  },
  "kernelspec": {
   "display_name": "Python 3 (ipykernel)",
   "language": "python",
   "name": "python3"
  },
  "language_info": {
   "codemirror_mode": {
    "name": "ipython",
    "version": 3
   },
   "file_extension": ".py",
   "mimetype": "text/x-python",
   "name": "python",
   "nbconvert_exporter": "python",
   "pygments_lexer": "ipython3",
   "version": "3.12.0"
  }
 },
 "nbformat": 4,
 "nbformat_minor": 5
}
