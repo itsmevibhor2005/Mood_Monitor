{
  "cells": [
    {
      "cell_type": "code",
      "execution_count": 2,
      "metadata": {
        "id": "_k1l6lYzqcbx"
      },
      "outputs": [],
      "source": [
        "import numpy as np"
      ]
    },
    {
      "cell_type": "markdown",
      "metadata": {
        "id": "UqHq40mOqcb0"
      },
      "source": [
        "Q1 Let x = np.arange(4, dtype=np.int64). Create an array of ones with the same shape and type as X."
      ]
    },
    {
      "cell_type": "code",
      "execution_count": null,
      "metadata": {
        "id": "RA9dI1iqqcb1"
      },
      "outputs": [],
      "source": [
        " x = np.arange(4, dtype=np.int64)\n",
        "ar = np.ones_like(x)\n",
        "print(ar)"
      ]
    },
    {
      "cell_type": "markdown",
      "metadata": {
        "id": "HnCwNhSbqcb2"
      },
      "source": [
        "Q2 Let X = np.array([[1, 2], [3, 4]]). Convert it into a matrix."
      ]
    },
    {
      "cell_type": "code",
      "execution_count": null,
      "metadata": {
        "id": "xWZDOFOiqcb2"
      },
      "outputs": [],
      "source": [
        " X = np.array([[1, 2], [3, 4]])\n",
        " m=np.matrix(X)\n",
        " print(m)"
      ]
    },
    {
      "cell_type": "markdown",
      "metadata": {
        "id": "LFhLqCqyqcb2"
      },
      "source": [
        "Q3 Create a 1-D array of 50 evenly spaced elements between 3. and 10., inclusive."
      ]
    },
    {
      "cell_type": "code",
      "execution_count": 10,
      "metadata": {
        "colab": {
          "base_uri": "https://localhost:8080/"
        },
        "id": "qZ00an_Gqcb2",
        "outputId": "57e4d250-40da-4e2e-a901-ad30273cb889"
      },
      "outputs": [
        {
          "output_type": "stream",
          "name": "stdout",
          "text": [
            "[ 3.          3.14285714  3.28571429  3.42857143  3.57142857  3.71428571\n",
            "  3.85714286  4.          4.14285714  4.28571429  4.42857143  4.57142857\n",
            "  4.71428571  4.85714286  5.          5.14285714  5.28571429  5.42857143\n",
            "  5.57142857  5.71428571  5.85714286  6.          6.14285714  6.28571429\n",
            "  6.42857143  6.57142857  6.71428571  6.85714286  7.          7.14285714\n",
            "  7.28571429  7.42857143  7.57142857  7.71428571  7.85714286  8.\n",
            "  8.14285714  8.28571429  8.42857143  8.57142857  8.71428571  8.85714286\n",
            "  9.          9.14285714  9.28571429  9.42857143  9.57142857  9.71428571\n",
            "  9.85714286 10.        ]\n"
          ]
        }
      ],
      "source": [
        "arr= np.linspace(3., 10., 50)\n",
        "print(arr)"
      ]
    },
    {
      "cell_type": "markdown",
      "metadata": {
        "id": "lCH0yrLNqcb3"
      },
      "source": [
        "Q4 Let x be array [[1, 2, 3], [4, 5, 6]]. Convert it to [1 4 2 5 3 6]."
      ]
    },
    {
      "cell_type": "code",
      "execution_count": 14,
      "metadata": {
        "colab": {
          "base_uri": "https://localhost:8080/"
        },
        "id": "OiRJBGjLqcb3",
        "outputId": "91a26636-2858-4302-b72b-19d07c8878ee"
      },
      "outputs": [
        {
          "output_type": "stream",
          "name": "stdout",
          "text": [
            "[1 4 2 5 3 6]\n"
          ]
        }
      ],
      "source": [
        "x1 = np.array([[1, 2, 3], [4, 5, 6]])\n",
        "y= x1.T.reshape(-1)\n",
        "print(y)"
      ]
    },
    {
      "cell_type": "markdown",
      "metadata": {
        "id": "APi-hua4qcb3"
      },
      "source": [
        "Q5 Let x be an array [1, 2, 3, ..., 9]. Split x into 3 arrays, each of which has 4, 2, and 3 elements in the original order."
      ]
    },
    {
      "cell_type": "code",
      "execution_count": 15,
      "metadata": {
        "colab": {
          "base_uri": "https://localhost:8080/"
        },
        "id": "1sP9Ags0qcb3",
        "outputId": "b9b72dcb-9a31-489f-c1fe-072fe5f72530"
      },
      "outputs": [
        {
          "output_type": "stream",
          "name": "stdout",
          "text": [
            "[array([1, 2, 3, 4]), array([5, 6]), array([7, 8, 9])]\n"
          ]
        }
      ],
      "source": [
        "x2 = np.arange(1, 10)\n",
        "s=np.split(x2, [4, 6])\n",
        "print(s)"
      ]
    },
    {
      "cell_type": "markdown",
      "metadata": {
        "id": "W1w2zPb5qcb3"
      },
      "source": [
        "Q6 Compute the inverse and primary diagnol sum of x=[[1,2],[3,4]]"
      ]
    },
    {
      "cell_type": "code",
      "execution_count": 53,
      "metadata": {
        "colab": {
          "base_uri": "https://localhost:8080/"
        },
        "id": "7026RDfzqcb3",
        "outputId": "cc6e5c13-9117-4726-fc60-cbc96348537e"
      },
      "outputs": [
        {
          "output_type": "stream",
          "name": "stdout",
          "text": [
            "[[-2.   1. ]\n",
            " [ 1.5 -0.5]]\n",
            "5\n"
          ]
        }
      ],
      "source": [
        "x4=[[1,2],[3,4]]\n",
        "inv=np.linalg.inv(x4)\n",
        "print(inv)\n",
        "s=np.trace(x4)\n",
        "print(s)"
      ]
    },
    {
      "cell_type": "markdown",
      "metadata": {
        "id": "kR5Di7DEqcb3"
      },
      "source": [
        "Q7 Sort x along the second axis. x = [[1,4],[3,1]]"
      ]
    },
    {
      "cell_type": "code",
      "execution_count": 25,
      "metadata": {
        "colab": {
          "base_uri": "https://localhost:8080/"
        },
        "id": "Mzss-wrmqcb4",
        "outputId": "1d7dfedc-d95d-47e6-8fcc-e3d5bc6c0e99"
      },
      "outputs": [
        {
          "output_type": "stream",
          "name": "stdout",
          "text": [
            "[[1 4]\n",
            " [1 3]]\n"
          ]
        }
      ],
      "source": [
        "x3 =[[1, 4], [3, 1]]\n",
        "sorted_x = np.sort(x3, axis=1)\n",
        "print(sorted_x)\n"
      ]
    },
    {
      "cell_type": "markdown",
      "metadata": {
        "id": "Fx8aAQllqcb4"
      },
      "source": [
        "Q8 Get the indices that would sort x(as above) along the second axis."
      ]
    },
    {
      "cell_type": "code",
      "execution_count": 27,
      "metadata": {
        "colab": {
          "base_uri": "https://localhost:8080/"
        },
        "id": "3keXIm6kqcb4",
        "outputId": "fc032ae8-a6bb-4b7c-d743-707ed87be760"
      },
      "outputs": [
        {
          "output_type": "stream",
          "name": "stdout",
          "text": [
            "[[0 1]\n",
            " [1 0]]\n"
          ]
        }
      ],
      "source": [
        "ind= np.argsort(x3, axis=1)\n",
        "print(ind)"
      ]
    },
    {
      "cell_type": "markdown",
      "metadata": {
        "id": "eJY6VBoUqcb4"
      },
      "source": [
        "Initiate x as a 2x5 array with random values from 0 to 10(not inclusive).Get the maximum and minimum values and their indices of x along the second axis."
      ]
    },
    {
      "cell_type": "code",
      "execution_count": 35,
      "metadata": {
        "colab": {
          "base_uri": "https://localhost:8080/"
        },
        "id": "NYT4DbMaqcb4",
        "outputId": "4bbd5797-f64a-40c7-9ca6-fb0e33c3899e"
      },
      "outputs": [
        {
          "output_type": "stream",
          "name": "stdout",
          "text": [
            "[[9 8 8 6 2]\n",
            " [5 8 1 2 7]]\n",
            "max value [9 8] indices [2 2]\n",
            "min value [2 1] indices [4 2]\n"
          ]
        }
      ],
      "source": [
        "x=np.random.randint(1,10,(2,5))\n",
        "print(x)\n",
        "mav= np.amax(x, axis=1)\n",
        "mai= np.argmax(x, axis=1)\n",
        "print(\"max value\",mv,\"indices\",mi)\n",
        "miv= np.amin(x, axis=1)\n",
        "mii= np.argmin(x, axis=1)\n",
        "print(\"min value\",miv,\"indices\",mii)"
      ]
    },
    {
      "cell_type": "markdown",
      "metadata": {
        "id": "d6CsiilLqcb4"
      },
      "source": [
        "Run the following load command to get the 2-Dim iris dataset. Do the following operations on it."
      ]
    },
    {
      "cell_type": "code",
      "execution_count": 36,
      "metadata": {
        "id": "F2-nd8q_qcb4"
      },
      "outputs": [],
      "source": [
        "url = 'https://archive.ics.uci.edu/ml/machine-learning-databases/iris/iris.data'\n",
        "iris_2d = np.genfromtxt(url, delimiter=',', dtype='float', usecols=[0,1,2,3])"
      ]
    },
    {
      "cell_type": "markdown",
      "metadata": {
        "id": "8-npJDojqcb4"
      },
      "source": [
        "Drop rows that contain a missing value."
      ]
    },
    {
      "cell_type": "code",
      "execution_count": null,
      "metadata": {
        "id": "EcB94_6mqcb4"
      },
      "outputs": [],
      "source": [
        "iris_2d=iris_2d[~np.isnan(iris_2d).any(axis=1)]\n",
        "print(iris_2d)"
      ]
    },
    {
      "cell_type": "markdown",
      "metadata": {
        "id": "zGsiDXURqcb4"
      },
      "source": [
        "Find the correlation between first two columns."
      ]
    },
    {
      "cell_type": "code",
      "execution_count": 42,
      "metadata": {
        "colab": {
          "base_uri": "https://localhost:8080/"
        },
        "id": "Zp2vroC7qcb5",
        "outputId": "f2a5dcb7-5fea-4879-f7d4-1bb0409e55f2"
      },
      "outputs": [
        {
          "output_type": "stream",
          "name": "stdout",
          "text": [
            "-0.10936924995064937\n"
          ]
        }
      ],
      "source": [
        "print(np.corrcoef(iris_2d[:,0],iris_2d[:,1])[0,1])\n"
      ]
    },
    {
      "cell_type": "markdown",
      "metadata": {
        "id": "CG-bIXCCqcb5"
      },
      "source": [
        "Find the mean,median and standard deviation of column 3."
      ]
    },
    {
      "cell_type": "code",
      "execution_count": 43,
      "metadata": {
        "colab": {
          "base_uri": "https://localhost:8080/"
        },
        "id": "t8Tl8o4Gqcb5",
        "outputId": "6ab382df-8bc9-4fed-ee2d-9dd822f600dc"
      },
      "outputs": [
        {
          "output_type": "stream",
          "name": "stdout",
          "text": [
            "3.758666666666666\n",
            "4.35\n",
            "1.7585291834055212\n"
          ]
        }
      ],
      "source": [
        "print(np.mean(iris_2d[:,2]))\n",
        "print(np.median(iris_2d[:,2]))\n",
        "print(np.std(iris_2d[:,2]))"
      ]
    },
    {
      "cell_type": "markdown",
      "metadata": {
        "id": "uV1ZEWa_qcb5"
      },
      "source": [
        "Create a new column for volume in iris_2d, where volume is (pi x petallength x sepal_length^2)/3"
      ]
    },
    {
      "cell_type": "code",
      "execution_count": null,
      "metadata": {
        "id": "i7TrN08Dqcb5"
      },
      "outputs": [],
      "source": [
        "volume=(np.pi)*(iris_2d[:,2]*(iris_2d[:,0])*(iris_2d[:,0]))/3\n",
        "iris = np.column_stack((iris_2d, volume.reshape(150,1)))\n",
        "np.set_printoptions(suppress=True)\n",
        "print(iris)"
      ]
    },
    {
      "cell_type": "markdown",
      "metadata": {
        "id": "8aqGRf7oqcb5"
      },
      "source": [
        "Run the following loaad command and solve the following questions"
      ]
    },
    {
      "cell_type": "code",
      "execution_count": 47,
      "metadata": {
        "id": "z10Abnlgqcb5"
      },
      "outputs": [],
      "source": [
        "url = 'https://archive.ics.uci.edu/ml/machine-learning-databases/iris/iris.data'\n",
        "iris = np.genfromtxt(url, delimiter=',', dtype='object')\n",
        "names = ('sepallength', 'sepalwidth', 'petallength', 'petalwidth', 'species')"
      ]
    },
    {
      "cell_type": "markdown",
      "metadata": {
        "id": "GQtAPjqPqcb5"
      },
      "source": [
        "Find the count of unique species."
      ]
    },
    {
      "cell_type": "code",
      "execution_count": 48,
      "metadata": {
        "colab": {
          "base_uri": "https://localhost:8080/"
        },
        "id": "ehBQlYHvqcb5",
        "outputId": "745c5131-8576-4169-d0ac-24634d054f4b"
      },
      "outputs": [
        {
          "output_type": "stream",
          "name": "stdout",
          "text": [
            "[50 50 50]\n"
          ]
        }
      ],
      "source": [
        "unique_species,counts=np.unique(iris[:,-1],return_counts=True)\n",
        "print(counts)"
      ]
    },
    {
      "cell_type": "markdown",
      "metadata": {
        "id": "woltZms4qcb5"
      },
      "source": [
        "Bin the petal length (3rd) column of iris_2d to form a text array, such that if petal length is: Less than 3 –> ‘small’ 3-5 –> ‘medium’ ‘>=5 –> ‘large’"
      ]
    },
    {
      "cell_type": "code",
      "execution_count": null,
      "metadata": {
        "id": "uvJfCWatqcb5"
      },
      "outputs": [],
      "source": [
        "petal_length = iris_2d[:, 2]\n",
        "bin_edges = [0, 3, 5, np.inf]\n",
        "bin_labels = ['small', 'medium', 'large']\n",
        "bin_indices = np.digitize(petal_length, bins=bin_edges, right=True)\n",
        "text_array = np.array(bin_labels)[bin_indices - 1]\n",
        "print(text_array)"
      ]
    },
    {
      "cell_type": "markdown",
      "metadata": {
        "id": "thQu8Fubqcb5"
      },
      "source": [
        "Find the most frequent value of petal length (3rd column) in iris dataset"
      ]
    },
    {
      "cell_type": "code",
      "execution_count": 51,
      "metadata": {
        "colab": {
          "base_uri": "https://localhost:8080/"
        },
        "id": "Pn-c4htdqcb5",
        "outputId": "8b08ec60-f4a3-4af7-8564-d0be358b728f"
      },
      "outputs": [
        {
          "output_type": "stream",
          "name": "stdout",
          "text": [
            "The most frequent petal length is: 1.5\n"
          ]
        }
      ],
      "source": [
        "petal_lengths = iris_2d[:, 2]\n",
        "unique_values, counts = np.unique(petal_lengths, return_counts=True)\n",
        "most_frequent_value = unique_values[np.argmax(counts)]\n",
        "print(f\"The most frequent petal length is: {most_frequent_value}\")"
      ]
    }
  ],
  "metadata": {
    "kernelspec": {
      "display_name": "Python 3",
      "language": "python",
      "name": "python3"
    },
    "language_info": {
      "name": "python",
      "version": "3.11.2"
    },
    "orig_nbformat": 4,
    "colab": {
      "provenance": []
    }
  },
  "nbformat": 4,
  "nbformat_minor": 0
}