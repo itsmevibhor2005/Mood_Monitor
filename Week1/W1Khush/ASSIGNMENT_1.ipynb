{
  "cells": [
    {
      "cell_type": "code",
      "execution_count": 3,
      "metadata": {
        "id": "3fgKYDco6TT1"
      },
      "outputs": [],
      "source": [
        "import numpy as np"
      ]
    },
    {
      "cell_type": "markdown",
      "metadata": {
        "id": "N30vMUit6TT3"
      },
      "source": [
        "Q1 Let x = np.arange(4, dtype=np.int64). Create an array of ones with the same shape and type as X."
      ]
    },
    {
      "cell_type": "code",
      "execution_count": 4,
      "metadata": {
        "id": "UBwbmuBh6TT5"
      },
      "outputs": [],
      "source": [
        "x = np.arange(4, dtype=np.int64)\n",
        "result = np.ones_like(x)\n"
      ]
    },
    {
      "cell_type": "markdown",
      "metadata": {
        "id": "wcNKvJ5U6TT5"
      },
      "source": [
        "Q2 Let X = np.array([[1, 2], [3, 4]]). Convert it into a matrix."
      ]
    },
    {
      "cell_type": "code",
      "execution_count": 5,
      "metadata": {
        "id": "g_6xNquV6TT6"
      },
      "outputs": [],
      "source": [
        "X = np.array([[1, 2], [3, 4]])\n",
        "matrix_X = np.asmatrix(X)\n"
      ]
    },
    {
      "cell_type": "markdown",
      "metadata": {
        "id": "A6_5bNLl6TT6"
      },
      "source": [
        "Q3 Create a 1-D array of 50 evenly spaced elements between 3. and 10., inclusive."
      ]
    },
    {
      "cell_type": "code",
      "execution_count": 6,
      "metadata": {
        "id": "JG60ztG_6TT6"
      },
      "outputs": [],
      "source": [
        "array = np.linspace(3, 10, 50)\n"
      ]
    },
    {
      "cell_type": "markdown",
      "metadata": {
        "id": "DlAoHx2r6TT6"
      },
      "source": [
        "Q4 Let x be array [[1, 2, 3], [4, 5, 6]]. Convert it to [1 4 2 5 3 6]."
      ]
    },
    {
      "cell_type": "code",
      "execution_count": 7,
      "metadata": {
        "id": "_Tb7X3J56TT7"
      },
      "outputs": [],
      "source": [
        "x_q4 = np.array([[1, 2, 3], [4, 5, 6]])\n",
        "result_q4 = x_q4.flatten(order='F')\n"
      ]
    },
    {
      "cell_type": "markdown",
      "metadata": {
        "id": "jaGQt-fo6TT7"
      },
      "source": [
        "Q5 Let x be an array [1, 2, 3, ..., 9]. Split x into 3 arrays, each of which has 4, 2, and 3 elements in the original order."
      ]
    },
    {
      "cell_type": "code",
      "execution_count": 8,
      "metadata": {
        "id": "BDpgt8DM6TT7"
      },
      "outputs": [],
      "source": [
        "x_q5 = np.arange(1, 10)\n",
        "result_q5 = np.split(x_q5, [4, 6])\n"
      ]
    },
    {
      "cell_type": "markdown",
      "metadata": {
        "id": "CNo1YQRa6TT7"
      },
      "source": [
        "Q6 Compute the inverse and primary diagnol sum of x=[[1,2],[3,4]]"
      ]
    },
    {
      "cell_type": "code",
      "execution_count": 9,
      "metadata": {
        "id": "hCMDyBy76TT7"
      },
      "outputs": [],
      "source": [
        "x_q6 = np.array([[1, 2], [3, 4]])\n",
        "inverse_q6 = np.linalg.inv(x_q6)\n",
        "diagonal_sum_q6 = np.trace(x_q6)\n"
      ]
    },
    {
      "cell_type": "markdown",
      "metadata": {
        "id": "a50C-Ntc6TT8"
      },
      "source": [
        "Q7 Sort x along the second axis. x = [[1,4],[3,1]]"
      ]
    },
    {
      "cell_type": "code",
      "execution_count": 10,
      "metadata": {
        "id": "SPEPT6pe6TT8"
      },
      "outputs": [],
      "source": [
        "x_q7 = np.array([[1, 4], [3, 1]])\n",
        "result_q7 = np.sort(x_q7, axis=1)\n"
      ]
    },
    {
      "cell_type": "markdown",
      "metadata": {
        "id": "KEo9Yc0o6TT8"
      },
      "source": [
        "Q8 Get the indices that would sort x(as above) along the second axis."
      ]
    },
    {
      "cell_type": "code",
      "execution_count": 11,
      "metadata": {
        "id": "FMR1ouh-6TT8"
      },
      "outputs": [],
      "source": [
        "indices_q8 = np.argsort(x_q7, axis=1)\n"
      ]
    },
    {
      "cell_type": "markdown",
      "metadata": {
        "id": "4gnlJpHa6TT8"
      },
      "source": [
        "Initiate x as a 2x5 array with random values from 0 to 10(not inclusive).Get the maximum and minimum values and their indices of x along the second axis."
      ]
    },
    {
      "cell_type": "code",
      "execution_count": 15,
      "metadata": {
        "id": "7N7KK1Qo6TT8"
      },
      "outputs": [],
      "source": [
        "x_q8 = np.random.rand(2, 5) * 10\n",
        "max_values_q8 = np.amax(x_q8, axis=1)\n",
        "min_values_q8 = np.amin(x_q8, axis=1)\n",
        "max_indices_q8 = np.argmax(x_q8, axis=1)\n",
        "min_indices_q8 = np.argmin(x_q8, axis=1)\n"
      ]
    },
    {
      "cell_type": "markdown",
      "metadata": {
        "id": "JAxo4hPv6TT8"
      },
      "source": [
        "Run the following load command to get the 2-Dim iris dataset. Do the following operations on it."
      ]
    },
    {
      "cell_type": "code",
      "execution_count": 16,
      "metadata": {
        "id": "rEo6TyYh6TT9"
      },
      "outputs": [],
      "source": [
        "url = 'https://archive.ics.uci.edu/ml/machine-learning-databases/iris/iris.data'\n",
        "iris_2d = np.genfromtxt(url, delimiter=',', dtype='float', usecols=[0,1,2,3])"
      ]
    },
    {
      "cell_type": "markdown",
      "metadata": {
        "id": "eji_fA456TT9"
      },
      "source": [
        "Drop rows that contain a missing value."
      ]
    },
    {
      "cell_type": "code",
      "execution_count": 17,
      "metadata": {
        "id": "hWPBiGZK6TT9"
      },
      "outputs": [],
      "source": [
        "iris_2d = iris_2d[~np.isnan(iris_2d).any(axis=1)]\n"
      ]
    },
    {
      "cell_type": "markdown",
      "metadata": {
        "id": "__57syFb6TT9"
      },
      "source": [
        "Find the correlation between first two columns."
      ]
    },
    {
      "cell_type": "code",
      "execution_count": 18,
      "metadata": {
        "id": "9QY8we206TT9"
      },
      "outputs": [],
      "source": [
        "correlation = np.corrcoef(iris_2d[:, 0], iris_2d[:, 1])[0, 1]\n"
      ]
    },
    {
      "cell_type": "markdown",
      "metadata": {
        "id": "aJXptAij6TT9"
      },
      "source": [
        "Find the mean,median and standard deviation of column 3."
      ]
    },
    {
      "cell_type": "code",
      "execution_count": 19,
      "metadata": {
        "id": "S-py5nsJ6TT-"
      },
      "outputs": [],
      "source": [
        "mean = np.mean(iris_2d[:, 2])\n",
        "median = np.median(iris_2d[:, 2])\n",
        "std = np.std(iris_2d[:, 2])\n"
      ]
    },
    {
      "cell_type": "markdown",
      "metadata": {
        "id": "tTmryrPO6TT-"
      },
      "source": [
        "Create a new column for volume in iris_2d, where volume is (pi x petallength x sepal_length^2)/3"
      ]
    },
    {
      "cell_type": "code",
      "execution_count": 20,
      "metadata": {
        "id": "I6sMNLnT6TT-"
      },
      "outputs": [],
      "source": [
        "volume = (np.pi * iris_2d[:, 2] * (iris_2d[:, 0] ** 2)) / 3\n",
        "iris_2d = np.column_stack((iris_2d, volume))"
      ]
    },
    {
      "cell_type": "markdown",
      "metadata": {
        "id": "hPEJpDI36TT-"
      },
      "source": [
        "Run the following loaad command and solve the following questions"
      ]
    },
    {
      "cell_type": "code",
      "execution_count": 27,
      "metadata": {
        "id": "mz8U0Ms_6TT-"
      },
      "outputs": [],
      "source": [
        "url = 'https://archive.ics.uci.edu/ml/machine-learning-databases/iris/iris.data'\n",
        "iris = np.genfromtxt(url, delimiter=',', dtype='object')\n",
        "names = ('sepallength', 'sepalwidth', 'petallength', 'petalwidth', 'species')\n"
      ]
    },
    {
      "cell_type": "markdown",
      "metadata": {
        "id": "aeTwte8W6TT-"
      },
      "source": [
        "Find the count of unique species."
      ]
    },
    {
      "cell_type": "code",
      "execution_count": 22,
      "metadata": {
        "id": "vfLfb89Q6TT-"
      },
      "outputs": [],
      "source": [
        "unique_species_q12 = np.unique(iris[:, 4], return_counts=True)\n"
      ]
    },
    {
      "cell_type": "markdown",
      "metadata": {
        "id": "vm6FLsPh6TT-"
      },
      "source": [
        "Bin the petal length (3rd) column of iris_2d to form a text array, such that if petal length is: Less than 3 –> ‘small’ 3-5 –> ‘medium’ ‘>=5 –> ‘large’"
      ]
    },
    {
      "cell_type": "code",
      "execution_count": 24,
      "metadata": {
        "id": "EJt33w0I6TT-"
      },
      "outputs": [],
      "source": [
        "bins = [0, 3, 5, np.inf]\n",
        "labels = ['small', 'medium', 'large']\n",
        "petal_length_category = np.digitize(iris_2d[:, 2], bins, right=True)\n",
        "petal_length_category = [labels[i - 1] for i in petal_length_category]"
      ]
    },
    {
      "cell_type": "markdown",
      "metadata": {
        "id": "mGgtzHJa6TT_"
      },
      "source": [
        "Find the most frequent value of petal length (3rd column) in iris dataset"
      ]
    },
    {
      "cell_type": "code",
      "execution_count": 29,
      "metadata": {
        "id": "9u769pqi6TT_"
      },
      "outputs": [],
      "source": [
        "petal_lengths = iris[:, 2].astype(float)\n",
        "most_frequent_petal_length = np.bincount(petal_lengths.astype(int)).argmax()\n"
      ]
    }
  ],
  "metadata": {
    "kernelspec": {
      "display_name": "Python 3",
      "language": "python",
      "name": "python3"
    },
    "language_info": {
      "name": "python",
      "version": "3.11.2"
    },
    "orig_nbformat": 4,
    "colab": {
      "provenance": []
    }
  },
  "nbformat": 4,
  "nbformat_minor": 0
}