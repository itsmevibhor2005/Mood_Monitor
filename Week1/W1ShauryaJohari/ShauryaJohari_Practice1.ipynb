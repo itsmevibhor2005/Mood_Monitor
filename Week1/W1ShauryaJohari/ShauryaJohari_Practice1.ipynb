{
 "cells": [
  {
   "cell_type": "code",
   "execution_count": 1,
   "metadata": {},
   "outputs": [],
   "source": [
    "import numpy as np"
   ]
  },
  {
   "attachments": {},
   "cell_type": "markdown",
   "metadata": {},
   "source": [
    "Q1 Let x = np.arange(4, dtype=np.int64). Create an array of ones with the same shape and type as X."
   ]
  },
  {
   "cell_type": "code",
   "execution_count": 2,
   "metadata": {},
   "outputs": [
    {
     "data": {
      "text/plain": [
       "array([1, 1, 1, 1], dtype=int64)"
      ]
     },
     "execution_count": 2,
     "metadata": {},
     "output_type": "execute_result"
    }
   ],
   "source": [
    "Y=np.ones((np.arange(4,dtype=np.int64)).shape,dtype=np.int64)\n",
    "Y"
   ]
  },
  {
   "attachments": {},
   "cell_type": "markdown",
   "metadata": {},
   "source": [
    "Q2 Let X = np.array([[1, 2], [3, 4]]). Convert it into a matrix."
   ]
  },
  {
   "cell_type": "code",
   "execution_count": 3,
   "metadata": {},
   "outputs": [
    {
     "data": {
      "text/plain": [
       "array([[1, 2],\n",
       "       [3, 4]])"
      ]
     },
     "execution_count": 3,
     "metadata": {},
     "output_type": "execute_result"
    }
   ],
   "source": [
    "X = np.array([[1, 2], [3, 4]])\n",
    "X.reshape(2,2)"
   ]
  },
  {
   "attachments": {},
   "cell_type": "markdown",
   "metadata": {},
   "source": [
    "Q3 Create a 1-D array of 50 evenly spaced elements between 3. and 10., inclusive."
   ]
  },
  {
   "cell_type": "code",
   "execution_count": 4,
   "metadata": {},
   "outputs": [
    {
     "data": {
      "text/plain": [
       "array([3.86779257, 8.24626893, 9.28040494, 8.10238285, 6.67654863,\n",
       "       8.80222106, 5.64026661, 9.06752962, 6.46010858, 9.5462299 ,\n",
       "       6.19530987, 9.23692779, 4.96749009, 7.40779282, 5.94568703,\n",
       "       4.07741794, 5.41950129, 9.62869191, 8.78526829, 7.9450798 ,\n",
       "       3.31513213, 8.19495691, 5.59880057, 5.19175842, 6.36528533,\n",
       "       4.04510727, 5.38364193, 6.58956163, 5.6373314 , 8.75895485,\n",
       "       8.05281829, 6.10925759, 9.02401158, 4.53150933, 6.28910983,\n",
       "       9.40781903, 9.29417007, 6.55182246, 5.01241684, 4.04300577,\n",
       "       6.0585501 , 4.00491752, 8.2153756 , 7.51882862, 4.56612355,\n",
       "       4.77940587, 8.70582047, 7.58835532, 3.82079248, 9.07887552])"
      ]
     },
     "execution_count": 4,
     "metadata": {},
     "output_type": "execute_result"
    }
   ],
   "source": [
    "Z=np.random.uniform(3,10,(50))\n",
    "Z"
   ]
  },
  {
   "attachments": {},
   "cell_type": "markdown",
   "metadata": {},
   "source": [
    "Q4 Let x be array [[1, 2, 3], [4, 5, 6]]. Convert it to [1 4 2 5 3 6]."
   ]
  },
  {
   "cell_type": "code",
   "execution_count": 5,
   "metadata": {},
   "outputs": [
    {
     "name": "stdout",
     "output_type": "stream",
     "text": [
      "[1 4 2 5 3 6]\n"
     ]
    }
   ],
   "source": [
    "x=np.array([[1,2,3],[4,5,6]])\n",
    "y=x.ravel(order='F')\n",
    "print(y)"
   ]
  },
  {
   "attachments": {},
   "cell_type": "markdown",
   "metadata": {},
   "source": [
    "Q5 Let x be an array [1, 2, 3, ..., 9]. Split x into 3 arrays, each of which has 4, 2, and 3 elements in the original order."
   ]
  },
  {
   "cell_type": "code",
   "execution_count": 6,
   "metadata": {},
   "outputs": [
    {
     "name": "stdout",
     "output_type": "stream",
     "text": [
      "[1 2 3 4]\n",
      "[5 6]\n",
      "[7 8 9]\n"
     ]
    }
   ],
   "source": [
    "X=np.array([1,2,3,4,5,6,7,8,9])\n",
    "Y1,Y2,Y3=np.split(X,[4,6])\n",
    "print(Y1)\n",
    "print(Y2)\n",
    "print(Y3)"
   ]
  },
  {
   "attachments": {},
   "cell_type": "markdown",
   "metadata": {},
   "source": [
    "Q6 Compute the inverse and primary diagnol sum of x=[[1,2],[3,4]]"
   ]
  },
  {
   "cell_type": "code",
   "execution_count": 7,
   "metadata": {},
   "outputs": [
    {
     "name": "stdout",
     "output_type": "stream",
     "text": [
      "[[-2.   1. ]\n",
      " [ 1.5 -0.5]]\n",
      "5\n"
     ]
    }
   ],
   "source": [
    "X=[[1,2],[3,4]]\n",
    "inv_mat=np.linalg.inv(X)\n",
    "print(inv_mat)\n",
    "s=np.trace(X)\n",
    "print(s)"
   ]
  },
  {
   "attachments": {},
   "cell_type": "markdown",
   "metadata": {},
   "source": [
    "Q7 Sort x along the second axis. x = [[1,4],[3,1]]"
   ]
  },
  {
   "cell_type": "code",
   "execution_count": 8,
   "metadata": {},
   "outputs": [
    {
     "name": "stdout",
     "output_type": "stream",
     "text": [
      "[[[1 1]\n",
      "  [3 4]]]\n"
     ]
    }
   ],
   "source": [
    "x=[[[1,4],[3,1]]]\n",
    "sort_x=np.sort(x,axis=1)\n",
    "print(sort_x)"
   ]
  },
  {
   "attachments": {},
   "cell_type": "markdown",
   "metadata": {},
   "source": [
    "Q8 Get the indices that would sort x(as above) along the second axis."
   ]
  },
  {
   "cell_type": "code",
   "execution_count": 9,
   "metadata": {},
   "outputs": [
    {
     "name": "stdout",
     "output_type": "stream",
     "text": [
      "[[0 1]\n",
      " [1 0]]\n"
     ]
    }
   ],
   "source": [
    "x = ([[1, 4],[3, 1]])\n",
    "\n",
    "sort_idx = np.argsort(x, axis=1)\n",
    "\n",
    "print(sort_idx)"
   ]
  },
  {
   "attachments": {},
   "cell_type": "markdown",
   "metadata": {},
   "source": [
    "Initiate x as a 2x5 array with random values from 0 to 10(not inclusive).Get the maximum and minimum values and their indices of x along the second axis."
   ]
  },
  {
   "cell_type": "code",
   "execution_count": 10,
   "metadata": {},
   "outputs": [
    {
     "name": "stdout",
     "output_type": "stream",
     "text": [
      "[[9 7 5 9 6]\n",
      " [1 1 3 3 9]]\n",
      "[5 1]\n",
      "[9 9]\n"
     ]
    }
   ],
   "source": [
    "X=np.random.randint(1,10,(2,5))\n",
    "print(X)\n",
    "print(np.min(X,axis=1))\n",
    "print(np.max(X,axis=1))"
   ]
  },
  {
   "attachments": {},
   "cell_type": "markdown",
   "metadata": {},
   "source": [
    "Run the following load command to get the 2-Dim iris dataset. Do the following operations on it."
   ]
  },
  {
   "cell_type": "code",
   "execution_count": 11,
   "metadata": {},
   "outputs": [],
   "source": [
    "url = 'https://archive.ics.uci.edu/ml/machine-learning-databases/iris/iris.data'\n",
    "iris_2d = np.genfromtxt(url, delimiter=',', dtype='float', usecols=[0,1,2,3])"
   ]
  },
  {
   "attachments": {},
   "cell_type": "markdown",
   "metadata": {},
   "source": [
    "Drop rows that contain a missing value."
   ]
  },
  {
   "cell_type": "code",
   "execution_count": 12,
   "metadata": {},
   "outputs": [],
   "source": [
    "\n",
    "iris_2d=iris_2d[~np.isnan(iris_2d).any(axis=1)]"
   ]
  },
  {
   "attachments": {},
   "cell_type": "markdown",
   "metadata": {},
   "source": [
    "Find the correlation between first two columns."
   ]
  },
  {
   "cell_type": "code",
   "execution_count": 13,
   "metadata": {},
   "outputs": [
    {
     "name": "stdout",
     "output_type": "stream",
     "text": [
      "-0.1093692499506493\n"
     ]
    }
   ],
   "source": [
    "print(np.corrcoef(iris_2d[:,0],iris_2d[:,1])[0,1])"
   ]
  },
  {
   "attachments": {},
   "cell_type": "markdown",
   "metadata": {},
   "source": [
    "Find the mean,median and standard deviation of column 3."
   ]
  },
  {
   "cell_type": "code",
   "execution_count": 14,
   "metadata": {},
   "outputs": [
    {
     "name": "stdout",
     "output_type": "stream",
     "text": [
      "3.758666666666666\n",
      "4.35\n",
      "1.7585291834055212\n"
     ]
    }
   ],
   "source": [
    "print(np.mean(iris_2d[:,2]))\n",
    "print(np.median(iris_2d[:,2]))\n",
    "print(np.std(iris_2d[:,2]))"
   ]
  },
  {
   "attachments": {},
   "cell_type": "markdown",
   "metadata": {},
   "source": [
    "Create a new column for volume in iris_2d, where volume is (pi x petallength x sepal_length^2)/3"
   ]
  },
  {
   "cell_type": "code",
   "execution_count": 15,
   "metadata": {},
   "outputs": [
    {
     "name": "stdout",
     "output_type": "stream",
     "text": [
      "[[  5.1          3.5          1.4          0.2         38.13265163]\n",
      " [  4.9          3.           1.4          0.2         35.20049849]\n",
      " [  4.7          3.2          1.3          0.2         30.07237208]\n",
      " [  4.6          3.1          1.5          0.2         33.23805027]\n",
      " [  5.           3.6          1.4          0.2         36.65191429]\n",
      " [  5.4          3.9          1.7          0.4         51.91167701]\n",
      " [  4.6          3.4          1.4          0.3         31.02218026]\n",
      " [  5.           3.4          1.5          0.2         39.26990817]\n",
      " [  4.4          2.9          1.4          0.2         28.38324243]\n",
      " [  4.9          3.1          1.5          0.1         37.71481981]\n",
      " [  5.4          3.7          1.5          0.2         45.80442089]\n",
      " [  4.8          3.4          1.6          0.2         38.60389053]\n",
      " [  4.8          3.           1.4          0.1         33.77840421]\n",
      " [  4.3          3.           1.1          0.1         21.29895099]\n",
      " [  5.8          4.           1.2          0.2         42.27327075]\n",
      " [  5.7          4.4          1.5          0.4         51.03517266]\n",
      " [  5.4          3.9          1.3          0.4         39.69716477]\n",
      " [  5.1          3.5          1.4          0.3         38.13265163]\n",
      " [  5.7          3.8          1.7          0.3         57.83986235]\n",
      " [  5.1          3.8          1.5          0.3         40.85641246]\n",
      " [  5.4          3.4          1.7          0.2         51.91167701]\n",
      " [  5.1          3.7          1.5          0.4         40.85641246]\n",
      " [  4.6          3.6          1.           0.2         22.15870018]\n",
      " [  5.1          3.3          1.7          0.5         46.30393412]\n",
      " [  4.8          3.4          1.9          0.2         45.84212   ]\n",
      " [  5.           3.           1.6          0.2         41.88790205]\n",
      " [  5.           3.4          1.6          0.4         41.88790205]\n",
      " [  5.2          3.5          1.5          0.2         42.47433268]\n",
      " [  5.2          3.4          1.4          0.2         39.6427105 ]\n",
      " [  4.7          3.2          1.6          0.2         37.01215025]\n",
      " [  4.8          3.1          1.6          0.2         38.60389053]\n",
      " [  5.4          3.4          1.5          0.4         45.80442089]\n",
      " [  5.2          4.1          1.5          0.1         42.47433268]\n",
      " [  5.5          4.2          1.4          0.2         44.34881629]\n",
      " [  4.9          3.1          1.5          0.1         37.71481981]\n",
      " [  5.           3.2          1.2          0.2         31.41592654]\n",
      " [  5.5          3.5          1.3          0.2         41.1810437 ]\n",
      " [  4.9          3.1          1.5          0.1         37.71481981]\n",
      " [  4.4          3.           1.3          0.2         26.35586797]\n",
      " [  5.1          3.4          1.5          0.2         40.85641246]\n",
      " [  5.           3.5          1.3          0.3         34.03392041]\n",
      " [  4.5          2.3          1.3          0.3         27.56747554]\n",
      " [  4.4          3.2          1.3          0.2         26.35586797]\n",
      " [  5.           3.5          1.6          0.6         41.88790205]\n",
      " [  5.1          3.8          1.9          0.4         51.75145578]\n",
      " [  4.8          3.           1.4          0.3         33.77840421]\n",
      " [  5.1          3.8          1.6          0.2         43.58017329]\n",
      " [  4.6          3.2          1.4          0.2         31.02218026]\n",
      " [  5.3          3.7          1.5          0.2         44.12366882]\n",
      " [  5.           3.3          1.4          0.2         36.65191429]\n",
      " [  7.           3.2          4.7          1.4        241.16959604]\n",
      " [  6.4          3.2          4.5          1.5        193.01945264]\n",
      " [  6.9          3.1          4.9          1.5        244.29966952]\n",
      " [  5.5          2.3          4.           1.3        126.71090369]\n",
      " [  6.5          2.8          4.6          1.5        203.52284408]\n",
      " [  5.7          2.8          4.5          1.3        153.10551797]\n",
      " [  6.3          3.3          4.7          1.6        195.34737279]\n",
      " [  4.9          2.4          3.3          1.          82.97260357]\n",
      " [  6.6          2.9          4.6          1.3        209.83325652]\n",
      " [  5.2          2.7          3.9          1.4        110.43326496]\n",
      " [  5.           2.           3.5          1.          91.62978573]\n",
      " [  5.9          3.           4.2          1.5        153.10237638]\n",
      " [  6.           2.2          4.           1.         150.79644737]\n",
      " [  6.1          2.9          4.7          1.4        183.14123814]\n",
      " [  5.6          2.9          3.6          1.3        118.22441474]\n",
      " [  6.7          3.1          4.4          1.4        206.83827152]\n",
      " [  5.6          3.           4.5          1.5        147.78051842]\n",
      " [  5.8          2.7          4.1          1.         144.43367505]\n",
      " [  6.2          2.2          4.5          1.5        181.14423241]\n",
      " [  5.6          2.5          3.9          1.1        128.0764493 ]\n",
      " [  5.9          3.2          4.8          1.8        174.97414443]\n",
      " [  6.1          2.8          4.           1.3        155.86488352]\n",
      " [  6.3          2.5          4.9          1.5        203.66002695]\n",
      " [  6.1          2.8          4.7          1.2        183.14123814]\n",
      " [  6.4          2.9          4.3          1.3        184.4408103 ]\n",
      " [  6.6          3.           4.4          1.4        200.71007145]\n",
      " [  6.8          2.8          4.8          1.4        232.42759088]\n",
      " [  6.7          3.           5.           1.7        235.04349037]\n",
      " [  6.           2.9          4.5          1.5        169.64600329]\n",
      " [  5.7          2.6          3.5          1.         119.08206953]\n",
      " [  5.5          2.4          3.8          1.1        120.37535851]\n",
      " [  5.5          2.4          3.7          1.         117.20758592]\n",
      " [  5.8          2.7          3.9          1.2        137.38812993]\n",
      " [  6.           2.7          5.1          1.6        192.2654704 ]\n",
      " [  5.4          3.           4.5          1.5        137.41326267]\n",
      " [  6.           3.4          4.5          1.6        169.64600329]\n",
      " [  6.7          3.1          4.7          1.5        220.94088094]\n",
      " [  6.3          2.3          4.4          1.3        182.87839155]\n",
      " [  5.6          3.           4.1          1.3        134.64447234]\n",
      " [  5.5          2.5          4.           1.3        126.71090369]\n",
      " [  5.5          2.6          4.4          1.2        139.38199406]\n",
      " [  6.1          3.           4.6          1.4        179.24461605]\n",
      " [  5.8          2.6          4.           1.2        140.91090249]\n",
      " [  5.           2.3          3.3          1.          86.39379797]\n",
      " [  5.6          2.7          4.2          1.3        137.92848386]\n",
      " [  5.7          3.           4.2          1.2        142.89848344]\n",
      " [  5.7          2.9          4.2          1.3        142.89848344]\n",
      " [  6.2          2.9          4.3          1.3        173.09337763]\n",
      " [  5.1          2.5          3.           1.1         81.71282492]\n",
      " [  5.7          2.8          4.1          1.3        139.4961386 ]\n",
      " [  6.3          3.3          6.           2.5        249.37962484]\n",
      " [  5.8          2.7          5.1          1.9        179.66140067]\n",
      " [  7.1          3.           5.9          2.1        311.45644848]\n",
      " [  6.3          2.9          5.6          1.8        232.75431652]\n",
      " [  6.5          3.           5.8          2.2        256.61575992]\n",
      " [  7.6          3.           6.6          2.1        399.20846168]\n",
      " [  4.9          2.5          4.5          1.7        113.14445942]\n",
      " [  7.3          2.9          6.3          1.8        351.57249227]\n",
      " [  6.7          2.5          5.8          1.8        272.65044882]\n",
      " [  7.2          3.6          6.1          2.5        331.14899843]\n",
      " [  6.5          3.2          5.1          2.         225.64489234]\n",
      " [  6.4          2.7          5.3          1.9        227.33402199]\n",
      " [  6.8          3.           5.5          2.1        266.32328122]\n",
      " [  5.7          2.5          5.           2.         170.11724219]\n",
      " [  5.8          2.8          5.1          2.4        179.66140067]\n",
      " [  6.4          3.2          5.3          2.3        227.33402199]\n",
      " [  6.5          3.           5.5          1.8        243.34253096]\n",
      " [  7.7          3.8          6.7          2.2        415.99189683]\n",
      " [  7.7          2.6          6.9          2.3        428.40956539]\n",
      " [  6.           2.2          5.           1.5        188.49555922]\n",
      " [  6.9          3.2          5.7          2.3        284.18532985]\n",
      " [  5.6          2.8          4.9          2.         160.91656451]\n",
      " [  7.7          2.8          6.7          2.         415.99189683]\n",
      " [  6.3          2.7          4.9          1.8        203.66002695]\n",
      " [  6.7          3.3          5.7          2.1        267.94957902]\n",
      " [  7.2          3.2          6.           1.8        325.72032632]\n",
      " [  6.2          2.8          4.8          1.8        193.22051457]\n",
      " [  6.1          3.           4.9          1.8        190.93448231]\n",
      " [  6.4          2.8          5.6          2.1        240.2019855 ]\n",
      " [  7.2          3.           5.8          1.6        314.86298211]\n",
      " [  7.4          2.8          6.1          1.9        349.80168121]\n",
      " [  7.9          3.8          6.4          2.         418.27583469]\n",
      " [  6.4          2.8          5.6          2.2        240.2019855 ]\n",
      " [  6.3          2.8          5.1          1.5        211.97268112]\n",
      " [  6.1          2.6          5.6          1.4        218.21083693]\n",
      " [  7.7          3.           6.1          2.3        378.73889114]\n",
      " [  6.3          3.4          5.6          2.4        232.75431652]\n",
      " [  6.4          3.1          5.5          1.8        235.91266433]\n",
      " [  6.           3.           4.8          1.8        180.95573685]\n",
      " [  6.9          3.1          5.4          2.1        269.22820723]\n",
      " [  6.7          3.1          5.6          2.4        263.24870921]\n",
      " [  6.9          3.1          5.1          2.3        254.2710846 ]\n",
      " [  5.8          2.7          5.1          1.9        179.66140067]\n",
      " [  6.8          3.2          5.9          2.3        285.69224713]\n",
      " [  6.7          3.3          5.7          2.5        267.94957902]\n",
      " [  6.7          3.           5.2          2.3        244.44522998]\n",
      " [  6.3          2.5          5.           1.9        207.81635403]\n",
      " [  6.5          3.           5.2          2.         230.069302  ]\n",
      " [  6.2          3.4          5.4          2.3        217.37307889]\n",
      " [  5.9          3.           5.1          1.8        185.91002846]]\n"
     ]
    }
   ],
   "source": [
    "volume=(np.pi)*(iris_2d[:,2]*(iris_2d[:,0])*(iris_2d[:,0]))/3\n",
    "volume=volume.reshape((150,1))\n",
    "#print(volume)\n",
    "iris=np.hstack([iris_2d,volume])\n",
    "np.set_printoptions(suppress=True)\n",
    "print(iris)"
   ]
  },
  {
   "attachments": {},
   "cell_type": "markdown",
   "metadata": {},
   "source": [
    "Run the following loaad command and solve the following questions"
   ]
  },
  {
   "cell_type": "code",
   "execution_count": 16,
   "metadata": {},
   "outputs": [],
   "source": [
    "url = 'https://archive.ics.uci.edu/ml/machine-learning-databases/iris/iris.data'\n",
    "iris = np.genfromtxt(url, delimiter=',', dtype='object')\n",
    "names = ('sepallength', 'sepalwidth', 'petallength', 'petalwidth', 'species')"
   ]
  },
  {
   "attachments": {},
   "cell_type": "markdown",
   "metadata": {},
   "source": [
    "Find the count of unique species."
   ]
  },
  {
   "cell_type": "code",
   "execution_count": 17,
   "metadata": {},
   "outputs": [
    {
     "name": "stdout",
     "output_type": "stream",
     "text": [
      "[50 50 50]\n"
     ]
    }
   ],
   "source": [
    "unique_species,counts=np.unique(iris[:,-1],return_counts=True)\n",
    "print(counts)"
   ]
  },
  {
   "attachments": {},
   "cell_type": "markdown",
   "metadata": {},
   "source": [
    "Bin the petal length (3rd) column of iris_2d to form a text array, such that if petal length is: Less than 3 –> ‘small’ 3-5 –> ‘medium’ ‘>=5 –> ‘large’"
   ]
  },
  {
   "cell_type": "code",
   "execution_count": 19,
   "metadata": {},
   "outputs": [
    {
     "name": "stdout",
     "output_type": "stream",
     "text": [
      "['small' 'small' 'small' 'small' 'small' 'small' 'small' 'small' 'small'\n",
      " 'small' 'small' 'small' 'small' 'small' 'small' 'small' 'small' 'small'\n",
      " 'small' 'small' 'small' 'small' 'small' 'small' 'small' 'small' 'small'\n",
      " 'small' 'small' 'small' 'small' 'small' 'small' 'small' 'small' 'small'\n",
      " 'small' 'small' 'small' 'small' 'small' 'small' 'small' 'small' 'small'\n",
      " 'small' 'small' 'small' 'small' 'small' 'medium' 'medium' 'medium'\n",
      " 'medium' 'medium' 'medium' 'medium' 'medium' 'medium' 'medium' 'medium'\n",
      " 'medium' 'medium' 'medium' 'medium' 'medium' 'medium' 'medium' 'medium'\n",
      " 'medium' 'medium' 'medium' 'medium' 'medium' 'medium' 'medium' 'medium'\n",
      " 'medium' 'medium' 'medium' 'medium' 'medium' 'medium' 'large' 'medium'\n",
      " 'medium' 'medium' 'medium' 'medium' 'medium' 'medium' 'medium' 'medium'\n",
      " 'medium' 'medium' 'medium' 'medium' 'medium' 'small' 'medium' 'large'\n",
      " 'large' 'large' 'large' 'large' 'large' 'medium' 'large' 'large' 'large'\n",
      " 'large' 'large' 'large' 'medium' 'large' 'large' 'large' 'large' 'large'\n",
      " 'medium' 'large' 'medium' 'large' 'medium' 'large' 'large' 'medium'\n",
      " 'medium' 'large' 'large' 'large' 'large' 'large' 'large' 'large' 'large'\n",
      " 'large' 'large' 'medium' 'large' 'large' 'large' 'large' 'large' 'large'\n",
      " 'large' 'medium' 'large' 'large' 'large']\n"
     ]
    }
   ],
   "source": [
    "# Find the petal length column\n",
    "petal_length = iris_2d[:, 2]\n",
    "\n",
    "# Define bin edges\n",
    "bin_edges = [0, 3, 5, np.inf]\n",
    "\n",
    "# Define bin labels\n",
    "bin_labels = ['small', 'medium', 'large']\n",
    "\n",
    "# Bin the petal length column\n",
    "bin_indices = np.digitize(petal_length, bins=bin_edges, right=True)\n",
    "\n",
    "# Array created based on bin indices\n",
    "text_array = np.array(bin_labels)[bin_indices - 1]\n",
    "\n",
    "print(text_array)"
   ]
  },
  {
   "attachments": {},
   "cell_type": "markdown",
   "metadata": {},
   "source": [
    "Find the most frequent value of petal length (3rd column) in iris dataset"
   ]
  },
  {
   "cell_type": "code",
   "execution_count": 20,
   "metadata": {},
   "outputs": [
    {
     "name": "stdout",
     "output_type": "stream",
     "text": [
      "The most frequent petal length is: 1.5\n"
     ]
    }
   ],
   "source": [
    "petal_lengths = iris_2d[:, 2]  # Assuming petal length is in the third column\n",
    "\n",
    "unique_values, counts = np.unique(petal_lengths, return_counts=True)\n",
    "\n",
    "most_frequent_value = unique_values[np.argmax(counts)]\n",
    "\n",
    "print(f\"The most frequent petal length is: {most_frequent_value}\")"
   ]
  }
 ],
 "metadata": {
  "kernelspec": {
   "display_name": "Python 3",
   "language": "python",
   "name": "python3"
  },
  "language_info": {
   "codemirror_mode": {
    "name": "ipython",
    "version": 3
   },
   "file_extension": ".py",
   "mimetype": "text/x-python",
   "name": "python",
   "nbconvert_exporter": "python",
   "pygments_lexer": "ipython3",
   "version": "3.11.5"
  },
  "orig_nbformat": 4
 },
 "nbformat": 4,
 "nbformat_minor": 2
}
